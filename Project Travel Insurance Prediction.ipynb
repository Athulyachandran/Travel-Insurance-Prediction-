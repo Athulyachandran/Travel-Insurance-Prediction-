{
 "cells": [
  {
   "cell_type": "markdown",
   "id": "c3dc7337",
   "metadata": {},
   "source": [
    "### TRAVEL INSURANCE PREDICTION"
   ]
  },
  {
   "cell_type": "markdown",
   "id": "314708fe",
   "metadata": {},
   "source": [
    "  #### ABSTRACT\n",
    "- Now people interested travel with family, friends,and also alone.\n",
    "- One of the main entrtinment field of people is no traveling ,that’s why all are aware about the importance of insurance also,if there is travel insurance we can claim if any unusual things occur,as same  as the expense will less comparably\n",
    "- Travel insurance is now a days make important role in everybodies life.\n",
    "- Most people will take different type of insurance from different companies.\n",
    "- Each company providing insurance will be change according to their criteria.\n",
    "- Some of the company will provide internationam travel package some give domestic only,this way each feature will be different.\n",
    "- What ever it is in fom 2020 there is lot of improvement in no.of people interested to purchase travel insurance than earlier.\n",
    "\n"
   ]
  },
  {
   "cell_type": "markdown",
   "id": "615251d9",
   "metadata": {},
   "source": [
    "#### Context\n",
    "A Tour & Travels Company Is Offering Travel Insurance Package To Their Customers.\n",
    "The Company Requires To Know The Which Customers Would Be Interested To Buy It Based On Its Database History.\n",
    "The Insurance Was Offered To Some Of The Customers In 2019 \n",
    "The Given Data Has Been Extracted From The Performance/Sales Of The Package During That Period.\n",
    "The Data Is Provided For Almost 2000 Of Its Previous Customers And You Are Required To Build An Intelligent Model That Can Predict If The Customer Will Be Interested To Buy The Travel Insurance Package Based On Certain Parameters Given Below.\n",
    "Image Credits-Unsplash(free to use)"
   ]
  },
  {
   "cell_type": "markdown",
   "id": "30f306ce",
   "metadata": {},
   "source": [
    "#### Inspiration\n",
    "The Solution Offered By You May Be Used For Customer Specific Advertising Of The Package.\n",
    "Exploratory Data Analysis Performed On The Data Would Help Find Interesting Insights.\n",
    "Predict Whether A Given Customer Would Like To Buy The Insurance Package, Once The Corona Lockdown Ends And Travelling Resumes.\n",
    "Your Work Could Probably Help Save Thousands Of Rupees Of A Family."
   ]
  },
  {
   "cell_type": "markdown",
   "id": "cfd07f08",
   "metadata": {},
   "source": [
    "#### Gyaps In Existing System"
   ]
  },
  {
   "cell_type": "markdown",
   "id": "0b4607cd",
   "metadata": {},
   "source": [
    "- There are less analysis based on the dataset\n",
    "- Properly not identified which is the factor that make people to not buy the insurance\n",
    "- Only 2 model is used to predict the customers interest,may be there is more suitable model is there than they considered\n",
    "- Not proper solution is given for current facing problem"
   ]
  },
  {
   "cell_type": "markdown",
   "id": "c6df7b59",
   "metadata": {},
   "source": [
    "##### The questions we want to answer are:\n",
    "\n",
    "- What kind of people are interested to purchase insurance?\n",
    "- Why is that group interested in the service?\n",
    "- If the insurance company to gain more customers, what should we change make them more inclined to make a purchase?\n"
   ]
  },
  {
   "cell_type": "markdown",
   "id": "8a53f925",
   "metadata": {},
   "source": [
    "#### importing essential modules used for analyzing the dataset"
   ]
  },
  {
   "cell_type": "code",
   "execution_count": 1,
   "id": "7ed6cb6a",
   "metadata": {},
   "outputs": [],
   "source": [
    "import pandas as pd\n",
    "import numpy as np\n",
    "import matplotlib.pyplot as plt\n",
    "import seaborn as sns\n",
    "import warnings\n",
    "warnings.filterwarnings('ignore')\n"
   ]
  },
  {
   "cell_type": "markdown",
   "id": "3e08602c",
   "metadata": {},
   "source": [
    "#### Pandas library"
   ]
  },
  {
   "cell_type": "markdown",
   "id": "79b4d1ae",
   "metadata": {},
   "source": [
    "- Pandas makes it simple to do many of the time consuming, repetitive tasks associated with working with data, including:\n",
    "- Data cleansing.\n",
    "- Data fill.\n",
    "- Data normalization.\n",
    "- Merges and joins.\n",
    "- Data visualization.\n",
    "- Statistical analysis.\n",
    "- Data inspection.\n",
    "- Loading and saving data."
   ]
  },
  {
   "cell_type": "markdown",
   "id": "83afe2b3",
   "metadata": {},
   "source": [
    "#### Numpy"
   ]
  },
  {
   "cell_type": "markdown",
   "id": "2a1059fa",
   "metadata": {},
   "source": [
    "- NumPy is a Python library used for working with arrays. \n",
    "- It also has functions for working in domain of linear algebra, fourier transform, and matrices. "
   ]
  },
  {
   "cell_type": "markdown",
   "id": "c12c89e9",
   "metadata": {},
   "source": [
    "#### Matplotlib"
   ]
  },
  {
   "cell_type": "markdown",
   "id": "7bd40bbc",
   "metadata": {},
   "source": [
    "- Matplotlib is a comprehensive library for creating static, animated, and interactive visualizations in Python.\n",
    "- Matplotlib makes easy things easy and hard things possible.\n",
    "- Create publication quality plots. Make interactive figures that can zoom, pan, update."
   ]
  },
  {
   "cell_type": "markdown",
   "id": "27f1c1bd",
   "metadata": {},
   "source": [
    "#### Seaborn"
   ]
  },
  {
   "cell_type": "markdown",
   "id": "09aa7a1a",
   "metadata": {},
   "source": [
    "- Seaborn is a Python data visualization library based on matplotlib.\n",
    "- It provides a high-level interface for drawing attractive and informative statistical graphics."
   ]
  },
  {
   "cell_type": "markdown",
   "id": "f54303d9",
   "metadata": {},
   "source": [
    "#### Reading the dataset"
   ]
  },
  {
   "cell_type": "code",
   "execution_count": 2,
   "id": "d2b30674",
   "metadata": {},
   "outputs": [],
   "source": [
    "d=pd.read_csv(r'C:\\final project\\TravelInsurancePrediction.csv')"
   ]
  },
  {
   "cell_type": "code",
   "execution_count": 3,
   "id": "71271c4a",
   "metadata": {},
   "outputs": [
    {
     "data": {
      "text/html": [
       "<div>\n",
       "<style scoped>\n",
       "    .dataframe tbody tr th:only-of-type {\n",
       "        vertical-align: middle;\n",
       "    }\n",
       "\n",
       "    .dataframe tbody tr th {\n",
       "        vertical-align: top;\n",
       "    }\n",
       "\n",
       "    .dataframe thead th {\n",
       "        text-align: right;\n",
       "    }\n",
       "</style>\n",
       "<table border=\"1\" class=\"dataframe\">\n",
       "  <thead>\n",
       "    <tr style=\"text-align: right;\">\n",
       "      <th></th>\n",
       "      <th>Unnamed: 0</th>\n",
       "      <th>Age</th>\n",
       "      <th>Employment Type</th>\n",
       "      <th>GraduateOrNot</th>\n",
       "      <th>AnnualIncome</th>\n",
       "      <th>FamilyMembers</th>\n",
       "      <th>ChronicDiseases</th>\n",
       "      <th>FrequentFlyer</th>\n",
       "      <th>EverTravelledAbroad</th>\n",
       "      <th>TravelInsurance</th>\n",
       "    </tr>\n",
       "  </thead>\n",
       "  <tbody>\n",
       "    <tr>\n",
       "      <th>0</th>\n",
       "      <td>0</td>\n",
       "      <td>31</td>\n",
       "      <td>Government Sector</td>\n",
       "      <td>Yes</td>\n",
       "      <td>400000</td>\n",
       "      <td>6</td>\n",
       "      <td>1</td>\n",
       "      <td>No</td>\n",
       "      <td>No</td>\n",
       "      <td>0</td>\n",
       "    </tr>\n",
       "    <tr>\n",
       "      <th>1</th>\n",
       "      <td>1</td>\n",
       "      <td>31</td>\n",
       "      <td>Private Sector/Self Employed</td>\n",
       "      <td>Yes</td>\n",
       "      <td>1250000</td>\n",
       "      <td>7</td>\n",
       "      <td>0</td>\n",
       "      <td>No</td>\n",
       "      <td>No</td>\n",
       "      <td>0</td>\n",
       "    </tr>\n",
       "    <tr>\n",
       "      <th>2</th>\n",
       "      <td>2</td>\n",
       "      <td>34</td>\n",
       "      <td>Private Sector/Self Employed</td>\n",
       "      <td>Yes</td>\n",
       "      <td>500000</td>\n",
       "      <td>4</td>\n",
       "      <td>1</td>\n",
       "      <td>No</td>\n",
       "      <td>No</td>\n",
       "      <td>1</td>\n",
       "    </tr>\n",
       "    <tr>\n",
       "      <th>3</th>\n",
       "      <td>3</td>\n",
       "      <td>28</td>\n",
       "      <td>Private Sector/Self Employed</td>\n",
       "      <td>Yes</td>\n",
       "      <td>700000</td>\n",
       "      <td>3</td>\n",
       "      <td>1</td>\n",
       "      <td>No</td>\n",
       "      <td>No</td>\n",
       "      <td>0</td>\n",
       "    </tr>\n",
       "    <tr>\n",
       "      <th>4</th>\n",
       "      <td>4</td>\n",
       "      <td>28</td>\n",
       "      <td>Private Sector/Self Employed</td>\n",
       "      <td>Yes</td>\n",
       "      <td>700000</td>\n",
       "      <td>8</td>\n",
       "      <td>1</td>\n",
       "      <td>Yes</td>\n",
       "      <td>No</td>\n",
       "      <td>0</td>\n",
       "    </tr>\n",
       "    <tr>\n",
       "      <th>...</th>\n",
       "      <td>...</td>\n",
       "      <td>...</td>\n",
       "      <td>...</td>\n",
       "      <td>...</td>\n",
       "      <td>...</td>\n",
       "      <td>...</td>\n",
       "      <td>...</td>\n",
       "      <td>...</td>\n",
       "      <td>...</td>\n",
       "      <td>...</td>\n",
       "    </tr>\n",
       "    <tr>\n",
       "      <th>1982</th>\n",
       "      <td>1982</td>\n",
       "      <td>33</td>\n",
       "      <td>Private Sector/Self Employed</td>\n",
       "      <td>Yes</td>\n",
       "      <td>1500000</td>\n",
       "      <td>4</td>\n",
       "      <td>0</td>\n",
       "      <td>Yes</td>\n",
       "      <td>Yes</td>\n",
       "      <td>1</td>\n",
       "    </tr>\n",
       "    <tr>\n",
       "      <th>1983</th>\n",
       "      <td>1983</td>\n",
       "      <td>28</td>\n",
       "      <td>Private Sector/Self Employed</td>\n",
       "      <td>Yes</td>\n",
       "      <td>1750000</td>\n",
       "      <td>5</td>\n",
       "      <td>1</td>\n",
       "      <td>No</td>\n",
       "      <td>Yes</td>\n",
       "      <td>0</td>\n",
       "    </tr>\n",
       "    <tr>\n",
       "      <th>1984</th>\n",
       "      <td>1984</td>\n",
       "      <td>28</td>\n",
       "      <td>Private Sector/Self Employed</td>\n",
       "      <td>Yes</td>\n",
       "      <td>1150000</td>\n",
       "      <td>6</td>\n",
       "      <td>1</td>\n",
       "      <td>No</td>\n",
       "      <td>No</td>\n",
       "      <td>0</td>\n",
       "    </tr>\n",
       "    <tr>\n",
       "      <th>1985</th>\n",
       "      <td>1985</td>\n",
       "      <td>34</td>\n",
       "      <td>Private Sector/Self Employed</td>\n",
       "      <td>Yes</td>\n",
       "      <td>1000000</td>\n",
       "      <td>6</td>\n",
       "      <td>0</td>\n",
       "      <td>Yes</td>\n",
       "      <td>Yes</td>\n",
       "      <td>1</td>\n",
       "    </tr>\n",
       "    <tr>\n",
       "      <th>1986</th>\n",
       "      <td>1986</td>\n",
       "      <td>34</td>\n",
       "      <td>Private Sector/Self Employed</td>\n",
       "      <td>Yes</td>\n",
       "      <td>500000</td>\n",
       "      <td>4</td>\n",
       "      <td>0</td>\n",
       "      <td>No</td>\n",
       "      <td>No</td>\n",
       "      <td>0</td>\n",
       "    </tr>\n",
       "  </tbody>\n",
       "</table>\n",
       "<p>1987 rows × 10 columns</p>\n",
       "</div>"
      ],
      "text/plain": [
       "      Unnamed: 0  Age               Employment Type GraduateOrNot  \\\n",
       "0              0   31             Government Sector           Yes   \n",
       "1              1   31  Private Sector/Self Employed           Yes   \n",
       "2              2   34  Private Sector/Self Employed           Yes   \n",
       "3              3   28  Private Sector/Self Employed           Yes   \n",
       "4              4   28  Private Sector/Self Employed           Yes   \n",
       "...          ...  ...                           ...           ...   \n",
       "1982        1982   33  Private Sector/Self Employed           Yes   \n",
       "1983        1983   28  Private Sector/Self Employed           Yes   \n",
       "1984        1984   28  Private Sector/Self Employed           Yes   \n",
       "1985        1985   34  Private Sector/Self Employed           Yes   \n",
       "1986        1986   34  Private Sector/Self Employed           Yes   \n",
       "\n",
       "      AnnualIncome  FamilyMembers  ChronicDiseases FrequentFlyer  \\\n",
       "0           400000              6                1            No   \n",
       "1          1250000              7                0            No   \n",
       "2           500000              4                1            No   \n",
       "3           700000              3                1            No   \n",
       "4           700000              8                1           Yes   \n",
       "...            ...            ...              ...           ...   \n",
       "1982       1500000              4                0           Yes   \n",
       "1983       1750000              5                1            No   \n",
       "1984       1150000              6                1            No   \n",
       "1985       1000000              6                0           Yes   \n",
       "1986        500000              4                0            No   \n",
       "\n",
       "     EverTravelledAbroad  TravelInsurance  \n",
       "0                     No                0  \n",
       "1                     No                0  \n",
       "2                     No                1  \n",
       "3                     No                0  \n",
       "4                     No                0  \n",
       "...                  ...              ...  \n",
       "1982                 Yes                1  \n",
       "1983                 Yes                0  \n",
       "1984                  No                0  \n",
       "1985                 Yes                1  \n",
       "1986                  No                0  \n",
       "\n",
       "[1987 rows x 10 columns]"
      ]
     },
     "execution_count": 3,
     "metadata": {},
     "output_type": "execute_result"
    }
   ],
   "source": [
    "d"
   ]
  },
  {
   "cell_type": "markdown",
   "id": "e0c8cbaf",
   "metadata": {},
   "source": [
    "- In the above step  read the dataset from the location it stored.\n",
    "- The dataset contain 10 colums(features) description of each features is showing below"
   ]
  },
  {
   "cell_type": "markdown",
   "id": "38651758",
   "metadata": {},
   "source": [
    "#### Table Content\n",
    "Age- Age Of The Customer\n",
    "\n",
    "Employment Type- The Sector In Which Customer Is Employed\n",
    "\n",
    "GraduateOrNot- Whether The Customer Is College Graduate Or Not\n",
    "\n",
    "AnnualIncome- The Yearly Income Of The Customer In Indian Rupees[Rounded To Nearest 50 Thousand Rupees]\n",
    "\n",
    "FamilyMembers- Number Of Members In Customer's Family\n",
    "\n",
    "ChronicDisease- Whether The Customer Suffers From Any Major Disease Or Conditions Like Diabetes/High BP or Asthama,etc.\n",
    "\n",
    "FrequentFlyer- Derived Data Based On Customer's History Of Booking Air Tickets On Atleast 4 Different Instances In The Last 2 Years[2017-2019].\n",
    "\n",
    "EverTravelledAbroad- Has The Customer Ever Travelled To A Foreign Country[Not Necessarily Using The Company's Services]\n",
    "\n",
    "TravelInsurance- Did The Customer Buy Travel Insurance Package During Introductory Offering Held In The Year 2019."
   ]
  },
  {
   "cell_type": "markdown",
   "id": "b7bb2ddd",
   "metadata": {},
   "source": [
    "#### Fetching the first 5 rows of the dataset"
   ]
  },
  {
   "cell_type": "code",
   "execution_count": 5,
   "id": "3bab9823",
   "metadata": {},
   "outputs": [
    {
     "data": {
      "text/html": [
       "<div>\n",
       "<style scoped>\n",
       "    .dataframe tbody tr th:only-of-type {\n",
       "        vertical-align: middle;\n",
       "    }\n",
       "\n",
       "    .dataframe tbody tr th {\n",
       "        vertical-align: top;\n",
       "    }\n",
       "\n",
       "    .dataframe thead th {\n",
       "        text-align: right;\n",
       "    }\n",
       "</style>\n",
       "<table border=\"1\" class=\"dataframe\">\n",
       "  <thead>\n",
       "    <tr style=\"text-align: right;\">\n",
       "      <th></th>\n",
       "      <th>Unnamed: 0</th>\n",
       "      <th>Age</th>\n",
       "      <th>Employment Type</th>\n",
       "      <th>GraduateOrNot</th>\n",
       "      <th>AnnualIncome</th>\n",
       "      <th>FamilyMembers</th>\n",
       "      <th>ChronicDiseases</th>\n",
       "      <th>FrequentFlyer</th>\n",
       "      <th>EverTravelledAbroad</th>\n",
       "      <th>TravelInsurance</th>\n",
       "    </tr>\n",
       "  </thead>\n",
       "  <tbody>\n",
       "    <tr>\n",
       "      <th>0</th>\n",
       "      <td>0</td>\n",
       "      <td>31</td>\n",
       "      <td>Government Sector</td>\n",
       "      <td>Yes</td>\n",
       "      <td>400000</td>\n",
       "      <td>6</td>\n",
       "      <td>1</td>\n",
       "      <td>No</td>\n",
       "      <td>No</td>\n",
       "      <td>0</td>\n",
       "    </tr>\n",
       "    <tr>\n",
       "      <th>1</th>\n",
       "      <td>1</td>\n",
       "      <td>31</td>\n",
       "      <td>Private Sector/Self Employed</td>\n",
       "      <td>Yes</td>\n",
       "      <td>1250000</td>\n",
       "      <td>7</td>\n",
       "      <td>0</td>\n",
       "      <td>No</td>\n",
       "      <td>No</td>\n",
       "      <td>0</td>\n",
       "    </tr>\n",
       "    <tr>\n",
       "      <th>2</th>\n",
       "      <td>2</td>\n",
       "      <td>34</td>\n",
       "      <td>Private Sector/Self Employed</td>\n",
       "      <td>Yes</td>\n",
       "      <td>500000</td>\n",
       "      <td>4</td>\n",
       "      <td>1</td>\n",
       "      <td>No</td>\n",
       "      <td>No</td>\n",
       "      <td>1</td>\n",
       "    </tr>\n",
       "    <tr>\n",
       "      <th>3</th>\n",
       "      <td>3</td>\n",
       "      <td>28</td>\n",
       "      <td>Private Sector/Self Employed</td>\n",
       "      <td>Yes</td>\n",
       "      <td>700000</td>\n",
       "      <td>3</td>\n",
       "      <td>1</td>\n",
       "      <td>No</td>\n",
       "      <td>No</td>\n",
       "      <td>0</td>\n",
       "    </tr>\n",
       "    <tr>\n",
       "      <th>4</th>\n",
       "      <td>4</td>\n",
       "      <td>28</td>\n",
       "      <td>Private Sector/Self Employed</td>\n",
       "      <td>Yes</td>\n",
       "      <td>700000</td>\n",
       "      <td>8</td>\n",
       "      <td>1</td>\n",
       "      <td>Yes</td>\n",
       "      <td>No</td>\n",
       "      <td>0</td>\n",
       "    </tr>\n",
       "  </tbody>\n",
       "</table>\n",
       "</div>"
      ],
      "text/plain": [
       "   Unnamed: 0  Age               Employment Type GraduateOrNot  AnnualIncome  \\\n",
       "0           0   31             Government Sector           Yes        400000   \n",
       "1           1   31  Private Sector/Self Employed           Yes       1250000   \n",
       "2           2   34  Private Sector/Self Employed           Yes        500000   \n",
       "3           3   28  Private Sector/Self Employed           Yes        700000   \n",
       "4           4   28  Private Sector/Self Employed           Yes        700000   \n",
       "\n",
       "   FamilyMembers  ChronicDiseases FrequentFlyer EverTravelledAbroad  \\\n",
       "0              6                1            No                  No   \n",
       "1              7                0            No                  No   \n",
       "2              4                1            No                  No   \n",
       "3              3                1            No                  No   \n",
       "4              8                1           Yes                  No   \n",
       "\n",
       "   TravelInsurance  \n",
       "0                0  \n",
       "1                0  \n",
       "2                1  \n",
       "3                0  \n",
       "4                0  "
      ]
     },
     "execution_count": 5,
     "metadata": {},
     "output_type": "execute_result"
    }
   ],
   "source": [
    "d.head()"
   ]
  },
  {
   "cell_type": "markdown",
   "id": "70c080bc",
   "metadata": {},
   "source": [
    "- Head is used for fetching the initial 5 rows from our dataset\n",
    "- Bydefault head will take 5 values but if we mention any number in that function it will take that given number of rows from starting\n",
    "- eg if we use head(10) it will print 10 rows from starting"
   ]
  },
  {
   "cell_type": "markdown",
   "id": "acc9309b",
   "metadata": {},
   "source": [
    "#### Fetching the final 5 rows of the dataset"
   ]
  },
  {
   "cell_type": "code",
   "execution_count": 6,
   "id": "cdca202a",
   "metadata": {},
   "outputs": [
    {
     "data": {
      "text/html": [
       "<div>\n",
       "<style scoped>\n",
       "    .dataframe tbody tr th:only-of-type {\n",
       "        vertical-align: middle;\n",
       "    }\n",
       "\n",
       "    .dataframe tbody tr th {\n",
       "        vertical-align: top;\n",
       "    }\n",
       "\n",
       "    .dataframe thead th {\n",
       "        text-align: right;\n",
       "    }\n",
       "</style>\n",
       "<table border=\"1\" class=\"dataframe\">\n",
       "  <thead>\n",
       "    <tr style=\"text-align: right;\">\n",
       "      <th></th>\n",
       "      <th>Unnamed: 0</th>\n",
       "      <th>Age</th>\n",
       "      <th>Employment Type</th>\n",
       "      <th>GraduateOrNot</th>\n",
       "      <th>AnnualIncome</th>\n",
       "      <th>FamilyMembers</th>\n",
       "      <th>ChronicDiseases</th>\n",
       "      <th>FrequentFlyer</th>\n",
       "      <th>EverTravelledAbroad</th>\n",
       "      <th>TravelInsurance</th>\n",
       "    </tr>\n",
       "  </thead>\n",
       "  <tbody>\n",
       "    <tr>\n",
       "      <th>1982</th>\n",
       "      <td>1982</td>\n",
       "      <td>33</td>\n",
       "      <td>Private Sector/Self Employed</td>\n",
       "      <td>Yes</td>\n",
       "      <td>1500000</td>\n",
       "      <td>4</td>\n",
       "      <td>0</td>\n",
       "      <td>Yes</td>\n",
       "      <td>Yes</td>\n",
       "      <td>1</td>\n",
       "    </tr>\n",
       "    <tr>\n",
       "      <th>1983</th>\n",
       "      <td>1983</td>\n",
       "      <td>28</td>\n",
       "      <td>Private Sector/Self Employed</td>\n",
       "      <td>Yes</td>\n",
       "      <td>1750000</td>\n",
       "      <td>5</td>\n",
       "      <td>1</td>\n",
       "      <td>No</td>\n",
       "      <td>Yes</td>\n",
       "      <td>0</td>\n",
       "    </tr>\n",
       "    <tr>\n",
       "      <th>1984</th>\n",
       "      <td>1984</td>\n",
       "      <td>28</td>\n",
       "      <td>Private Sector/Self Employed</td>\n",
       "      <td>Yes</td>\n",
       "      <td>1150000</td>\n",
       "      <td>6</td>\n",
       "      <td>1</td>\n",
       "      <td>No</td>\n",
       "      <td>No</td>\n",
       "      <td>0</td>\n",
       "    </tr>\n",
       "    <tr>\n",
       "      <th>1985</th>\n",
       "      <td>1985</td>\n",
       "      <td>34</td>\n",
       "      <td>Private Sector/Self Employed</td>\n",
       "      <td>Yes</td>\n",
       "      <td>1000000</td>\n",
       "      <td>6</td>\n",
       "      <td>0</td>\n",
       "      <td>Yes</td>\n",
       "      <td>Yes</td>\n",
       "      <td>1</td>\n",
       "    </tr>\n",
       "    <tr>\n",
       "      <th>1986</th>\n",
       "      <td>1986</td>\n",
       "      <td>34</td>\n",
       "      <td>Private Sector/Self Employed</td>\n",
       "      <td>Yes</td>\n",
       "      <td>500000</td>\n",
       "      <td>4</td>\n",
       "      <td>0</td>\n",
       "      <td>No</td>\n",
       "      <td>No</td>\n",
       "      <td>0</td>\n",
       "    </tr>\n",
       "  </tbody>\n",
       "</table>\n",
       "</div>"
      ],
      "text/plain": [
       "      Unnamed: 0  Age               Employment Type GraduateOrNot  \\\n",
       "1982        1982   33  Private Sector/Self Employed           Yes   \n",
       "1983        1983   28  Private Sector/Self Employed           Yes   \n",
       "1984        1984   28  Private Sector/Self Employed           Yes   \n",
       "1985        1985   34  Private Sector/Self Employed           Yes   \n",
       "1986        1986   34  Private Sector/Self Employed           Yes   \n",
       "\n",
       "      AnnualIncome  FamilyMembers  ChronicDiseases FrequentFlyer  \\\n",
       "1982       1500000              4                0           Yes   \n",
       "1983       1750000              5                1            No   \n",
       "1984       1150000              6                1            No   \n",
       "1985       1000000              6                0           Yes   \n",
       "1986        500000              4                0            No   \n",
       "\n",
       "     EverTravelledAbroad  TravelInsurance  \n",
       "1982                 Yes                1  \n",
       "1983                 Yes                0  \n",
       "1984                  No                0  \n",
       "1985                 Yes                1  \n",
       "1986                  No                0  "
      ]
     },
     "execution_count": 6,
     "metadata": {},
     "output_type": "execute_result"
    }
   ],
   "source": [
    "d.tail()"
   ]
  },
  {
   "cell_type": "markdown",
   "id": "bf958bf1",
   "metadata": {},
   "source": [
    "- tail is used for fetching the final 5 rows from our dataset\n",
    "- Bydefault head will take 5 values but if we mention any number in that function it will take that given number of rows from end\n",
    "- eg if we use tail(10) it will print 10 rows from ending"
   ]
  },
  {
   "cell_type": "markdown",
   "id": "7dc93261",
   "metadata": {},
   "source": [
    "#### Information fetching about the dtaset"
   ]
  },
  {
   "cell_type": "code",
   "execution_count": 7,
   "id": "55ded8ef",
   "metadata": {},
   "outputs": [
    {
     "name": "stdout",
     "output_type": "stream",
     "text": [
      "<class 'pandas.core.frame.DataFrame'>\n",
      "RangeIndex: 1987 entries, 0 to 1986\n",
      "Data columns (total 10 columns):\n",
      " #   Column               Non-Null Count  Dtype \n",
      "---  ------               --------------  ----- \n",
      " 0   Unnamed: 0           1987 non-null   int64 \n",
      " 1   Age                  1987 non-null   int64 \n",
      " 2   Employment Type      1987 non-null   object\n",
      " 3   GraduateOrNot        1987 non-null   object\n",
      " 4   AnnualIncome         1987 non-null   int64 \n",
      " 5   FamilyMembers        1987 non-null   int64 \n",
      " 6   ChronicDiseases      1987 non-null   int64 \n",
      " 7   FrequentFlyer        1987 non-null   object\n",
      " 8   EverTravelledAbroad  1987 non-null   object\n",
      " 9   TravelInsurance      1987 non-null   int64 \n",
      "dtypes: int64(6), object(4)\n",
      "memory usage: 155.4+ KB\n"
     ]
    }
   ],
   "source": [
    "d.info()"
   ]
  },
  {
   "cell_type": "markdown",
   "id": "bc08284d",
   "metadata": {},
   "source": [
    "- The info() method prints information about the DataFrame.\n",
    "- The information contains the number of columns, column labels, column data types, memory usage, range index, and the number of cells in each column (non-null values)\n",
    "- Here in this dataset there 10 columns\n",
    "- rangeindex is 1987 entries\n",
    "- datatypes are int and object are there(int 6 and object 4)\n",
    "- memory used here is 155.4+KB\n",
    "- There is no null value in the dataset(if there is any null value we can remove that usinf drona()method)\n"
   ]
  },
  {
   "cell_type": "markdown",
   "id": "7e2f69c4",
   "metadata": {},
   "source": [
    "#### Statistical information about the dataset"
   ]
  },
  {
   "cell_type": "code",
   "execution_count": 8,
   "id": "4c4ec93d",
   "metadata": {},
   "outputs": [
    {
     "data": {
      "text/html": [
       "<div>\n",
       "<style scoped>\n",
       "    .dataframe tbody tr th:only-of-type {\n",
       "        vertical-align: middle;\n",
       "    }\n",
       "\n",
       "    .dataframe tbody tr th {\n",
       "        vertical-align: top;\n",
       "    }\n",
       "\n",
       "    .dataframe thead th {\n",
       "        text-align: right;\n",
       "    }\n",
       "</style>\n",
       "<table border=\"1\" class=\"dataframe\">\n",
       "  <thead>\n",
       "    <tr style=\"text-align: right;\">\n",
       "      <th></th>\n",
       "      <th>Unnamed: 0</th>\n",
       "      <th>Age</th>\n",
       "      <th>AnnualIncome</th>\n",
       "      <th>FamilyMembers</th>\n",
       "      <th>ChronicDiseases</th>\n",
       "      <th>TravelInsurance</th>\n",
       "    </tr>\n",
       "  </thead>\n",
       "  <tbody>\n",
       "    <tr>\n",
       "      <th>count</th>\n",
       "      <td>1987.000000</td>\n",
       "      <td>1987.000000</td>\n",
       "      <td>1.987000e+03</td>\n",
       "      <td>1987.000000</td>\n",
       "      <td>1987.000000</td>\n",
       "      <td>1987.000000</td>\n",
       "    </tr>\n",
       "    <tr>\n",
       "      <th>mean</th>\n",
       "      <td>993.000000</td>\n",
       "      <td>29.650226</td>\n",
       "      <td>9.327630e+05</td>\n",
       "      <td>4.752894</td>\n",
       "      <td>0.277806</td>\n",
       "      <td>0.357323</td>\n",
       "    </tr>\n",
       "    <tr>\n",
       "      <th>std</th>\n",
       "      <td>573.741812</td>\n",
       "      <td>2.913308</td>\n",
       "      <td>3.768557e+05</td>\n",
       "      <td>1.609650</td>\n",
       "      <td>0.448030</td>\n",
       "      <td>0.479332</td>\n",
       "    </tr>\n",
       "    <tr>\n",
       "      <th>min</th>\n",
       "      <td>0.000000</td>\n",
       "      <td>25.000000</td>\n",
       "      <td>3.000000e+05</td>\n",
       "      <td>2.000000</td>\n",
       "      <td>0.000000</td>\n",
       "      <td>0.000000</td>\n",
       "    </tr>\n",
       "    <tr>\n",
       "      <th>25%</th>\n",
       "      <td>496.500000</td>\n",
       "      <td>28.000000</td>\n",
       "      <td>6.000000e+05</td>\n",
       "      <td>4.000000</td>\n",
       "      <td>0.000000</td>\n",
       "      <td>0.000000</td>\n",
       "    </tr>\n",
       "    <tr>\n",
       "      <th>50%</th>\n",
       "      <td>993.000000</td>\n",
       "      <td>29.000000</td>\n",
       "      <td>9.000000e+05</td>\n",
       "      <td>5.000000</td>\n",
       "      <td>0.000000</td>\n",
       "      <td>0.000000</td>\n",
       "    </tr>\n",
       "    <tr>\n",
       "      <th>75%</th>\n",
       "      <td>1489.500000</td>\n",
       "      <td>32.000000</td>\n",
       "      <td>1.250000e+06</td>\n",
       "      <td>6.000000</td>\n",
       "      <td>1.000000</td>\n",
       "      <td>1.000000</td>\n",
       "    </tr>\n",
       "    <tr>\n",
       "      <th>max</th>\n",
       "      <td>1986.000000</td>\n",
       "      <td>35.000000</td>\n",
       "      <td>1.800000e+06</td>\n",
       "      <td>9.000000</td>\n",
       "      <td>1.000000</td>\n",
       "      <td>1.000000</td>\n",
       "    </tr>\n",
       "  </tbody>\n",
       "</table>\n",
       "</div>"
      ],
      "text/plain": [
       "        Unnamed: 0          Age  AnnualIncome  FamilyMembers  ChronicDiseases  \\\n",
       "count  1987.000000  1987.000000  1.987000e+03    1987.000000      1987.000000   \n",
       "mean    993.000000    29.650226  9.327630e+05       4.752894         0.277806   \n",
       "std     573.741812     2.913308  3.768557e+05       1.609650         0.448030   \n",
       "min       0.000000    25.000000  3.000000e+05       2.000000         0.000000   \n",
       "25%     496.500000    28.000000  6.000000e+05       4.000000         0.000000   \n",
       "50%     993.000000    29.000000  9.000000e+05       5.000000         0.000000   \n",
       "75%    1489.500000    32.000000  1.250000e+06       6.000000         1.000000   \n",
       "max    1986.000000    35.000000  1.800000e+06       9.000000         1.000000   \n",
       "\n",
       "       TravelInsurance  \n",
       "count      1987.000000  \n",
       "mean          0.357323  \n",
       "std           0.479332  \n",
       "min           0.000000  \n",
       "25%           0.000000  \n",
       "50%           0.000000  \n",
       "75%           1.000000  \n",
       "max           1.000000  "
      ]
     },
     "execution_count": 8,
     "metadata": {},
     "output_type": "execute_result"
    }
   ],
   "source": [
    "d.describe()"
   ]
  },
  {
   "cell_type": "markdown",
   "id": "f92f7be9",
   "metadata": {},
   "source": [
    "- The describe() method returns description of the data in the DataFrame.\n",
    "- If the DataFrame contains numerical data, the description contains these information for each column:\n",
    "- count-The number of not-empty values. \n",
    "- mean - The average (mean) value.\n",
    "- max- maximum value of each feature\n",
    "- min - minimum value in the features\n",
    "- std - The standard deviation.\n",
    "- 25% - The 25% percentile*.\n",
    "- 50% - The 50% percentile*.\n",
    "- 75% - The 75% percentile*.\n",
    "- Percentile meaning: how many of the values are less than the given percentile."
   ]
  },
  {
   "cell_type": "markdown",
   "id": "d5952087",
   "metadata": {},
   "source": [
    "#### Statistical information about all quantitative and qualitative value"
   ]
  },
  {
   "cell_type": "code",
   "execution_count": 9,
   "id": "108cc22c",
   "metadata": {},
   "outputs": [
    {
     "data": {
      "text/html": [
       "<div>\n",
       "<style scoped>\n",
       "    .dataframe tbody tr th:only-of-type {\n",
       "        vertical-align: middle;\n",
       "    }\n",
       "\n",
       "    .dataframe tbody tr th {\n",
       "        vertical-align: top;\n",
       "    }\n",
       "\n",
       "    .dataframe thead th {\n",
       "        text-align: right;\n",
       "    }\n",
       "</style>\n",
       "<table border=\"1\" class=\"dataframe\">\n",
       "  <thead>\n",
       "    <tr style=\"text-align: right;\">\n",
       "      <th></th>\n",
       "      <th>Unnamed: 0</th>\n",
       "      <th>Age</th>\n",
       "      <th>Employment Type</th>\n",
       "      <th>GraduateOrNot</th>\n",
       "      <th>AnnualIncome</th>\n",
       "      <th>FamilyMembers</th>\n",
       "      <th>ChronicDiseases</th>\n",
       "      <th>FrequentFlyer</th>\n",
       "      <th>EverTravelledAbroad</th>\n",
       "      <th>TravelInsurance</th>\n",
       "    </tr>\n",
       "  </thead>\n",
       "  <tbody>\n",
       "    <tr>\n",
       "      <th>count</th>\n",
       "      <td>1987.000000</td>\n",
       "      <td>1987.000000</td>\n",
       "      <td>1987</td>\n",
       "      <td>1987</td>\n",
       "      <td>1.987000e+03</td>\n",
       "      <td>1987.000000</td>\n",
       "      <td>1987.000000</td>\n",
       "      <td>1987</td>\n",
       "      <td>1987</td>\n",
       "      <td>1987.000000</td>\n",
       "    </tr>\n",
       "    <tr>\n",
       "      <th>unique</th>\n",
       "      <td>NaN</td>\n",
       "      <td>NaN</td>\n",
       "      <td>2</td>\n",
       "      <td>2</td>\n",
       "      <td>NaN</td>\n",
       "      <td>NaN</td>\n",
       "      <td>NaN</td>\n",
       "      <td>2</td>\n",
       "      <td>2</td>\n",
       "      <td>NaN</td>\n",
       "    </tr>\n",
       "    <tr>\n",
       "      <th>top</th>\n",
       "      <td>NaN</td>\n",
       "      <td>NaN</td>\n",
       "      <td>Private Sector/Self Employed</td>\n",
       "      <td>Yes</td>\n",
       "      <td>NaN</td>\n",
       "      <td>NaN</td>\n",
       "      <td>NaN</td>\n",
       "      <td>No</td>\n",
       "      <td>No</td>\n",
       "      <td>NaN</td>\n",
       "    </tr>\n",
       "    <tr>\n",
       "      <th>freq</th>\n",
       "      <td>NaN</td>\n",
       "      <td>NaN</td>\n",
       "      <td>1417</td>\n",
       "      <td>1692</td>\n",
       "      <td>NaN</td>\n",
       "      <td>NaN</td>\n",
       "      <td>NaN</td>\n",
       "      <td>1570</td>\n",
       "      <td>1607</td>\n",
       "      <td>NaN</td>\n",
       "    </tr>\n",
       "    <tr>\n",
       "      <th>mean</th>\n",
       "      <td>993.000000</td>\n",
       "      <td>29.650226</td>\n",
       "      <td>NaN</td>\n",
       "      <td>NaN</td>\n",
       "      <td>9.327630e+05</td>\n",
       "      <td>4.752894</td>\n",
       "      <td>0.277806</td>\n",
       "      <td>NaN</td>\n",
       "      <td>NaN</td>\n",
       "      <td>0.357323</td>\n",
       "    </tr>\n",
       "    <tr>\n",
       "      <th>std</th>\n",
       "      <td>573.741812</td>\n",
       "      <td>2.913308</td>\n",
       "      <td>NaN</td>\n",
       "      <td>NaN</td>\n",
       "      <td>3.768557e+05</td>\n",
       "      <td>1.609650</td>\n",
       "      <td>0.448030</td>\n",
       "      <td>NaN</td>\n",
       "      <td>NaN</td>\n",
       "      <td>0.479332</td>\n",
       "    </tr>\n",
       "    <tr>\n",
       "      <th>min</th>\n",
       "      <td>0.000000</td>\n",
       "      <td>25.000000</td>\n",
       "      <td>NaN</td>\n",
       "      <td>NaN</td>\n",
       "      <td>3.000000e+05</td>\n",
       "      <td>2.000000</td>\n",
       "      <td>0.000000</td>\n",
       "      <td>NaN</td>\n",
       "      <td>NaN</td>\n",
       "      <td>0.000000</td>\n",
       "    </tr>\n",
       "    <tr>\n",
       "      <th>25%</th>\n",
       "      <td>496.500000</td>\n",
       "      <td>28.000000</td>\n",
       "      <td>NaN</td>\n",
       "      <td>NaN</td>\n",
       "      <td>6.000000e+05</td>\n",
       "      <td>4.000000</td>\n",
       "      <td>0.000000</td>\n",
       "      <td>NaN</td>\n",
       "      <td>NaN</td>\n",
       "      <td>0.000000</td>\n",
       "    </tr>\n",
       "    <tr>\n",
       "      <th>50%</th>\n",
       "      <td>993.000000</td>\n",
       "      <td>29.000000</td>\n",
       "      <td>NaN</td>\n",
       "      <td>NaN</td>\n",
       "      <td>9.000000e+05</td>\n",
       "      <td>5.000000</td>\n",
       "      <td>0.000000</td>\n",
       "      <td>NaN</td>\n",
       "      <td>NaN</td>\n",
       "      <td>0.000000</td>\n",
       "    </tr>\n",
       "    <tr>\n",
       "      <th>75%</th>\n",
       "      <td>1489.500000</td>\n",
       "      <td>32.000000</td>\n",
       "      <td>NaN</td>\n",
       "      <td>NaN</td>\n",
       "      <td>1.250000e+06</td>\n",
       "      <td>6.000000</td>\n",
       "      <td>1.000000</td>\n",
       "      <td>NaN</td>\n",
       "      <td>NaN</td>\n",
       "      <td>1.000000</td>\n",
       "    </tr>\n",
       "    <tr>\n",
       "      <th>max</th>\n",
       "      <td>1986.000000</td>\n",
       "      <td>35.000000</td>\n",
       "      <td>NaN</td>\n",
       "      <td>NaN</td>\n",
       "      <td>1.800000e+06</td>\n",
       "      <td>9.000000</td>\n",
       "      <td>1.000000</td>\n",
       "      <td>NaN</td>\n",
       "      <td>NaN</td>\n",
       "      <td>1.000000</td>\n",
       "    </tr>\n",
       "  </tbody>\n",
       "</table>\n",
       "</div>"
      ],
      "text/plain": [
       "         Unnamed: 0          Age               Employment Type GraduateOrNot  \\\n",
       "count   1987.000000  1987.000000                          1987          1987   \n",
       "unique          NaN          NaN                             2             2   \n",
       "top             NaN          NaN  Private Sector/Self Employed           Yes   \n",
       "freq            NaN          NaN                          1417          1692   \n",
       "mean     993.000000    29.650226                           NaN           NaN   \n",
       "std      573.741812     2.913308                           NaN           NaN   \n",
       "min        0.000000    25.000000                           NaN           NaN   \n",
       "25%      496.500000    28.000000                           NaN           NaN   \n",
       "50%      993.000000    29.000000                           NaN           NaN   \n",
       "75%     1489.500000    32.000000                           NaN           NaN   \n",
       "max     1986.000000    35.000000                           NaN           NaN   \n",
       "\n",
       "        AnnualIncome  FamilyMembers  ChronicDiseases FrequentFlyer  \\\n",
       "count   1.987000e+03    1987.000000      1987.000000          1987   \n",
       "unique           NaN            NaN              NaN             2   \n",
       "top              NaN            NaN              NaN            No   \n",
       "freq             NaN            NaN              NaN          1570   \n",
       "mean    9.327630e+05       4.752894         0.277806           NaN   \n",
       "std     3.768557e+05       1.609650         0.448030           NaN   \n",
       "min     3.000000e+05       2.000000         0.000000           NaN   \n",
       "25%     6.000000e+05       4.000000         0.000000           NaN   \n",
       "50%     9.000000e+05       5.000000         0.000000           NaN   \n",
       "75%     1.250000e+06       6.000000         1.000000           NaN   \n",
       "max     1.800000e+06       9.000000         1.000000           NaN   \n",
       "\n",
       "       EverTravelledAbroad  TravelInsurance  \n",
       "count                 1987      1987.000000  \n",
       "unique                   2              NaN  \n",
       "top                     No              NaN  \n",
       "freq                  1607              NaN  \n",
       "mean                   NaN         0.357323  \n",
       "std                    NaN         0.479332  \n",
       "min                    NaN         0.000000  \n",
       "25%                    NaN         0.000000  \n",
       "50%                    NaN         0.000000  \n",
       "75%                    NaN         1.000000  \n",
       "max                    NaN         1.000000  "
      ]
     },
     "execution_count": 9,
     "metadata": {},
     "output_type": "execute_result"
    }
   ],
   "source": [
    "d.describe(include=\"all\")"
   ]
  },
  {
   "cell_type": "markdown",
   "id": "98516ec2",
   "metadata": {},
   "source": [
    "- Bydefault the describe() will give information from the numerical data\n",
    "- if we want to know catecorical data then we can use describe(include=\"All\")"
   ]
  },
  {
   "cell_type": "markdown",
   "id": "6f64c671",
   "metadata": {},
   "source": [
    "#### Checking the existace of nullvalue"
   ]
  },
  {
   "cell_type": "code",
   "execution_count": 10,
   "id": "4672ae2b",
   "metadata": {},
   "outputs": [
    {
     "data": {
      "text/html": [
       "<div>\n",
       "<style scoped>\n",
       "    .dataframe tbody tr th:only-of-type {\n",
       "        vertical-align: middle;\n",
       "    }\n",
       "\n",
       "    .dataframe tbody tr th {\n",
       "        vertical-align: top;\n",
       "    }\n",
       "\n",
       "    .dataframe thead th {\n",
       "        text-align: right;\n",
       "    }\n",
       "</style>\n",
       "<table border=\"1\" class=\"dataframe\">\n",
       "  <thead>\n",
       "    <tr style=\"text-align: right;\">\n",
       "      <th></th>\n",
       "      <th>Unnamed: 0</th>\n",
       "      <th>Age</th>\n",
       "      <th>Employment Type</th>\n",
       "      <th>GraduateOrNot</th>\n",
       "      <th>AnnualIncome</th>\n",
       "      <th>FamilyMembers</th>\n",
       "      <th>ChronicDiseases</th>\n",
       "      <th>FrequentFlyer</th>\n",
       "      <th>EverTravelledAbroad</th>\n",
       "      <th>TravelInsurance</th>\n",
       "    </tr>\n",
       "  </thead>\n",
       "  <tbody>\n",
       "    <tr>\n",
       "      <th>0</th>\n",
       "      <td>False</td>\n",
       "      <td>False</td>\n",
       "      <td>False</td>\n",
       "      <td>False</td>\n",
       "      <td>False</td>\n",
       "      <td>False</td>\n",
       "      <td>False</td>\n",
       "      <td>False</td>\n",
       "      <td>False</td>\n",
       "      <td>False</td>\n",
       "    </tr>\n",
       "    <tr>\n",
       "      <th>1</th>\n",
       "      <td>False</td>\n",
       "      <td>False</td>\n",
       "      <td>False</td>\n",
       "      <td>False</td>\n",
       "      <td>False</td>\n",
       "      <td>False</td>\n",
       "      <td>False</td>\n",
       "      <td>False</td>\n",
       "      <td>False</td>\n",
       "      <td>False</td>\n",
       "    </tr>\n",
       "    <tr>\n",
       "      <th>2</th>\n",
       "      <td>False</td>\n",
       "      <td>False</td>\n",
       "      <td>False</td>\n",
       "      <td>False</td>\n",
       "      <td>False</td>\n",
       "      <td>False</td>\n",
       "      <td>False</td>\n",
       "      <td>False</td>\n",
       "      <td>False</td>\n",
       "      <td>False</td>\n",
       "    </tr>\n",
       "    <tr>\n",
       "      <th>3</th>\n",
       "      <td>False</td>\n",
       "      <td>False</td>\n",
       "      <td>False</td>\n",
       "      <td>False</td>\n",
       "      <td>False</td>\n",
       "      <td>False</td>\n",
       "      <td>False</td>\n",
       "      <td>False</td>\n",
       "      <td>False</td>\n",
       "      <td>False</td>\n",
       "    </tr>\n",
       "    <tr>\n",
       "      <th>4</th>\n",
       "      <td>False</td>\n",
       "      <td>False</td>\n",
       "      <td>False</td>\n",
       "      <td>False</td>\n",
       "      <td>False</td>\n",
       "      <td>False</td>\n",
       "      <td>False</td>\n",
       "      <td>False</td>\n",
       "      <td>False</td>\n",
       "      <td>False</td>\n",
       "    </tr>\n",
       "    <tr>\n",
       "      <th>...</th>\n",
       "      <td>...</td>\n",
       "      <td>...</td>\n",
       "      <td>...</td>\n",
       "      <td>...</td>\n",
       "      <td>...</td>\n",
       "      <td>...</td>\n",
       "      <td>...</td>\n",
       "      <td>...</td>\n",
       "      <td>...</td>\n",
       "      <td>...</td>\n",
       "    </tr>\n",
       "    <tr>\n",
       "      <th>1982</th>\n",
       "      <td>False</td>\n",
       "      <td>False</td>\n",
       "      <td>False</td>\n",
       "      <td>False</td>\n",
       "      <td>False</td>\n",
       "      <td>False</td>\n",
       "      <td>False</td>\n",
       "      <td>False</td>\n",
       "      <td>False</td>\n",
       "      <td>False</td>\n",
       "    </tr>\n",
       "    <tr>\n",
       "      <th>1983</th>\n",
       "      <td>False</td>\n",
       "      <td>False</td>\n",
       "      <td>False</td>\n",
       "      <td>False</td>\n",
       "      <td>False</td>\n",
       "      <td>False</td>\n",
       "      <td>False</td>\n",
       "      <td>False</td>\n",
       "      <td>False</td>\n",
       "      <td>False</td>\n",
       "    </tr>\n",
       "    <tr>\n",
       "      <th>1984</th>\n",
       "      <td>False</td>\n",
       "      <td>False</td>\n",
       "      <td>False</td>\n",
       "      <td>False</td>\n",
       "      <td>False</td>\n",
       "      <td>False</td>\n",
       "      <td>False</td>\n",
       "      <td>False</td>\n",
       "      <td>False</td>\n",
       "      <td>False</td>\n",
       "    </tr>\n",
       "    <tr>\n",
       "      <th>1985</th>\n",
       "      <td>False</td>\n",
       "      <td>False</td>\n",
       "      <td>False</td>\n",
       "      <td>False</td>\n",
       "      <td>False</td>\n",
       "      <td>False</td>\n",
       "      <td>False</td>\n",
       "      <td>False</td>\n",
       "      <td>False</td>\n",
       "      <td>False</td>\n",
       "    </tr>\n",
       "    <tr>\n",
       "      <th>1986</th>\n",
       "      <td>False</td>\n",
       "      <td>False</td>\n",
       "      <td>False</td>\n",
       "      <td>False</td>\n",
       "      <td>False</td>\n",
       "      <td>False</td>\n",
       "      <td>False</td>\n",
       "      <td>False</td>\n",
       "      <td>False</td>\n",
       "      <td>False</td>\n",
       "    </tr>\n",
       "  </tbody>\n",
       "</table>\n",
       "<p>1987 rows × 10 columns</p>\n",
       "</div>"
      ],
      "text/plain": [
       "      Unnamed: 0    Age  Employment Type  GraduateOrNot  AnnualIncome  \\\n",
       "0          False  False            False          False         False   \n",
       "1          False  False            False          False         False   \n",
       "2          False  False            False          False         False   \n",
       "3          False  False            False          False         False   \n",
       "4          False  False            False          False         False   \n",
       "...          ...    ...              ...            ...           ...   \n",
       "1982       False  False            False          False         False   \n",
       "1983       False  False            False          False         False   \n",
       "1984       False  False            False          False         False   \n",
       "1985       False  False            False          False         False   \n",
       "1986       False  False            False          False         False   \n",
       "\n",
       "      FamilyMembers  ChronicDiseases  FrequentFlyer  EverTravelledAbroad  \\\n",
       "0             False            False          False                False   \n",
       "1             False            False          False                False   \n",
       "2             False            False          False                False   \n",
       "3             False            False          False                False   \n",
       "4             False            False          False                False   \n",
       "...             ...              ...            ...                  ...   \n",
       "1982          False            False          False                False   \n",
       "1983          False            False          False                False   \n",
       "1984          False            False          False                False   \n",
       "1985          False            False          False                False   \n",
       "1986          False            False          False                False   \n",
       "\n",
       "      TravelInsurance  \n",
       "0               False  \n",
       "1               False  \n",
       "2               False  \n",
       "3               False  \n",
       "4               False  \n",
       "...               ...  \n",
       "1982            False  \n",
       "1983            False  \n",
       "1984            False  \n",
       "1985            False  \n",
       "1986            False  \n",
       "\n",
       "[1987 rows x 10 columns]"
      ]
     },
     "execution_count": 10,
     "metadata": {},
     "output_type": "execute_result"
    }
   ],
   "source": [
    "d.isnull()"
   ]
  },
  {
   "cell_type": "markdown",
   "id": "bcefbe20",
   "metadata": {},
   "source": [
    "- isnull() method used to find is there any null value exist or not in the dataset\n",
    "- Here in this dataset there is no null value that's why it shows false in all cases\n",
    "- if there is any null value exist we need to drop either or need to replace that with any value"
   ]
  },
  {
   "cell_type": "markdown",
   "id": "64f88227",
   "metadata": {},
   "source": [
    "#### Total number of null values"
   ]
  },
  {
   "cell_type": "code",
   "execution_count": 11,
   "id": "cc3dd6e3",
   "metadata": {},
   "outputs": [
    {
     "data": {
      "text/plain": [
       "Unnamed: 0             0\n",
       "Age                    0\n",
       "Employment Type        0\n",
       "GraduateOrNot          0\n",
       "AnnualIncome           0\n",
       "FamilyMembers          0\n",
       "ChronicDiseases        0\n",
       "FrequentFlyer          0\n",
       "EverTravelledAbroad    0\n",
       "TravelInsurance        0\n",
       "dtype: int64"
      ]
     },
     "execution_count": 11,
     "metadata": {},
     "output_type": "execute_result"
    }
   ],
   "source": [
    "d.isnull().sum()"
   ]
  },
  {
   "cell_type": "markdown",
   "id": "814b681a",
   "metadata": {},
   "source": [
    "- isnull().sum() returns the number of missing values in the data set.\n",
    "- Here in this case no colum contail null value thats why it shows zero in all column\n",
    "- isnull().sum() is easy approach to find null value presents than isnull()"
   ]
  },
  {
   "cell_type": "markdown",
   "id": "65df6a11",
   "metadata": {},
   "source": [
    "#### Checking is there any duplicatte value exist or not"
   ]
  },
  {
   "cell_type": "code",
   "execution_count": 12,
   "id": "b7b900d6",
   "metadata": {},
   "outputs": [
    {
     "data": {
      "text/plain": [
       "0       False\n",
       "1       False\n",
       "2       False\n",
       "3       False\n",
       "4       False\n",
       "        ...  \n",
       "1982    False\n",
       "1983    False\n",
       "1984    False\n",
       "1985    False\n",
       "1986    False\n",
       "Length: 1987, dtype: bool"
      ]
     },
     "execution_count": 12,
     "metadata": {},
     "output_type": "execute_result"
    }
   ],
   "source": [
    "d.duplicated()"
   ]
  },
  {
   "cell_type": "markdown",
   "id": "871014a9",
   "metadata": {},
   "source": [
    "- duplicated() method to facilitate finding duplicate data. \n",
    "- This checks if the whole row appears elsewhere with the same values in each column. \n",
    "- This method returns a Boolean Series , where each entry represents whether or not the row is a duplicate\n",
    "- In this dataset there is no duplicate value exist that why it shows false in each entry"
   ]
  },
  {
   "cell_type": "code",
   "execution_count": 13,
   "id": "8b38e506",
   "metadata": {},
   "outputs": [
    {
     "data": {
      "text/plain": [
       "0"
      ]
     },
     "execution_count": 13,
     "metadata": {},
     "output_type": "execute_result"
    }
   ],
   "source": [
    "d.duplicated().sum()"
   ]
  },
  {
   "cell_type": "markdown",
   "id": "80e0790e",
   "metadata": {},
   "source": [
    "- duplicated().sum() return total sum of duplicate value\n",
    "- In this dataset there is 0 duplicate value"
   ]
  },
  {
   "cell_type": "markdown",
   "id": "d9fd6b33",
   "metadata": {},
   "source": [
    "#### checking datatype of each feature"
   ]
  },
  {
   "cell_type": "code",
   "execution_count": 14,
   "id": "548b1749",
   "metadata": {},
   "outputs": [
    {
     "data": {
      "text/plain": [
       "Unnamed: 0              int64\n",
       "Age                     int64\n",
       "Employment Type        object\n",
       "GraduateOrNot          object\n",
       "AnnualIncome            int64\n",
       "FamilyMembers           int64\n",
       "ChronicDiseases         int64\n",
       "FrequentFlyer          object\n",
       "EverTravelledAbroad    object\n",
       "TravelInsurance         int64\n",
       "dtype: object"
      ]
     },
     "execution_count": 14,
     "metadata": {},
     "output_type": "execute_result"
    }
   ],
   "source": [
    "d.dtypes"
   ]
  },
  {
   "cell_type": "markdown",
   "id": "18d13d79",
   "metadata": {},
   "source": [
    "- dtype method used to find the datatype of each feature in the dataset\n",
    "- In this dataset integer and object are the existing dtypes\n"
   ]
  },
  {
   "cell_type": "markdown",
   "id": "eda23129",
   "metadata": {},
   "source": [
    "#### unique value identiyimg"
   ]
  },
  {
   "cell_type": "code",
   "execution_count": 15,
   "id": "f14078f2",
   "metadata": {},
   "outputs": [
    {
     "data": {
      "text/plain": [
       "Unnamed: 0             1987\n",
       "Age                      11\n",
       "Employment Type           2\n",
       "GraduateOrNot             2\n",
       "AnnualIncome             30\n",
       "FamilyMembers             8\n",
       "ChronicDiseases           2\n",
       "FrequentFlyer             2\n",
       "EverTravelledAbroad       2\n",
       "TravelInsurance           2\n",
       "dtype: int64"
      ]
     },
     "execution_count": 15,
     "metadata": {},
     "output_type": "execute_result"
    }
   ],
   "source": [
    "d.nunique()"
   ]
  },
  {
   "cell_type": "markdown",
   "id": "1cbe4b87",
   "metadata": {},
   "source": [
    "- The nunique() function returns the number of all unique values \n",
    "- In this dataset above mentioned are the unique values of each feature"
   ]
  },
  {
   "cell_type": "markdown",
   "id": "866f8f81",
   "metadata": {},
   "source": [
    "#### sum of unique value avalable in the dataset"
   ]
  },
  {
   "cell_type": "code",
   "execution_count": 16,
   "id": "ccaac056",
   "metadata": {},
   "outputs": [
    {
     "data": {
      "text/plain": [
       "2048"
      ]
     },
     "execution_count": 16,
     "metadata": {},
     "output_type": "execute_result"
    }
   ],
   "source": [
    "d.nunique().sum()"
   ]
  },
  {
   "cell_type": "markdown",
   "id": "c764be2f",
   "metadata": {},
   "source": [
    "- Total 2048 unique value exist in the dataset"
   ]
  },
  {
   "cell_type": "markdown",
   "id": "04840cdc",
   "metadata": {},
   "source": [
    "#### Checking how many rows and column in the dataset"
   ]
  },
  {
   "cell_type": "code",
   "execution_count": 17,
   "id": "c0451cf5",
   "metadata": {},
   "outputs": [
    {
     "data": {
      "text/plain": [
       "(1987, 10)"
      ]
     },
     "execution_count": 17,
     "metadata": {},
     "output_type": "execute_result"
    }
   ],
   "source": [
    "d.shape"
   ]
  },
  {
   "cell_type": "markdown",
   "id": "f278321b",
   "metadata": {},
   "source": [
    "- Shape is used to find how many row and how many column are exist in our dataset\n",
    "- Here 1987 rows and 10 column exist in the dataset"
   ]
  },
  {
   "cell_type": "markdown",
   "id": "596ae84b",
   "metadata": {},
   "source": [
    "#### Taking any 4 sample we can take no.of sample randomly"
   ]
  },
  {
   "cell_type": "code",
   "execution_count": 144,
   "id": "90840283",
   "metadata": {},
   "outputs": [
    {
     "data": {
      "text/html": [
       "<div>\n",
       "<style scoped>\n",
       "    .dataframe tbody tr th:only-of-type {\n",
       "        vertical-align: middle;\n",
       "    }\n",
       "\n",
       "    .dataframe tbody tr th {\n",
       "        vertical-align: top;\n",
       "    }\n",
       "\n",
       "    .dataframe thead th {\n",
       "        text-align: right;\n",
       "    }\n",
       "</style>\n",
       "<table border=\"1\" class=\"dataframe\">\n",
       "  <thead>\n",
       "    <tr style=\"text-align: right;\">\n",
       "      <th></th>\n",
       "      <th>Age</th>\n",
       "      <th>Employment Type</th>\n",
       "      <th>GraduateOrNot</th>\n",
       "      <th>AnnualIncome</th>\n",
       "      <th>FamilyMembers</th>\n",
       "      <th>ChronicDiseases</th>\n",
       "      <th>FrequentFlyer</th>\n",
       "      <th>EverTravelledAbroad</th>\n",
       "      <th>TravelInsurance</th>\n",
       "    </tr>\n",
       "  </thead>\n",
       "  <tbody>\n",
       "    <tr>\n",
       "      <th>1592</th>\n",
       "      <td>25</td>\n",
       "      <td>Private Sector/Self Employed</td>\n",
       "      <td>No</td>\n",
       "      <td>high</td>\n",
       "      <td>5</td>\n",
       "      <td>0</td>\n",
       "      <td>Yes</td>\n",
       "      <td>No</td>\n",
       "      <td>1</td>\n",
       "    </tr>\n",
       "    <tr>\n",
       "      <th>865</th>\n",
       "      <td>31</td>\n",
       "      <td>Private Sector/Self Employed</td>\n",
       "      <td>Yes</td>\n",
       "      <td>high</td>\n",
       "      <td>5</td>\n",
       "      <td>0</td>\n",
       "      <td>No</td>\n",
       "      <td>Yes</td>\n",
       "      <td>1</td>\n",
       "    </tr>\n",
       "    <tr>\n",
       "      <th>654</th>\n",
       "      <td>32</td>\n",
       "      <td>Government Sector</td>\n",
       "      <td>Yes</td>\n",
       "      <td>high</td>\n",
       "      <td>6</td>\n",
       "      <td>0</td>\n",
       "      <td>No</td>\n",
       "      <td>No</td>\n",
       "      <td>0</td>\n",
       "    </tr>\n",
       "    <tr>\n",
       "      <th>737</th>\n",
       "      <td>28</td>\n",
       "      <td>Private Sector/Self Employed</td>\n",
       "      <td>Yes</td>\n",
       "      <td>low</td>\n",
       "      <td>4</td>\n",
       "      <td>1</td>\n",
       "      <td>No</td>\n",
       "      <td>No</td>\n",
       "      <td>1</td>\n",
       "    </tr>\n",
       "  </tbody>\n",
       "</table>\n",
       "</div>"
      ],
      "text/plain": [
       "      Age               Employment Type GraduateOrNot AnnualIncome  \\\n",
       "1592   25  Private Sector/Self Employed            No         high   \n",
       "865    31  Private Sector/Self Employed           Yes         high   \n",
       "654    32             Government Sector           Yes         high   \n",
       "737    28  Private Sector/Self Employed           Yes          low   \n",
       "\n",
       "      FamilyMembers  ChronicDiseases FrequentFlyer EverTravelledAbroad  \\\n",
       "1592              5                0           Yes                  No   \n",
       "865               5                0            No                 Yes   \n",
       "654               6                0            No                  No   \n",
       "737               4                1            No                  No   \n",
       "\n",
       "      TravelInsurance  \n",
       "1592                1  \n",
       "865                 1  \n",
       "654                 0  \n",
       "737                 1  "
      ]
     },
     "execution_count": 144,
     "metadata": {},
     "output_type": "execute_result"
    }
   ],
   "source": [
    "d.sample(4)"
   ]
  },
  {
   "cell_type": "markdown",
   "id": "33faf298",
   "metadata": {},
   "source": [
    "- sample is randomly fetching no.of rows we mention \n",
    "- Here 4 sample selected"
   ]
  },
  {
   "cell_type": "markdown",
   "id": "76b364e2",
   "metadata": {},
   "source": [
    "#### Eliminating unwanted column from dataset"
   ]
  },
  {
   "cell_type": "code",
   "execution_count": 4,
   "id": "4392983b",
   "metadata": {},
   "outputs": [],
   "source": [
    "d.drop([\"Unnamed: 0\"],axis=1,inplace=True)"
   ]
  },
  {
   "cell_type": "code",
   "execution_count": 5,
   "id": "5e5b4ec5",
   "metadata": {},
   "outputs": [
    {
     "data": {
      "text/html": [
       "<div>\n",
       "<style scoped>\n",
       "    .dataframe tbody tr th:only-of-type {\n",
       "        vertical-align: middle;\n",
       "    }\n",
       "\n",
       "    .dataframe tbody tr th {\n",
       "        vertical-align: top;\n",
       "    }\n",
       "\n",
       "    .dataframe thead th {\n",
       "        text-align: right;\n",
       "    }\n",
       "</style>\n",
       "<table border=\"1\" class=\"dataframe\">\n",
       "  <thead>\n",
       "    <tr style=\"text-align: right;\">\n",
       "      <th></th>\n",
       "      <th>Age</th>\n",
       "      <th>Employment Type</th>\n",
       "      <th>GraduateOrNot</th>\n",
       "      <th>AnnualIncome</th>\n",
       "      <th>FamilyMembers</th>\n",
       "      <th>ChronicDiseases</th>\n",
       "      <th>FrequentFlyer</th>\n",
       "      <th>EverTravelledAbroad</th>\n",
       "      <th>TravelInsurance</th>\n",
       "    </tr>\n",
       "  </thead>\n",
       "  <tbody>\n",
       "    <tr>\n",
       "      <th>0</th>\n",
       "      <td>31</td>\n",
       "      <td>Government Sector</td>\n",
       "      <td>Yes</td>\n",
       "      <td>400000</td>\n",
       "      <td>6</td>\n",
       "      <td>1</td>\n",
       "      <td>No</td>\n",
       "      <td>No</td>\n",
       "      <td>0</td>\n",
       "    </tr>\n",
       "    <tr>\n",
       "      <th>1</th>\n",
       "      <td>31</td>\n",
       "      <td>Private Sector/Self Employed</td>\n",
       "      <td>Yes</td>\n",
       "      <td>1250000</td>\n",
       "      <td>7</td>\n",
       "      <td>0</td>\n",
       "      <td>No</td>\n",
       "      <td>No</td>\n",
       "      <td>0</td>\n",
       "    </tr>\n",
       "    <tr>\n",
       "      <th>2</th>\n",
       "      <td>34</td>\n",
       "      <td>Private Sector/Self Employed</td>\n",
       "      <td>Yes</td>\n",
       "      <td>500000</td>\n",
       "      <td>4</td>\n",
       "      <td>1</td>\n",
       "      <td>No</td>\n",
       "      <td>No</td>\n",
       "      <td>1</td>\n",
       "    </tr>\n",
       "    <tr>\n",
       "      <th>3</th>\n",
       "      <td>28</td>\n",
       "      <td>Private Sector/Self Employed</td>\n",
       "      <td>Yes</td>\n",
       "      <td>700000</td>\n",
       "      <td>3</td>\n",
       "      <td>1</td>\n",
       "      <td>No</td>\n",
       "      <td>No</td>\n",
       "      <td>0</td>\n",
       "    </tr>\n",
       "    <tr>\n",
       "      <th>4</th>\n",
       "      <td>28</td>\n",
       "      <td>Private Sector/Self Employed</td>\n",
       "      <td>Yes</td>\n",
       "      <td>700000</td>\n",
       "      <td>8</td>\n",
       "      <td>1</td>\n",
       "      <td>Yes</td>\n",
       "      <td>No</td>\n",
       "      <td>0</td>\n",
       "    </tr>\n",
       "    <tr>\n",
       "      <th>...</th>\n",
       "      <td>...</td>\n",
       "      <td>...</td>\n",
       "      <td>...</td>\n",
       "      <td>...</td>\n",
       "      <td>...</td>\n",
       "      <td>...</td>\n",
       "      <td>...</td>\n",
       "      <td>...</td>\n",
       "      <td>...</td>\n",
       "    </tr>\n",
       "    <tr>\n",
       "      <th>1982</th>\n",
       "      <td>33</td>\n",
       "      <td>Private Sector/Self Employed</td>\n",
       "      <td>Yes</td>\n",
       "      <td>1500000</td>\n",
       "      <td>4</td>\n",
       "      <td>0</td>\n",
       "      <td>Yes</td>\n",
       "      <td>Yes</td>\n",
       "      <td>1</td>\n",
       "    </tr>\n",
       "    <tr>\n",
       "      <th>1983</th>\n",
       "      <td>28</td>\n",
       "      <td>Private Sector/Self Employed</td>\n",
       "      <td>Yes</td>\n",
       "      <td>1750000</td>\n",
       "      <td>5</td>\n",
       "      <td>1</td>\n",
       "      <td>No</td>\n",
       "      <td>Yes</td>\n",
       "      <td>0</td>\n",
       "    </tr>\n",
       "    <tr>\n",
       "      <th>1984</th>\n",
       "      <td>28</td>\n",
       "      <td>Private Sector/Self Employed</td>\n",
       "      <td>Yes</td>\n",
       "      <td>1150000</td>\n",
       "      <td>6</td>\n",
       "      <td>1</td>\n",
       "      <td>No</td>\n",
       "      <td>No</td>\n",
       "      <td>0</td>\n",
       "    </tr>\n",
       "    <tr>\n",
       "      <th>1985</th>\n",
       "      <td>34</td>\n",
       "      <td>Private Sector/Self Employed</td>\n",
       "      <td>Yes</td>\n",
       "      <td>1000000</td>\n",
       "      <td>6</td>\n",
       "      <td>0</td>\n",
       "      <td>Yes</td>\n",
       "      <td>Yes</td>\n",
       "      <td>1</td>\n",
       "    </tr>\n",
       "    <tr>\n",
       "      <th>1986</th>\n",
       "      <td>34</td>\n",
       "      <td>Private Sector/Self Employed</td>\n",
       "      <td>Yes</td>\n",
       "      <td>500000</td>\n",
       "      <td>4</td>\n",
       "      <td>0</td>\n",
       "      <td>No</td>\n",
       "      <td>No</td>\n",
       "      <td>0</td>\n",
       "    </tr>\n",
       "  </tbody>\n",
       "</table>\n",
       "<p>1987 rows × 9 columns</p>\n",
       "</div>"
      ],
      "text/plain": [
       "      Age               Employment Type GraduateOrNot  AnnualIncome  \\\n",
       "0      31             Government Sector           Yes        400000   \n",
       "1      31  Private Sector/Self Employed           Yes       1250000   \n",
       "2      34  Private Sector/Self Employed           Yes        500000   \n",
       "3      28  Private Sector/Self Employed           Yes        700000   \n",
       "4      28  Private Sector/Self Employed           Yes        700000   \n",
       "...   ...                           ...           ...           ...   \n",
       "1982   33  Private Sector/Self Employed           Yes       1500000   \n",
       "1983   28  Private Sector/Self Employed           Yes       1750000   \n",
       "1984   28  Private Sector/Self Employed           Yes       1150000   \n",
       "1985   34  Private Sector/Self Employed           Yes       1000000   \n",
       "1986   34  Private Sector/Self Employed           Yes        500000   \n",
       "\n",
       "      FamilyMembers  ChronicDiseases FrequentFlyer EverTravelledAbroad  \\\n",
       "0                 6                1            No                  No   \n",
       "1                 7                0            No                  No   \n",
       "2                 4                1            No                  No   \n",
       "3                 3                1            No                  No   \n",
       "4                 8                1           Yes                  No   \n",
       "...             ...              ...           ...                 ...   \n",
       "1982              4                0           Yes                 Yes   \n",
       "1983              5                1            No                 Yes   \n",
       "1984              6                1            No                  No   \n",
       "1985              6                0           Yes                 Yes   \n",
       "1986              4                0            No                  No   \n",
       "\n",
       "      TravelInsurance  \n",
       "0                   0  \n",
       "1                   0  \n",
       "2                   1  \n",
       "3                   0  \n",
       "4                   0  \n",
       "...               ...  \n",
       "1982                1  \n",
       "1983                0  \n",
       "1984                0  \n",
       "1985                1  \n",
       "1986                0  \n",
       "\n",
       "[1987 rows x 9 columns]"
      ]
     },
     "execution_count": 5,
     "metadata": {},
     "output_type": "execute_result"
    }
   ],
   "source": [
    "d"
   ]
  },
  {
   "cell_type": "markdown",
   "id": "46e70c5b",
   "metadata": {},
   "source": [
    "- Here droped the column 'unnamed' for the analysis\n",
    "- we can drop unwanted columns in the dataset using drop method\n",
    "- In this dataset the coulum 'unnamed' is not necessory that why it removed permenantly\n",
    "- axis 1 represent column and inplace=True for permanant change(In this dataset unwanted column exist in axis 1 and we need permanant delete of that column)"
   ]
  },
  {
   "cell_type": "markdown",
   "id": "76a5c1a5",
   "metadata": {},
   "source": [
    "#### correclation between features in the dataset"
   ]
  },
  {
   "cell_type": "code",
   "execution_count": 21,
   "id": "6bb45ccc",
   "metadata": {},
   "outputs": [
    {
     "data": {
      "text/html": [
       "<div>\n",
       "<style scoped>\n",
       "    .dataframe tbody tr th:only-of-type {\n",
       "        vertical-align: middle;\n",
       "    }\n",
       "\n",
       "    .dataframe tbody tr th {\n",
       "        vertical-align: top;\n",
       "    }\n",
       "\n",
       "    .dataframe thead th {\n",
       "        text-align: right;\n",
       "    }\n",
       "</style>\n",
       "<table border=\"1\" class=\"dataframe\">\n",
       "  <thead>\n",
       "    <tr style=\"text-align: right;\">\n",
       "      <th></th>\n",
       "      <th>Age</th>\n",
       "      <th>AnnualIncome</th>\n",
       "      <th>FamilyMembers</th>\n",
       "      <th>ChronicDiseases</th>\n",
       "      <th>TravelInsurance</th>\n",
       "    </tr>\n",
       "  </thead>\n",
       "  <tbody>\n",
       "    <tr>\n",
       "      <th>Age</th>\n",
       "      <td>1.000000</td>\n",
       "      <td>-0.020101</td>\n",
       "      <td>0.027409</td>\n",
       "      <td>0.007359</td>\n",
       "      <td>0.061060</td>\n",
       "    </tr>\n",
       "    <tr>\n",
       "      <th>AnnualIncome</th>\n",
       "      <td>-0.020101</td>\n",
       "      <td>1.000000</td>\n",
       "      <td>-0.015367</td>\n",
       "      <td>-0.001149</td>\n",
       "      <td>0.396763</td>\n",
       "    </tr>\n",
       "    <tr>\n",
       "      <th>FamilyMembers</th>\n",
       "      <td>0.027409</td>\n",
       "      <td>-0.015367</td>\n",
       "      <td>1.000000</td>\n",
       "      <td>0.028209</td>\n",
       "      <td>0.079909</td>\n",
       "    </tr>\n",
       "    <tr>\n",
       "      <th>ChronicDiseases</th>\n",
       "      <td>0.007359</td>\n",
       "      <td>-0.001149</td>\n",
       "      <td>0.028209</td>\n",
       "      <td>1.000000</td>\n",
       "      <td>0.018190</td>\n",
       "    </tr>\n",
       "    <tr>\n",
       "      <th>TravelInsurance</th>\n",
       "      <td>0.061060</td>\n",
       "      <td>0.396763</td>\n",
       "      <td>0.079909</td>\n",
       "      <td>0.018190</td>\n",
       "      <td>1.000000</td>\n",
       "    </tr>\n",
       "  </tbody>\n",
       "</table>\n",
       "</div>"
      ],
      "text/plain": [
       "                      Age  AnnualIncome  FamilyMembers  ChronicDiseases  \\\n",
       "Age              1.000000     -0.020101       0.027409         0.007359   \n",
       "AnnualIncome    -0.020101      1.000000      -0.015367        -0.001149   \n",
       "FamilyMembers    0.027409     -0.015367       1.000000         0.028209   \n",
       "ChronicDiseases  0.007359     -0.001149       0.028209         1.000000   \n",
       "TravelInsurance  0.061060      0.396763       0.079909         0.018190   \n",
       "\n",
       "                 TravelInsurance  \n",
       "Age                     0.061060  \n",
       "AnnualIncome            0.396763  \n",
       "FamilyMembers           0.079909  \n",
       "ChronicDiseases         0.018190  \n",
       "TravelInsurance         1.000000  "
      ]
     },
     "execution_count": 21,
     "metadata": {},
     "output_type": "execute_result"
    }
   ],
   "source": [
    "d.corr()"
   ]
  },
  {
   "cell_type": "markdown",
   "id": "d6307749",
   "metadata": {},
   "source": [
    "##### A positive correlation exists when two variables operate in uniformly, so that when one variable rises or falls, the other does the same.\n",
    "##### A negative correlation is when two variables move opposite one another so that when one variable rises, the other falls."
   ]
  },
  {
   "cell_type": "markdown",
   "id": "53914863",
   "metadata": {},
   "source": [
    "###### age vs other features"
   ]
  },
  {
   "cell_type": "markdown",
   "id": "eeb3c2ee",
   "metadata": {},
   "source": [
    "- Here age and annualincome are in negative correlation that means if age increases the annuval income got decreased\n",
    "- Age and familymembers are in positive correlation but not strong correlation.It means as per the increase of age the family members also increase but it is not strong positive correlation it may change person to person\n",
    "- Age and chronic dieasese also have positive correlation,if age increases the chance to get disease also get increased,this also depend on person t person that why it not shown as as a strong positive correlation\n",
    "- Age and travel insurance have positive correlation,as age increase chance to get the insurance also increase.Here the relation is positive but not strong"
   ]
  },
  {
   "cell_type": "markdown",
   "id": "421c44cf",
   "metadata": {},
   "source": [
    "###### Annual income vs other features"
   ]
  },
  {
   "cell_type": "markdown",
   "id": "a393a2e2",
   "metadata": {},
   "source": [
    "- Annual income and age are in negative correlation that means if age increase annual income got decreased\n",
    "- Annual income and family members also in negative correlation \n",
    "- Annual income and chronic desease are in negative correlation if deseseincrease income will reduced\n",
    "- Annual income and trvel insurance are in positive correlation,if income increase chace to get travelinsurance also get increased\n"
   ]
  },
  {
   "cell_type": "markdown",
   "id": "0cdf9742",
   "metadata": {},
   "source": [
    "###### Chronic disease with other features"
   ]
  },
  {
   "cell_type": "markdown",
   "id": "139c880f",
   "metadata": {},
   "source": [
    "- Disease and age are in positive correlation,it means if  age increse chance to get disese also get increased but it is not strong correlation\n",
    "- Disease and annual income are i negative correlation if disease is high the annual income will reduced automatically\n",
    "- Disease and travelinsurance are in positive correlation but this is not a strong correlation\n"
   ]
  },
  {
   "cell_type": "markdown",
   "id": "0d736cce",
   "metadata": {},
   "source": [
    "###### Travelinsurance vs other features"
   ]
  },
  {
   "cell_type": "markdown",
   "id": "7676c15c",
   "metadata": {},
   "source": [
    "- Travel insurance have positive correlation with all features like age,familymembere chronic disesae as well as anual income\n",
    "- BUt there is no opsitive correlation with anyone that means it may be change based on situation or based on person to person"
   ]
  },
  {
   "cell_type": "markdown",
   "id": "a374a22e",
   "metadata": {},
   "source": [
    "#### covariace in between features in the dataset"
   ]
  },
  {
   "cell_type": "code",
   "execution_count": 22,
   "id": "e6cfd142",
   "metadata": {},
   "outputs": [
    {
     "data": {
      "text/html": [
       "<div>\n",
       "<style scoped>\n",
       "    .dataframe tbody tr th:only-of-type {\n",
       "        vertical-align: middle;\n",
       "    }\n",
       "\n",
       "    .dataframe tbody tr th {\n",
       "        vertical-align: top;\n",
       "    }\n",
       "\n",
       "    .dataframe thead th {\n",
       "        text-align: right;\n",
       "    }\n",
       "</style>\n",
       "<table border=\"1\" class=\"dataframe\">\n",
       "  <thead>\n",
       "    <tr style=\"text-align: right;\">\n",
       "      <th></th>\n",
       "      <th>Age</th>\n",
       "      <th>AnnualIncome</th>\n",
       "      <th>FamilyMembers</th>\n",
       "      <th>ChronicDiseases</th>\n",
       "      <th>TravelInsurance</th>\n",
       "    </tr>\n",
       "  </thead>\n",
       "  <tbody>\n",
       "    <tr>\n",
       "      <th>Age</th>\n",
       "      <td>8.487365</td>\n",
       "      <td>-2.206936e+04</td>\n",
       "      <td>0.128530</td>\n",
       "      <td>0.009605</td>\n",
       "      <td>0.085266</td>\n",
       "    </tr>\n",
       "    <tr>\n",
       "      <th>AnnualIncome</th>\n",
       "      <td>-22069.357166</td>\n",
       "      <td>1.420202e+11</td>\n",
       "      <td>-9321.947138</td>\n",
       "      <td>-193.934289</td>\n",
       "      <td>71670.845389</td>\n",
       "    </tr>\n",
       "    <tr>\n",
       "      <th>FamilyMembers</th>\n",
       "      <td>0.128530</td>\n",
       "      <td>-9.321947e+03</td>\n",
       "      <td>2.590972</td>\n",
       "      <td>0.020344</td>\n",
       "      <td>0.061654</td>\n",
       "    </tr>\n",
       "    <tr>\n",
       "      <th>ChronicDiseases</th>\n",
       "      <td>0.009605</td>\n",
       "      <td>-1.939343e+02</td>\n",
       "      <td>0.020344</td>\n",
       "      <td>0.200731</td>\n",
       "      <td>0.003906</td>\n",
       "    </tr>\n",
       "    <tr>\n",
       "      <th>TravelInsurance</th>\n",
       "      <td>0.085266</td>\n",
       "      <td>7.167085e+04</td>\n",
       "      <td>0.061654</td>\n",
       "      <td>0.003906</td>\n",
       "      <td>0.229759</td>\n",
       "    </tr>\n",
       "  </tbody>\n",
       "</table>\n",
       "</div>"
      ],
      "text/plain": [
       "                          Age  AnnualIncome  FamilyMembers  ChronicDiseases  \\\n",
       "Age                  8.487365 -2.206936e+04       0.128530         0.009605   \n",
       "AnnualIncome    -22069.357166  1.420202e+11   -9321.947138      -193.934289   \n",
       "FamilyMembers        0.128530 -9.321947e+03       2.590972         0.020344   \n",
       "ChronicDiseases      0.009605 -1.939343e+02       0.020344         0.200731   \n",
       "TravelInsurance      0.085266  7.167085e+04       0.061654         0.003906   \n",
       "\n",
       "                 TravelInsurance  \n",
       "Age                     0.085266  \n",
       "AnnualIncome        71670.845389  \n",
       "FamilyMembers           0.061654  \n",
       "ChronicDiseases         0.003906  \n",
       "TravelInsurance         0.229759  "
      ]
     },
     "execution_count": 22,
     "metadata": {},
     "output_type": "execute_result"
    }
   ],
   "source": [
    "d.cov()"
   ]
  },
  {
   "cell_type": "markdown",
   "id": "2a0553cd",
   "metadata": {},
   "source": [
    "##### Covariance gives you a positive number if the variables are positively related. we ’ll get a negative number if they are negatively related. \n",
    "##### A high covariance basically indicates there is a strong relationship between the variables. A low value means there is a weak relationship."
   ]
  },
  {
   "cell_type": "markdown",
   "id": "80035e3a",
   "metadata": {},
   "source": [
    "- Age is positivly realted with familymembers,chronic disease and travelinsurace and it is negativly related with annualincome\n",
    "- Annual income highly realted with travel insurance\n",
    "- Family members are positivly related with all features except annual income\n",
    "- chronic desease have negative relation with all other feature except annuak income\n",
    "- Travel insurance have high relation with all feature,And highly related with annual income\n"
   ]
  },
  {
   "cell_type": "markdown",
   "id": "68aac07a",
   "metadata": {},
   "source": [
    "#### Statistical analysis on a single column"
   ]
  },
  {
   "cell_type": "code",
   "execution_count": 23,
   "id": "9a377ab9",
   "metadata": {},
   "outputs": [
    {
     "data": {
      "text/plain": [
       "1987"
      ]
     },
     "execution_count": 23,
     "metadata": {},
     "output_type": "execute_result"
    }
   ],
   "source": [
    "d['AnnualIncome'].count()"
   ]
  },
  {
   "cell_type": "markdown",
   "id": "0b4da437",
   "metadata": {},
   "source": [
    "- 1987 annual income data exist in this dataset"
   ]
  },
  {
   "cell_type": "code",
   "execution_count": 24,
   "id": "bd365558",
   "metadata": {},
   "outputs": [
    {
     "data": {
      "text/plain": [
       "1800000"
      ]
     },
     "execution_count": 24,
     "metadata": {},
     "output_type": "execute_result"
    }
   ],
   "source": [
    "d['AnnualIncome'].max()"
   ]
  },
  {
   "cell_type": "markdown",
   "id": "24e905af",
   "metadata": {},
   "source": [
    "- maximum annual income of the person in the dataset is 1800000"
   ]
  },
  {
   "cell_type": "code",
   "execution_count": 25,
   "id": "2655c5cf",
   "metadata": {},
   "outputs": [
    {
     "data": {
      "text/plain": [
       "300000"
      ]
     },
     "execution_count": 25,
     "metadata": {},
     "output_type": "execute_result"
    }
   ],
   "source": [
    "d['AnnualIncome'].min()"
   ]
  },
  {
   "cell_type": "markdown",
   "id": "199261e7",
   "metadata": {},
   "source": [
    "- minimum annual income in the dataset is 3lakh"
   ]
  },
  {
   "cell_type": "code",
   "execution_count": 26,
   "id": "8e2959b1",
   "metadata": {},
   "outputs": [
    {
     "data": {
      "text/plain": [
       "376855.6847478708"
      ]
     },
     "execution_count": 26,
     "metadata": {},
     "output_type": "execute_result"
    }
   ],
   "source": [
    "d['AnnualIncome'].std()"
   ]
  },
  {
   "cell_type": "markdown",
   "id": "fc729515",
   "metadata": {},
   "source": [
    "- standared deviation of annual income is given above"
   ]
  },
  {
   "cell_type": "code",
   "execution_count": 27,
   "id": "bbb162ae",
   "metadata": {},
   "outputs": [
    {
     "data": {
      "text/plain": [
       "932762.9592350277"
      ]
     },
     "execution_count": 27,
     "metadata": {},
     "output_type": "execute_result"
    }
   ],
   "source": [
    "d['AnnualIncome'].mean()"
   ]
  },
  {
   "cell_type": "markdown",
   "id": "5ce2022a",
   "metadata": {},
   "source": [
    "- Average value of all annual income in the dataset canbe finding out using mean method"
   ]
  },
  {
   "cell_type": "code",
   "execution_count": 28,
   "id": "a713f290",
   "metadata": {},
   "outputs": [
    {
     "data": {
      "text/plain": [
       "Private Sector/Self Employed    1417\n",
       "Government Sector                570\n",
       "Name: Employment Type, dtype: int64"
      ]
     },
     "execution_count": 28,
     "metadata": {},
     "output_type": "execute_result"
    }
   ],
   "source": [
    "d['Employment Type'].value_counts()"
   ]
  },
  {
   "cell_type": "markdown",
   "id": "5d3a6f10",
   "metadata": {},
   "source": [
    "- 1417 people are working in private sector \n",
    "- 570 people are working in gov sector"
   ]
  },
  {
   "cell_type": "code",
   "execution_count": 29,
   "id": "15620e2e",
   "metadata": {},
   "outputs": [
    {
     "data": {
      "text/plain": [
       "array(['Government Sector', 'Private Sector/Self Employed'], dtype=object)"
      ]
     },
     "execution_count": 29,
     "metadata": {},
     "output_type": "execute_result"
    }
   ],
   "source": [
    "d['Employment Type'].unique()"
   ]
  },
  {
   "cell_type": "markdown",
   "id": "34c54252",
   "metadata": {},
   "source": [
    "- employement type is catogories in to private and govnment sector"
   ]
  },
  {
   "cell_type": "code",
   "execution_count": 30,
   "id": "93fb215e",
   "metadata": {},
   "outputs": [
    {
     "data": {
      "text/plain": [
       "array(['Yes', 'No'], dtype=object)"
      ]
     },
     "execution_count": 30,
     "metadata": {},
     "output_type": "execute_result"
    }
   ],
   "source": [
    "d['GraduateOrNot'].unique()"
   ]
  },
  {
   "cell_type": "markdown",
   "id": "7e1a3005",
   "metadata": {},
   "source": [
    "- Graduated or not classified in to yes or no(yes means graduated no means not graduated)"
   ]
  },
  {
   "cell_type": "code",
   "execution_count": 31,
   "id": "ed379fdb",
   "metadata": {},
   "outputs": [
    {
     "data": {
      "text/html": [
       "<div>\n",
       "<style scoped>\n",
       "    .dataframe tbody tr th:only-of-type {\n",
       "        vertical-align: middle;\n",
       "    }\n",
       "\n",
       "    .dataframe tbody tr th {\n",
       "        vertical-align: top;\n",
       "    }\n",
       "\n",
       "    .dataframe thead th {\n",
       "        text-align: right;\n",
       "    }\n",
       "</style>\n",
       "<table border=\"1\" class=\"dataframe\">\n",
       "  <thead>\n",
       "    <tr style=\"text-align: right;\">\n",
       "      <th></th>\n",
       "      <th>Age</th>\n",
       "      <th>Employment Type</th>\n",
       "      <th>GraduateOrNot</th>\n",
       "      <th>AnnualIncome</th>\n",
       "      <th>FamilyMembers</th>\n",
       "      <th>ChronicDiseases</th>\n",
       "      <th>FrequentFlyer</th>\n",
       "      <th>EverTravelledAbroad</th>\n",
       "      <th>TravelInsurance</th>\n",
       "    </tr>\n",
       "  </thead>\n",
       "  <tbody>\n",
       "    <tr>\n",
       "      <th>0</th>\n",
       "      <td>31</td>\n",
       "      <td>Government Sector</td>\n",
       "      <td>Yes</td>\n",
       "      <td>400000</td>\n",
       "      <td>6</td>\n",
       "      <td>1</td>\n",
       "      <td>No</td>\n",
       "      <td>No</td>\n",
       "      <td>0</td>\n",
       "    </tr>\n",
       "    <tr>\n",
       "      <th>6</th>\n",
       "      <td>31</td>\n",
       "      <td>Government Sector</td>\n",
       "      <td>Yes</td>\n",
       "      <td>1300000</td>\n",
       "      <td>4</td>\n",
       "      <td>0</td>\n",
       "      <td>No</td>\n",
       "      <td>No</td>\n",
       "      <td>0</td>\n",
       "    </tr>\n",
       "    <tr>\n",
       "      <th>9</th>\n",
       "      <td>33</td>\n",
       "      <td>Government Sector</td>\n",
       "      <td>Yes</td>\n",
       "      <td>800000</td>\n",
       "      <td>3</td>\n",
       "      <td>0</td>\n",
       "      <td>Yes</td>\n",
       "      <td>No</td>\n",
       "      <td>0</td>\n",
       "    </tr>\n",
       "    <tr>\n",
       "      <th>10</th>\n",
       "      <td>31</td>\n",
       "      <td>Government Sector</td>\n",
       "      <td>Yes</td>\n",
       "      <td>400000</td>\n",
       "      <td>9</td>\n",
       "      <td>1</td>\n",
       "      <td>No</td>\n",
       "      <td>No</td>\n",
       "      <td>0</td>\n",
       "    </tr>\n",
       "    <tr>\n",
       "      <th>12</th>\n",
       "      <td>32</td>\n",
       "      <td>Government Sector</td>\n",
       "      <td>Yes</td>\n",
       "      <td>850000</td>\n",
       "      <td>6</td>\n",
       "      <td>0</td>\n",
       "      <td>No</td>\n",
       "      <td>No</td>\n",
       "      <td>1</td>\n",
       "    </tr>\n",
       "    <tr>\n",
       "      <th>...</th>\n",
       "      <td>...</td>\n",
       "      <td>...</td>\n",
       "      <td>...</td>\n",
       "      <td>...</td>\n",
       "      <td>...</td>\n",
       "      <td>...</td>\n",
       "      <td>...</td>\n",
       "      <td>...</td>\n",
       "      <td>...</td>\n",
       "    </tr>\n",
       "    <tr>\n",
       "      <th>1963</th>\n",
       "      <td>33</td>\n",
       "      <td>Government Sector</td>\n",
       "      <td>Yes</td>\n",
       "      <td>1100000</td>\n",
       "      <td>4</td>\n",
       "      <td>0</td>\n",
       "      <td>No</td>\n",
       "      <td>No</td>\n",
       "      <td>1</td>\n",
       "    </tr>\n",
       "    <tr>\n",
       "      <th>1964</th>\n",
       "      <td>28</td>\n",
       "      <td>Government Sector</td>\n",
       "      <td>Yes</td>\n",
       "      <td>1100000</td>\n",
       "      <td>4</td>\n",
       "      <td>0</td>\n",
       "      <td>No</td>\n",
       "      <td>No</td>\n",
       "      <td>0</td>\n",
       "    </tr>\n",
       "    <tr>\n",
       "      <th>1968</th>\n",
       "      <td>28</td>\n",
       "      <td>Government Sector</td>\n",
       "      <td>Yes</td>\n",
       "      <td>300000</td>\n",
       "      <td>5</td>\n",
       "      <td>1</td>\n",
       "      <td>No</td>\n",
       "      <td>No</td>\n",
       "      <td>0</td>\n",
       "    </tr>\n",
       "    <tr>\n",
       "      <th>1976</th>\n",
       "      <td>32</td>\n",
       "      <td>Government Sector</td>\n",
       "      <td>Yes</td>\n",
       "      <td>900000</td>\n",
       "      <td>6</td>\n",
       "      <td>0</td>\n",
       "      <td>No</td>\n",
       "      <td>No</td>\n",
       "      <td>0</td>\n",
       "    </tr>\n",
       "    <tr>\n",
       "      <th>1981</th>\n",
       "      <td>27</td>\n",
       "      <td>Government Sector</td>\n",
       "      <td>Yes</td>\n",
       "      <td>850000</td>\n",
       "      <td>3</td>\n",
       "      <td>0</td>\n",
       "      <td>No</td>\n",
       "      <td>No</td>\n",
       "      <td>1</td>\n",
       "    </tr>\n",
       "  </tbody>\n",
       "</table>\n",
       "<p>570 rows × 9 columns</p>\n",
       "</div>"
      ],
      "text/plain": [
       "      Age    Employment Type GraduateOrNot  AnnualIncome  FamilyMembers  \\\n",
       "0      31  Government Sector           Yes        400000              6   \n",
       "6      31  Government Sector           Yes       1300000              4   \n",
       "9      33  Government Sector           Yes        800000              3   \n",
       "10     31  Government Sector           Yes        400000              9   \n",
       "12     32  Government Sector           Yes        850000              6   \n",
       "...   ...                ...           ...           ...            ...   \n",
       "1963   33  Government Sector           Yes       1100000              4   \n",
       "1964   28  Government Sector           Yes       1100000              4   \n",
       "1968   28  Government Sector           Yes        300000              5   \n",
       "1976   32  Government Sector           Yes        900000              6   \n",
       "1981   27  Government Sector           Yes        850000              3   \n",
       "\n",
       "      ChronicDiseases FrequentFlyer EverTravelledAbroad  TravelInsurance  \n",
       "0                   1            No                  No                0  \n",
       "6                   0            No                  No                0  \n",
       "9                   0           Yes                  No                0  \n",
       "10                  1            No                  No                0  \n",
       "12                  0            No                  No                1  \n",
       "...               ...           ...                 ...              ...  \n",
       "1963                0            No                  No                1  \n",
       "1964                0            No                  No                0  \n",
       "1968                1            No                  No                0  \n",
       "1976                0            No                  No                0  \n",
       "1981                0            No                  No                1  \n",
       "\n",
       "[570 rows x 9 columns]"
      ]
     },
     "execution_count": 31,
     "metadata": {},
     "output_type": "execute_result"
    }
   ],
   "source": [
    "grp1 = d.groupby('Employment Type')\n",
    "temp_d = grp1.get_group('Government Sector')\n",
    "temp_d"
   ]
  },
  {
   "cell_type": "code",
   "execution_count": 32,
   "id": "2917a812",
   "metadata": {},
   "outputs": [
    {
     "data": {
      "text/html": [
       "<div>\n",
       "<style scoped>\n",
       "    .dataframe tbody tr th:only-of-type {\n",
       "        vertical-align: middle;\n",
       "    }\n",
       "\n",
       "    .dataframe tbody tr th {\n",
       "        vertical-align: top;\n",
       "    }\n",
       "\n",
       "    .dataframe thead th {\n",
       "        text-align: right;\n",
       "    }\n",
       "</style>\n",
       "<table border=\"1\" class=\"dataframe\">\n",
       "  <thead>\n",
       "    <tr style=\"text-align: right;\">\n",
       "      <th></th>\n",
       "      <th>Age</th>\n",
       "      <th>Employment Type</th>\n",
       "      <th>GraduateOrNot</th>\n",
       "      <th>AnnualIncome</th>\n",
       "      <th>FamilyMembers</th>\n",
       "      <th>ChronicDiseases</th>\n",
       "      <th>FrequentFlyer</th>\n",
       "      <th>EverTravelledAbroad</th>\n",
       "      <th>TravelInsurance</th>\n",
       "    </tr>\n",
       "  </thead>\n",
       "  <tbody>\n",
       "    <tr>\n",
       "      <th>0</th>\n",
       "      <td>31</td>\n",
       "      <td>Government Sector</td>\n",
       "      <td>Yes</td>\n",
       "      <td>400000</td>\n",
       "      <td>6</td>\n",
       "      <td>1</td>\n",
       "      <td>No</td>\n",
       "      <td>No</td>\n",
       "      <td>0</td>\n",
       "    </tr>\n",
       "    <tr>\n",
       "      <th>1</th>\n",
       "      <td>31</td>\n",
       "      <td>Private Sector/Self Employed</td>\n",
       "      <td>Yes</td>\n",
       "      <td>1250000</td>\n",
       "      <td>7</td>\n",
       "      <td>0</td>\n",
       "      <td>No</td>\n",
       "      <td>No</td>\n",
       "      <td>0</td>\n",
       "    </tr>\n",
       "    <tr>\n",
       "      <th>2</th>\n",
       "      <td>34</td>\n",
       "      <td>Private Sector/Self Employed</td>\n",
       "      <td>Yes</td>\n",
       "      <td>500000</td>\n",
       "      <td>4</td>\n",
       "      <td>1</td>\n",
       "      <td>No</td>\n",
       "      <td>No</td>\n",
       "      <td>1</td>\n",
       "    </tr>\n",
       "    <tr>\n",
       "      <th>3</th>\n",
       "      <td>28</td>\n",
       "      <td>Private Sector/Self Employed</td>\n",
       "      <td>Yes</td>\n",
       "      <td>700000</td>\n",
       "      <td>3</td>\n",
       "      <td>1</td>\n",
       "      <td>No</td>\n",
       "      <td>No</td>\n",
       "      <td>0</td>\n",
       "    </tr>\n",
       "    <tr>\n",
       "      <th>4</th>\n",
       "      <td>28</td>\n",
       "      <td>Private Sector/Self Employed</td>\n",
       "      <td>Yes</td>\n",
       "      <td>700000</td>\n",
       "      <td>8</td>\n",
       "      <td>1</td>\n",
       "      <td>Yes</td>\n",
       "      <td>No</td>\n",
       "      <td>0</td>\n",
       "    </tr>\n",
       "    <tr>\n",
       "      <th>...</th>\n",
       "      <td>...</td>\n",
       "      <td>...</td>\n",
       "      <td>...</td>\n",
       "      <td>...</td>\n",
       "      <td>...</td>\n",
       "      <td>...</td>\n",
       "      <td>...</td>\n",
       "      <td>...</td>\n",
       "      <td>...</td>\n",
       "    </tr>\n",
       "    <tr>\n",
       "      <th>1982</th>\n",
       "      <td>33</td>\n",
       "      <td>Private Sector/Self Employed</td>\n",
       "      <td>Yes</td>\n",
       "      <td>1500000</td>\n",
       "      <td>4</td>\n",
       "      <td>0</td>\n",
       "      <td>Yes</td>\n",
       "      <td>Yes</td>\n",
       "      <td>1</td>\n",
       "    </tr>\n",
       "    <tr>\n",
       "      <th>1983</th>\n",
       "      <td>28</td>\n",
       "      <td>Private Sector/Self Employed</td>\n",
       "      <td>Yes</td>\n",
       "      <td>1750000</td>\n",
       "      <td>5</td>\n",
       "      <td>1</td>\n",
       "      <td>No</td>\n",
       "      <td>Yes</td>\n",
       "      <td>0</td>\n",
       "    </tr>\n",
       "    <tr>\n",
       "      <th>1984</th>\n",
       "      <td>28</td>\n",
       "      <td>Private Sector/Self Employed</td>\n",
       "      <td>Yes</td>\n",
       "      <td>1150000</td>\n",
       "      <td>6</td>\n",
       "      <td>1</td>\n",
       "      <td>No</td>\n",
       "      <td>No</td>\n",
       "      <td>0</td>\n",
       "    </tr>\n",
       "    <tr>\n",
       "      <th>1985</th>\n",
       "      <td>34</td>\n",
       "      <td>Private Sector/Self Employed</td>\n",
       "      <td>Yes</td>\n",
       "      <td>1000000</td>\n",
       "      <td>6</td>\n",
       "      <td>0</td>\n",
       "      <td>Yes</td>\n",
       "      <td>Yes</td>\n",
       "      <td>1</td>\n",
       "    </tr>\n",
       "    <tr>\n",
       "      <th>1986</th>\n",
       "      <td>34</td>\n",
       "      <td>Private Sector/Self Employed</td>\n",
       "      <td>Yes</td>\n",
       "      <td>500000</td>\n",
       "      <td>4</td>\n",
       "      <td>0</td>\n",
       "      <td>No</td>\n",
       "      <td>No</td>\n",
       "      <td>0</td>\n",
       "    </tr>\n",
       "  </tbody>\n",
       "</table>\n",
       "<p>1692 rows × 9 columns</p>\n",
       "</div>"
      ],
      "text/plain": [
       "      Age               Employment Type GraduateOrNot  AnnualIncome  \\\n",
       "0      31             Government Sector           Yes        400000   \n",
       "1      31  Private Sector/Self Employed           Yes       1250000   \n",
       "2      34  Private Sector/Self Employed           Yes        500000   \n",
       "3      28  Private Sector/Self Employed           Yes        700000   \n",
       "4      28  Private Sector/Self Employed           Yes        700000   \n",
       "...   ...                           ...           ...           ...   \n",
       "1982   33  Private Sector/Self Employed           Yes       1500000   \n",
       "1983   28  Private Sector/Self Employed           Yes       1750000   \n",
       "1984   28  Private Sector/Self Employed           Yes       1150000   \n",
       "1985   34  Private Sector/Self Employed           Yes       1000000   \n",
       "1986   34  Private Sector/Self Employed           Yes        500000   \n",
       "\n",
       "      FamilyMembers  ChronicDiseases FrequentFlyer EverTravelledAbroad  \\\n",
       "0                 6                1            No                  No   \n",
       "1                 7                0            No                  No   \n",
       "2                 4                1            No                  No   \n",
       "3                 3                1            No                  No   \n",
       "4                 8                1           Yes                  No   \n",
       "...             ...              ...           ...                 ...   \n",
       "1982              4                0           Yes                 Yes   \n",
       "1983              5                1            No                 Yes   \n",
       "1984              6                1            No                  No   \n",
       "1985              6                0           Yes                 Yes   \n",
       "1986              4                0            No                  No   \n",
       "\n",
       "      TravelInsurance  \n",
       "0                   0  \n",
       "1                   0  \n",
       "2                   1  \n",
       "3                   0  \n",
       "4                   0  \n",
       "...               ...  \n",
       "1982                1  \n",
       "1983                0  \n",
       "1984                0  \n",
       "1985                1  \n",
       "1986                0  \n",
       "\n",
       "[1692 rows x 9 columns]"
      ]
     },
     "execution_count": 32,
     "metadata": {},
     "output_type": "execute_result"
    }
   ],
   "source": [
    "grp1 = d.groupby('GraduateOrNot')\n",
    "temp_d = grp1.get_group('Yes')\n",
    "temp_d"
   ]
  },
  {
   "cell_type": "markdown",
   "id": "4faa39d4",
   "metadata": {},
   "source": [
    "### Data visualization"
   ]
  },
  {
   "cell_type": "markdown",
   "id": "38d6cb53",
   "metadata": {},
   "source": [
    "- bar graph"
   ]
  },
  {
   "cell_type": "code",
   "execution_count": 33,
   "id": "80a59556",
   "metadata": {},
   "outputs": [
    {
     "data": {
      "image/png": "[encoded data removed]",
      "text/plain": [
       "<Figure size 432x288 with 1 Axes>"
      ]
     },
     "metadata": {
      "needs_background": "light"
     },
     "output_type": "display_data"
    }
   ],
   "source": [
    "plt.bar(d['GraduateOrNot'],d[\"TravelInsurance\"])\n",
    "plt.title(\"graduation vs insurance\",fontsize=15,color=\"red\")\n",
    "plt.ylabel(\"Insurance\",fontsize=15)\n",
    "plt.xlabel(\"Graduated or not\",fontsize=15)\n",
    "plt.grid(True)\n",
    "plt.show()"
   ]
  },
  {
   "cell_type": "markdown",
   "id": "9bebb970",
   "metadata": {},
   "source": [
    "- Bar charts can be visualized using vertical or horizontal bars.\n",
    "- Bar charts are best used to compare a single category of data or several.\n",
    "- When comparing more than one category of data, the bars can be grouped together to created a grouped bar chart.\n",
    "- Here the graduated and not graduated people have same possibility to get the trvel insurance "
   ]
  },
  {
   "cell_type": "markdown",
   "id": "b2b3d019",
   "metadata": {},
   "source": [
    "##### distplot"
   ]
  },
  {
   "cell_type": "code",
   "execution_count": 34,
   "id": "9c21450e",
   "metadata": {},
   "outputs": [
    {
     "data": {
      "image/png": "[encoded data removed]",
      "text/plain": [
       "<Figure size 432x288 with 1 Axes>"
      ]
     },
     "metadata": {
      "needs_background": "light"
     },
     "output_type": "display_data"
    }
   ],
   "source": [
    "sns.distplot(d.AnnualIncome)\n",
    "plt.title(\"Distribution plot of Annualincome\")\n",
    "plt.show()"
   ]
  },
  {
   "cell_type": "markdown",
   "id": "5d055346",
   "metadata": {},
   "source": [
    "- Distplot are the plots which let us show a histogram with a line on it. In all kind of variations it can be shown\n",
    "- range of annual income is varied from person to person\n"
   ]
  },
  {
   "cell_type": "markdown",
   "id": "f8cd88ce",
   "metadata": {},
   "source": [
    "##### bar graph"
   ]
  },
  {
   "cell_type": "code",
   "execution_count": 35,
   "id": "5cc1e90c",
   "metadata": {},
   "outputs": [
    {
     "data": {
      "image/png": "[encoded data removed]",
      "text/plain": [
       "<Figure size 1296x360 with 1 Axes>"
      ]
     },
     "metadata": {
      "needs_background": "light"
     },
     "output_type": "display_data"
    }
   ],
   "source": [
    "plt.figure(figsize=(18,5))\n",
    "plt.bar('Employment Type','AnnualIncome',data=d,color='orange')\n",
    "plt.show()"
   ]
  },
  {
   "cell_type": "markdown",
   "id": "ba41f864",
   "metadata": {},
   "source": [
    "- Annual income of private setor employee is more than goverment sector employee"
   ]
  },
  {
   "cell_type": "markdown",
   "id": "d62ec7c1",
   "metadata": {},
   "source": [
    "#### countplot"
   ]
  },
  {
   "cell_type": "code",
   "execution_count": 36,
   "id": "fb6e5d19",
   "metadata": {},
   "outputs": [
    {
     "data": {
      "image/png": "[encoded data removed]",
      "text/plain": [
       "<Figure size 1080x288 with 1 Axes>"
      ]
     },
     "metadata": {
      "needs_background": "light"
     },
     "output_type": "display_data"
    }
   ],
   "source": [
    "plt.figure(figsize=(15,4))\n",
    "sns.countplot(x=d[\"Age\"])\n",
    "plt.xticks(rotation=90)\n",
    "plt.show()"
   ]
  },
  {
   "cell_type": "markdown",
   "id": "e23b4484",
   "metadata": {},
   "source": [
    "- countplot() method is used to Show the counts of observations in each categorical bin using bars.\n",
    "- Here dataset contain different age groups within 25 to 35 range\n",
    "- 28 age people are considering more in the dataset\n",
    "- Less count is about age 30 people"
   ]
  },
  {
   "cell_type": "markdown",
   "id": "5702e65d",
   "metadata": {},
   "source": [
    "##### histogrm"
   ]
  },
  {
   "cell_type": "code",
   "execution_count": 37,
   "id": "ea3b8f37",
   "metadata": {},
   "outputs": [
    {
     "data": {
      "image/png": "[encoded data removed]",
      "text/plain": [
       "<Figure size 432x288 with 1 Axes>"
      ]
     },
     "metadata": {
      "needs_background": "light"
     },
     "output_type": "display_data"
    }
   ],
   "source": [
    "plt.hist(d['Age'], bins=5)\n",
    "plt.show()"
   ]
  },
  {
   "cell_type": "markdown",
   "id": "bcb47893",
   "metadata": {},
   "source": [
    "##### distplot"
   ]
  },
  {
   "cell_type": "code",
   "execution_count": 38,
   "id": "3db4fad1",
   "metadata": {},
   "outputs": [
    {
     "data": {
      "image/png": "[encoded data removed]",
      "text/plain": [
       "<Figure size 432x288 with 1 Axes>"
      ]
     },
     "metadata": {
      "needs_background": "light"
     },
     "output_type": "display_data"
    }
   ],
   "source": [
    "sns.distplot(d['ChronicDiseases']) \n",
    "plt.show()"
   ]
  },
  {
   "cell_type": "code",
   "execution_count": 41,
   "id": "897c6fa3",
   "metadata": {},
   "outputs": [
    {
     "data": {
      "image/png": "[encoded data removed]",
      "text/plain": [
       "<Figure size 432x288 with 1 Axes>"
      ]
     },
     "metadata": {
      "needs_background": "light"
     },
     "output_type": "display_data"
    }
   ],
   "source": [
    "plt.bar(d['Age'],d['AnnualIncome'],color='red')\n",
    "plt.title('age vs income',fontsize=15,color='blue')\n",
    "plt.xlabel('age',fontsize=15)\n",
    "plt.ylabel('income',fontsize=15)\n",
    "plt.show()"
   ]
  },
  {
   "cell_type": "code",
   "execution_count": null,
   "id": "26696f2e",
   "metadata": {},
   "outputs": [],
   "source": []
  },
  {
   "cell_type": "markdown",
   "id": "d731e2c0",
   "metadata": {},
   "source": [
    "- peple get highest salary in there 20 to 28 stage\n",
    "- peple in 34 above age group have less salary "
   ]
  },
  {
   "cell_type": "code",
   "execution_count": 145,
   "id": "9e05940a",
   "metadata": {},
   "outputs": [
    {
     "data": {
      "image/png": "[encoded data removed]",
      "text/plain": [
       "<Figure size 720x360 with 1 Axes>"
      ]
     },
     "metadata": {
      "needs_background": "light"
     },
     "output_type": "display_data"
    }
   ],
   "source": [
    "plt.figure(figsize=(10,5))\n",
    "sns.countplot(x='TravelInsurance',data=d,palette='rocket_r',order=d['TravelInsurance'].value_counts().index)\n",
    "plt.xlabel('insurance',fontsize=25)\n",
    "plt.xticks(rotation=70)\n",
    "plt.show()"
   ]
  },
  {
   "cell_type": "markdown",
   "id": "b47d9061",
   "metadata": {},
   "source": [
    "- more people not interested to take the insurace"
   ]
  },
  {
   "cell_type": "markdown",
   "id": "73582d0f",
   "metadata": {},
   "source": [
    "##### heatmap"
   ]
  },
  {
   "cell_type": "code",
   "execution_count": 43,
   "id": "3cdfc943",
   "metadata": {},
   "outputs": [
    {
     "data": {
      "image/png": "[encoded data removed]",
      "text/plain": [
       "<Figure size 432x288 with 2 Axes>"
      ]
     },
     "metadata": {
      "needs_background": "light"
     },
     "output_type": "display_data"
    }
   ],
   "source": [
    "sns.heatmap(d.corr())\n",
    "plt.show()"
   ]
  },
  {
   "cell_type": "markdown",
   "id": "ef50ecdb",
   "metadata": {},
   "source": [
    "- Heatmaps are used to show relationships between two variables, one plotted on each axis.\n",
    "- By observing how cell colors change across each axis, \n",
    "- you can observe if there are any patterns in value for one or both variables."
   ]
  },
  {
   "cell_type": "markdown",
   "id": "ea170649",
   "metadata": {},
   "source": [
    "#### pie chart representation how many customers purchased trvel insurance"
   ]
  },
  {
   "cell_type": "markdown",
   "id": "152bfcdb",
   "metadata": {},
   "source": [
    "- A pie chart is a circular statistical graphic, which is divided into slices to illustrate numerical proportion.\n",
    "- In a pie chart, the arc length of each slice is proportional to the quantity it represents."
   ]
  },
  {
   "cell_type": "code",
   "execution_count": 44,
   "id": "d6231a6e",
   "metadata": {},
   "outputs": [
    {
     "data": {
      "image/png": "[encoded data removed]",
      "text/plain": [
       "<Figure size 432x288 with 1 Axes>"
      ]
     },
     "metadata": {},
     "output_type": "display_data"
    }
   ],
   "source": [
    "plt.title('TravelInsurance',fontsize=20)\n",
    "d['TravelInsurance'].value_counts().plot.pie(autopct='%1.1f%%',shadow=True)\n",
    "plt.legend(loc='lower left',title='insurance')\n",
    "plt.show()"
   ]
  },
  {
   "cell_type": "markdown",
   "id": "60436163",
   "metadata": {},
   "source": [
    "- From the pie chart we can find out that 35.7% people interested to purchase this insurance and \n",
    "- 64.3% people not interesteed to purchase the insurance\n"
   ]
  },
  {
   "cell_type": "markdown",
   "id": "03f4695b",
   "metadata": {},
   "source": [
    "- From this we can understand most of people not interested to purchase this insurance\n",
    "### Needs\n",
    "- which type people interested to purchase travel insurance\n",
    "- Is annual income is factor of decision taking about insurance purchase\n",
    "- How freequent flyers and EverTravelledAbroad related with travel insurance\n",
    "- Which type of people are not interested to purchase and which category people are more intereted to purchase\n",
    "- Need to find out what is the problem how to increase the customeres "
   ]
  },
  {
   "cell_type": "code",
   "execution_count": 45,
   "id": "27376544",
   "metadata": {},
   "outputs": [
    {
     "data": {
      "image/png": "[encoded data removed]",
      "text/plain": [
       "<Figure size 432x432 with 1 Axes>"
      ]
     },
     "metadata": {
      "needs_background": "light"
     },
     "output_type": "display_data"
    }
   ],
   "source": [
    "figure = plt.figure(figsize=(6,6))\n",
    "sns.barplot(x=\"Employment Type\",y=\"TravelInsurance\",data=d)\n",
    "plt.show()"
   ]
  },
  {
   "cell_type": "markdown",
   "id": "4068b982",
   "metadata": {},
   "source": [
    "- As per the graph we can understand that the people worked in the private sector is greater than people worked in goverment sector\n",
    "- People worked in private sector is interested to by the insurance than govenment sector"
   ]
  },
  {
   "cell_type": "code",
   "execution_count": 46,
   "id": "5335c30b",
   "metadata": {},
   "outputs": [
    {
     "data": {
      "image/png": "[encoded data removed]",
      "text/plain": [
       "<Figure size 432x432 with 1 Axes>"
      ]
     },
     "metadata": {
      "needs_background": "light"
     },
     "output_type": "display_data"
    }
   ],
   "source": [
    "figure = plt.figure(figsize=(6,6))\n",
    "sns.barplot(x=\"GraduateOrNot\",y=\"TravelInsurance\",data=d)\n",
    "plt.show()"
   ]
  },
  {
   "cell_type": "markdown",
   "id": "15647583",
   "metadata": {},
   "source": [
    "- Graduated people buying travel insurance than  not graduated people\n",
    "- But there is no much difference in both categories interest\n",
    "- so we can neglit the graduation from obtaing target"
   ]
  },
  {
   "cell_type": "code",
   "execution_count": 47,
   "id": "b2cbcf9f",
   "metadata": {},
   "outputs": [
    {
     "data": {
      "image/png": "[encoded data removed]",
      "text/plain": [
       "<Figure size 432x432 with 1 Axes>"
      ]
     },
     "metadata": {
      "needs_background": "light"
     },
     "output_type": "display_data"
    }
   ],
   "source": [
    "figure = plt.figure(figsize=(6,6))\n",
    "sns.barplot(x=\"ChronicDiseases\",y=\"TravelInsurance\",data=d)\n",
    "plt.show()"
   ]
  },
  {
   "cell_type": "markdown",
   "id": "95e07969",
   "metadata": {},
   "source": [
    "- There is no much difference in the interest to purchase insurance in diseased catogory and non diseased catogory\n",
    "- How ever the nondiseased catogory people are slightly higher to purchase insurance"
   ]
  },
  {
   "cell_type": "code",
   "execution_count": 48,
   "id": "7a1063ea",
   "metadata": {},
   "outputs": [
    {
     "data": {
      "image/png": "[encoded data removed]",
      "text/plain": [
       "<Figure size 432x432 with 1 Axes>"
      ]
     },
     "metadata": {
      "needs_background": "light"
     },
     "output_type": "display_data"
    }
   ],
   "source": [
    "figure = plt.figure(figsize=(6,6))\n",
    "sns.barplot(x=\"FrequentFlyer\",y=\"TravelInsurance\",data=d)\n",
    "plt.show()"
   ]
  },
  {
   "cell_type": "markdown",
   "id": "ddede166",
   "metadata": {},
   "source": [
    "- From this we can analyse that freequent flyers are more aware about insurance and they are interested to purchase insurance\n",
    "- only less people took insurance from the category of not freequent flyers"
   ]
  },
  {
   "cell_type": "code",
   "execution_count": 49,
   "id": "891fe0e6",
   "metadata": {},
   "outputs": [
    {
     "data": {
      "image/png": "[encoded data removed]",
      "text/plain": [
       "<Figure size 432x432 with 1 Axes>"
      ]
     },
     "metadata": {
      "needs_background": "light"
     },
     "output_type": "display_data"
    }
   ],
   "source": [
    "figure = plt.figure(figsize=(6,6))\n",
    "sns.barplot(x=\"EverTravelledAbroad\",y=\"TravelInsurance\",data=d)\n",
    "plt.show()"
   ]
  },
  {
   "cell_type": "markdown",
   "id": "b462afa2",
   "metadata": {},
   "source": [
    "- most travelled people are interested to take insurance\n",
    "- Those who are not travelled much not interested to by insurance"
   ]
  },
  {
   "cell_type": "code",
   "execution_count": 14,
   "id": "ee152b36",
   "metadata": {},
   "outputs": [],
   "source": [
    "d1=pd.crosstab(d['AnnualIncome'],d['TravelInsurance'])"
   ]
  },
  {
   "cell_type": "code",
   "execution_count": 15,
   "id": "03cacbb8",
   "metadata": {},
   "outputs": [
    {
     "data": {
      "text/html": [
       "<div>\n",
       "<style scoped>\n",
       "    .dataframe tbody tr th:only-of-type {\n",
       "        vertical-align: middle;\n",
       "    }\n",
       "\n",
       "    .dataframe tbody tr th {\n",
       "        vertical-align: top;\n",
       "    }\n",
       "\n",
       "    .dataframe thead th {\n",
       "        text-align: right;\n",
       "    }\n",
       "</style>\n",
       "<table border=\"1\" class=\"dataframe\">\n",
       "  <thead>\n",
       "    <tr style=\"text-align: right;\">\n",
       "      <th>TravelInsurance</th>\n",
       "      <th>0</th>\n",
       "      <th>1</th>\n",
       "    </tr>\n",
       "    <tr>\n",
       "      <th>AnnualIncome</th>\n",
       "      <th></th>\n",
       "      <th></th>\n",
       "    </tr>\n",
       "  </thead>\n",
       "  <tbody>\n",
       "    <tr>\n",
       "      <th>300000</th>\n",
       "      <td>82</td>\n",
       "      <td>6</td>\n",
       "    </tr>\n",
       "    <tr>\n",
       "      <th>350000</th>\n",
       "      <td>51</td>\n",
       "      <td>4</td>\n",
       "    </tr>\n",
       "    <tr>\n",
       "      <th>400000</th>\n",
       "      <td>55</td>\n",
       "      <td>10</td>\n",
       "    </tr>\n",
       "    <tr>\n",
       "      <th>450000</th>\n",
       "      <td>10</td>\n",
       "      <td>5</td>\n",
       "    </tr>\n",
       "    <tr>\n",
       "      <th>500000</th>\n",
       "      <td>108</td>\n",
       "      <td>35</td>\n",
       "    </tr>\n",
       "    <tr>\n",
       "      <th>550000</th>\n",
       "      <td>58</td>\n",
       "      <td>23</td>\n",
       "    </tr>\n",
       "    <tr>\n",
       "      <th>600000</th>\n",
       "      <td>79</td>\n",
       "      <td>19</td>\n",
       "    </tr>\n",
       "    <tr>\n",
       "      <th>650000</th>\n",
       "      <td>19</td>\n",
       "      <td>11</td>\n",
       "    </tr>\n",
       "    <tr>\n",
       "      <th>700000</th>\n",
       "      <td>65</td>\n",
       "      <td>30</td>\n",
       "    </tr>\n",
       "    <tr>\n",
       "      <th>750000</th>\n",
       "      <td>52</td>\n",
       "      <td>13</td>\n",
       "    </tr>\n",
       "    <tr>\n",
       "      <th>800000</th>\n",
       "      <td>112</td>\n",
       "      <td>41</td>\n",
       "    </tr>\n",
       "    <tr>\n",
       "      <th>850000</th>\n",
       "      <td>42</td>\n",
       "      <td>13</td>\n",
       "    </tr>\n",
       "    <tr>\n",
       "      <th>900000</th>\n",
       "      <td>56</td>\n",
       "      <td>16</td>\n",
       "    </tr>\n",
       "    <tr>\n",
       "      <th>950000</th>\n",
       "      <td>15</td>\n",
       "      <td>6</td>\n",
       "    </tr>\n",
       "    <tr>\n",
       "      <th>1000000</th>\n",
       "      <td>41</td>\n",
       "      <td>19</td>\n",
       "    </tr>\n",
       "    <tr>\n",
       "      <th>1050000</th>\n",
       "      <td>56</td>\n",
       "      <td>26</td>\n",
       "    </tr>\n",
       "    <tr>\n",
       "      <th>1100000</th>\n",
       "      <td>79</td>\n",
       "      <td>28</td>\n",
       "    </tr>\n",
       "    <tr>\n",
       "      <th>1150000</th>\n",
       "      <td>66</td>\n",
       "      <td>13</td>\n",
       "    </tr>\n",
       "    <tr>\n",
       "      <th>1200000</th>\n",
       "      <td>86</td>\n",
       "      <td>26</td>\n",
       "    </tr>\n",
       "    <tr>\n",
       "      <th>1250000</th>\n",
       "      <td>58</td>\n",
       "      <td>13</td>\n",
       "    </tr>\n",
       "    <tr>\n",
       "      <th>1300000</th>\n",
       "      <td>56</td>\n",
       "      <td>35</td>\n",
       "    </tr>\n",
       "    <tr>\n",
       "      <th>1350000</th>\n",
       "      <td>2</td>\n",
       "      <td>41</td>\n",
       "    </tr>\n",
       "    <tr>\n",
       "      <th>1400000</th>\n",
       "      <td>11</td>\n",
       "      <td>119</td>\n",
       "    </tr>\n",
       "    <tr>\n",
       "      <th>1450000</th>\n",
       "      <td>0</td>\n",
       "      <td>31</td>\n",
       "    </tr>\n",
       "    <tr>\n",
       "      <th>1500000</th>\n",
       "      <td>3</td>\n",
       "      <td>79</td>\n",
       "    </tr>\n",
       "    <tr>\n",
       "      <th>1550000</th>\n",
       "      <td>0</td>\n",
       "      <td>5</td>\n",
       "    </tr>\n",
       "    <tr>\n",
       "      <th>1650000</th>\n",
       "      <td>0</td>\n",
       "      <td>2</td>\n",
       "    </tr>\n",
       "    <tr>\n",
       "      <th>1700000</th>\n",
       "      <td>4</td>\n",
       "      <td>33</td>\n",
       "    </tr>\n",
       "    <tr>\n",
       "      <th>1750000</th>\n",
       "      <td>11</td>\n",
       "      <td>4</td>\n",
       "    </tr>\n",
       "    <tr>\n",
       "      <th>1800000</th>\n",
       "      <td>0</td>\n",
       "      <td>4</td>\n",
       "    </tr>\n",
       "  </tbody>\n",
       "</table>\n",
       "</div>"
      ],
      "text/plain": [
       "TravelInsurance    0    1\n",
       "AnnualIncome             \n",
       "300000            82    6\n",
       "350000            51    4\n",
       "400000            55   10\n",
       "450000            10    5\n",
       "500000           108   35\n",
       "550000            58   23\n",
       "600000            79   19\n",
       "650000            19   11\n",
       "700000            65   30\n",
       "750000            52   13\n",
       "800000           112   41\n",
       "850000            42   13\n",
       "900000            56   16\n",
       "950000            15    6\n",
       "1000000           41   19\n",
       "1050000           56   26\n",
       "1100000           79   28\n",
       "1150000           66   13\n",
       "1200000           86   26\n",
       "1250000           58   13\n",
       "1300000           56   35\n",
       "1350000            2   41\n",
       "1400000           11  119\n",
       "1450000            0   31\n",
       "1500000            3   79\n",
       "1550000            0    5\n",
       "1650000            0    2\n",
       "1700000            4   33\n",
       "1750000           11    4\n",
       "1800000            0    4"
      ]
     },
     "execution_count": 15,
     "metadata": {},
     "output_type": "execute_result"
    }
   ],
   "source": [
    "d1"
   ]
  },
  {
   "cell_type": "code",
   "execution_count": 16,
   "id": "c50dd4a8",
   "metadata": {},
   "outputs": [
    {
     "data": {
      "image/png": "[encoded data removed]",
      "text/plain": [
       "<Figure size 432x288 with 1 Axes>"
      ]
     },
     "metadata": {
      "needs_background": "light"
     },
     "output_type": "display_data"
    }
   ],
   "source": [
    "d1.plot(kind=\"bar\",stacked=True)\n",
    "plt.show()"
   ]
  },
  {
   "cell_type": "markdown",
   "id": "1428d2f9",
   "metadata": {},
   "source": [
    "- Here we can see another information that will help us identify our target audience. \n",
    "- Annual income seems to make a big difference, we can see a very sudden increase in customer who do purchase  an insurance after crossing the 1.3M mark. \n",
    "###### It will be important for us to explore this infomration and see if there is any correlation betweem the income and other features.\n",
    "- Who are the people with the highest income?\n",
    "- And why our product is not acessible for lower-income customers? \n",
    "- Or maybe it is that they already have that need covered by something else? \n",
    "- If there is a correlation between the lower income and working in the government sector for example. \n"
   ]
  },
  {
   "cell_type": "code",
   "execution_count": 51,
   "id": "912f480f",
   "metadata": {},
   "outputs": [
    {
     "data": {
      "image/png": "[encoded data removed]",
      "text/plain": [
       "<Figure size 432x432 with 1 Axes>"
      ]
     },
     "metadata": {
      "needs_background": "light"
     },
     "output_type": "display_data"
    }
   ],
   "source": [
    "figure = plt.figure(figsize=(6,6))\n",
    "sns.barplot(x=\"Employment Type\",y=\"AnnualIncome\",data=d)\n",
    "plt.show()"
   ]
  },
  {
   "cell_type": "markdown",
   "id": "3a08fd7d",
   "metadata": {},
   "source": [
    "- people who worked in private sector have more annual income than goverment sector "
   ]
  },
  {
   "cell_type": "code",
   "execution_count": 52,
   "id": "731d4d64",
   "metadata": {},
   "outputs": [
    {
     "data": {
      "image/png": "[encoded data removed]",
      "text/plain": [
       "<Figure size 432x288 with 1 Axes>"
      ]
     },
     "metadata": {
      "needs_background": "light"
     },
     "output_type": "display_data"
    }
   ],
   "source": [
    "plt.bar(d['Age'],d[\"AnnualIncome\"])\n",
    "plt.title(\"age vs income\",fontsize=15,color=\"red\")\n",
    "plt.xlabel(\"age\",fontsize=15)\n",
    "plt.ylabel(\"income\",fontsize=15)\n",
    "plt.grid(True)\n",
    "plt.show()"
   ]
  },
  {
   "cell_type": "code",
   "execution_count": 19,
   "id": "464fe68e",
   "metadata": {},
   "outputs": [],
   "source": [
    "d2=pd.crosstab(d['FamilyMembers'],d['TravelInsurance'])"
   ]
  },
  {
   "cell_type": "code",
   "execution_count": 20,
   "id": "2be988dc",
   "metadata": {},
   "outputs": [
    {
     "data": {
      "text/html": [
       "<div>\n",
       "<style scoped>\n",
       "    .dataframe tbody tr th:only-of-type {\n",
       "        vertical-align: middle;\n",
       "    }\n",
       "\n",
       "    .dataframe tbody tr th {\n",
       "        vertical-align: top;\n",
       "    }\n",
       "\n",
       "    .dataframe thead th {\n",
       "        text-align: right;\n",
       "    }\n",
       "</style>\n",
       "<table border=\"1\" class=\"dataframe\">\n",
       "  <thead>\n",
       "    <tr style=\"text-align: right;\">\n",
       "      <th>TravelInsurance</th>\n",
       "      <th>0</th>\n",
       "      <th>1</th>\n",
       "    </tr>\n",
       "    <tr>\n",
       "      <th>FamilyMembers</th>\n",
       "      <th></th>\n",
       "      <th></th>\n",
       "    </tr>\n",
       "  </thead>\n",
       "  <tbody>\n",
       "    <tr>\n",
       "      <th>2</th>\n",
       "      <td>66</td>\n",
       "      <td>27</td>\n",
       "    </tr>\n",
       "    <tr>\n",
       "      <th>3</th>\n",
       "      <td>242</td>\n",
       "      <td>135</td>\n",
       "    </tr>\n",
       "    <tr>\n",
       "      <th>4</th>\n",
       "      <td>345</td>\n",
       "      <td>160</td>\n",
       "    </tr>\n",
       "    <tr>\n",
       "      <th>5</th>\n",
       "      <td>295</td>\n",
       "      <td>131</td>\n",
       "    </tr>\n",
       "    <tr>\n",
       "      <th>6</th>\n",
       "      <td>165</td>\n",
       "      <td>129</td>\n",
       "    </tr>\n",
       "    <tr>\n",
       "      <th>7</th>\n",
       "      <td>97</td>\n",
       "      <td>81</td>\n",
       "    </tr>\n",
       "    <tr>\n",
       "      <th>8</th>\n",
       "      <td>38</td>\n",
       "      <td>21</td>\n",
       "    </tr>\n",
       "    <tr>\n",
       "      <th>9</th>\n",
       "      <td>29</td>\n",
       "      <td>26</td>\n",
       "    </tr>\n",
       "  </tbody>\n",
       "</table>\n",
       "</div>"
      ],
      "text/plain": [
       "TravelInsurance    0    1\n",
       "FamilyMembers            \n",
       "2                 66   27\n",
       "3                242  135\n",
       "4                345  160\n",
       "5                295  131\n",
       "6                165  129\n",
       "7                 97   81\n",
       "8                 38   21\n",
       "9                 29   26"
      ]
     },
     "execution_count": 20,
     "metadata": {},
     "output_type": "execute_result"
    }
   ],
   "source": [
    "d2"
   ]
  },
  {
   "cell_type": "code",
   "execution_count": 21,
   "id": "aceab99e",
   "metadata": {},
   "outputs": [
    {
     "data": {
      "image/png": "[encoded data removed]",
      "text/plain": [
       "<Figure size 432x288 with 1 Axes>"
      ]
     },
     "metadata": {
      "needs_background": "light"
     },
     "output_type": "display_data"
    }
   ],
   "source": [
    "d2.plot(kind=\"bar\",stacked=True)\n",
    "plt.show()"
   ]
  },
  {
   "cell_type": "markdown",
   "id": "25afec08",
   "metadata": {},
   "source": [
    "- When it comes to the family members, the ratio of buying the insurance stays the same throughout the whole graph.\n",
    "- There is only significantly less customers who make a purchase in the two member family groups.\n"
   ]
  },
  {
   "cell_type": "code",
   "execution_count": 23,
   "id": "cb26006d",
   "metadata": {},
   "outputs": [],
   "source": [
    "d3=pd.crosstab(d['EverTravelledAbroad'],d['TravelInsurance'])"
   ]
  },
  {
   "cell_type": "code",
   "execution_count": 24,
   "id": "69706cce",
   "metadata": {},
   "outputs": [
    {
     "data": {
      "text/html": [
       "<div>\n",
       "<style scoped>\n",
       "    .dataframe tbody tr th:only-of-type {\n",
       "        vertical-align: middle;\n",
       "    }\n",
       "\n",
       "    .dataframe tbody tr th {\n",
       "        vertical-align: top;\n",
       "    }\n",
       "\n",
       "    .dataframe thead th {\n",
       "        text-align: right;\n",
       "    }\n",
       "</style>\n",
       "<table border=\"1\" class=\"dataframe\">\n",
       "  <thead>\n",
       "    <tr style=\"text-align: right;\">\n",
       "      <th>TravelInsurance</th>\n",
       "      <th>0</th>\n",
       "      <th>1</th>\n",
       "    </tr>\n",
       "    <tr>\n",
       "      <th>EverTravelledAbroad</th>\n",
       "      <th></th>\n",
       "      <th></th>\n",
       "    </tr>\n",
       "  </thead>\n",
       "  <tbody>\n",
       "    <tr>\n",
       "      <th>No</th>\n",
       "      <td>1195</td>\n",
       "      <td>412</td>\n",
       "    </tr>\n",
       "    <tr>\n",
       "      <th>Yes</th>\n",
       "      <td>82</td>\n",
       "      <td>298</td>\n",
       "    </tr>\n",
       "  </tbody>\n",
       "</table>\n",
       "</div>"
      ],
      "text/plain": [
       "TravelInsurance         0    1\n",
       "EverTravelledAbroad           \n",
       "No                   1195  412\n",
       "Yes                    82  298"
      ]
     },
     "execution_count": 24,
     "metadata": {},
     "output_type": "execute_result"
    }
   ],
   "source": [
    "d3"
   ]
  },
  {
   "cell_type": "code",
   "execution_count": 25,
   "id": "f00551d7",
   "metadata": {},
   "outputs": [
    {
     "data": {
      "image/png": "[encoded data removed]",
      "text/plain": [
       "<Figure size 432x288 with 1 Axes>"
      ]
     },
     "metadata": {
      "needs_background": "light"
     },
     "output_type": "display_data"
    }
   ],
   "source": [
    "d3.plot(kind=\"bar\",stacked=True)\n",
    "plt.show()"
   ]
  },
  {
   "cell_type": "markdown",
   "id": "b59bf99e",
   "metadata": {},
   "source": [
    "\n",
    "- There is a few things we need to keep in mind, first of all the company has  more customers who did not travel abroad, second of all, just because they did not travel abroad does not mean that they are not travelling there now.\n",
    "- Also, just because they didn't travel abroad doesn't mean that they did not travel at all.\n",
    "- We don't know if the company only offers insurance for flights that go abroad, otherwise we could assume that the lack of experience might make them overlook important things like travel insurance, where people who did travel at least once already know that it is indeed important. \n",
    "- That being said, nothing like that had been specified in the dataset so I'm going to ignore it and go with a different assumption to test later.\n",
    "- It could be that the people who got to travel abroad already have a higher income and like we saw before, they are more likely to purchase the insurance."
   ]
  },
  {
   "cell_type": "code",
   "execution_count": 26,
   "id": "d5326a2d",
   "metadata": {},
   "outputs": [],
   "source": [
    "d4=pd.crosstab(d['FrequentFlyer'],d['TravelInsurance'])"
   ]
  },
  {
   "cell_type": "code",
   "execution_count": 27,
   "id": "5f6bb368",
   "metadata": {},
   "outputs": [
    {
     "data": {
      "text/html": [
       "<div>\n",
       "<style scoped>\n",
       "    .dataframe tbody tr th:only-of-type {\n",
       "        vertical-align: middle;\n",
       "    }\n",
       "\n",
       "    .dataframe tbody tr th {\n",
       "        vertical-align: top;\n",
       "    }\n",
       "\n",
       "    .dataframe thead th {\n",
       "        text-align: right;\n",
       "    }\n",
       "</style>\n",
       "<table border=\"1\" class=\"dataframe\">\n",
       "  <thead>\n",
       "    <tr style=\"text-align: right;\">\n",
       "      <th>TravelInsurance</th>\n",
       "      <th>0</th>\n",
       "      <th>1</th>\n",
       "    </tr>\n",
       "    <tr>\n",
       "      <th>FrequentFlyer</th>\n",
       "      <th></th>\n",
       "      <th></th>\n",
       "    </tr>\n",
       "  </thead>\n",
       "  <tbody>\n",
       "    <tr>\n",
       "      <th>No</th>\n",
       "      <td>1099</td>\n",
       "      <td>471</td>\n",
       "    </tr>\n",
       "    <tr>\n",
       "      <th>Yes</th>\n",
       "      <td>178</td>\n",
       "      <td>239</td>\n",
       "    </tr>\n",
       "  </tbody>\n",
       "</table>\n",
       "</div>"
      ],
      "text/plain": [
       "TravelInsurance     0    1\n",
       "FrequentFlyer             \n",
       "No               1099  471\n",
       "Yes               178  239"
      ]
     },
     "execution_count": 27,
     "metadata": {},
     "output_type": "execute_result"
    }
   ],
   "source": [
    "d4"
   ]
  },
  {
   "cell_type": "code",
   "execution_count": 28,
   "id": "89bf2781",
   "metadata": {},
   "outputs": [
    {
     "data": {
      "image/png": "[encoded data removed]",
      "text/plain": [
       "<Figure size 432x288 with 1 Axes>"
      ]
     },
     "metadata": {
      "needs_background": "light"
     },
     "output_type": "display_data"
    }
   ],
   "source": [
    "d4.plot(kind=\"bar\",stacked=True)\n",
    "plt.show()"
   ]
  },
  {
   "cell_type": "markdown",
   "id": "3b1606d1",
   "metadata": {},
   "source": [
    "- Most of the people are not freequent flyers.But those who are not freequent flyers also purchase insurance\n",
    "- In freequent flyres also equal amount of travel insurance purchasd and not purchased people\n",
    "- so freequent flyer not consider in this analysis beause it may be lack of knowledge amount insurance and all"
   ]
  },
  {
   "cell_type": "code",
   "execution_count": 29,
   "id": "523670c7",
   "metadata": {},
   "outputs": [],
   "source": [
    "d5=pd.crosstab(d['Age'],d['TravelInsurance'])"
   ]
  },
  {
   "cell_type": "code",
   "execution_count": 30,
   "id": "db6b9be9",
   "metadata": {},
   "outputs": [
    {
     "data": {
      "text/html": [
       "<div>\n",
       "<style scoped>\n",
       "    .dataframe tbody tr th:only-of-type {\n",
       "        vertical-align: middle;\n",
       "    }\n",
       "\n",
       "    .dataframe tbody tr th {\n",
       "        vertical-align: top;\n",
       "    }\n",
       "\n",
       "    .dataframe thead th {\n",
       "        text-align: right;\n",
       "    }\n",
       "</style>\n",
       "<table border=\"1\" class=\"dataframe\">\n",
       "  <thead>\n",
       "    <tr style=\"text-align: right;\">\n",
       "      <th>TravelInsurance</th>\n",
       "      <th>0</th>\n",
       "      <th>1</th>\n",
       "    </tr>\n",
       "    <tr>\n",
       "      <th>Age</th>\n",
       "      <th></th>\n",
       "      <th></th>\n",
       "    </tr>\n",
       "  </thead>\n",
       "  <tbody>\n",
       "    <tr>\n",
       "      <th>25</th>\n",
       "      <td>54</td>\n",
       "      <td>92</td>\n",
       "    </tr>\n",
       "    <tr>\n",
       "      <th>26</th>\n",
       "      <td>74</td>\n",
       "      <td>74</td>\n",
       "    </tr>\n",
       "    <tr>\n",
       "      <th>27</th>\n",
       "      <td>104</td>\n",
       "      <td>27</td>\n",
       "    </tr>\n",
       "    <tr>\n",
       "      <th>28</th>\n",
       "      <td>401</td>\n",
       "      <td>105</td>\n",
       "    </tr>\n",
       "    <tr>\n",
       "      <th>29</th>\n",
       "      <td>141</td>\n",
       "      <td>51</td>\n",
       "    </tr>\n",
       "    <tr>\n",
       "      <th>30</th>\n",
       "      <td>37</td>\n",
       "      <td>28</td>\n",
       "    </tr>\n",
       "    <tr>\n",
       "      <th>31</th>\n",
       "      <td>159</td>\n",
       "      <td>75</td>\n",
       "    </tr>\n",
       "    <tr>\n",
       "      <th>32</th>\n",
       "      <td>72</td>\n",
       "      <td>19</td>\n",
       "    </tr>\n",
       "    <tr>\n",
       "      <th>33</th>\n",
       "      <td>70</td>\n",
       "      <td>78</td>\n",
       "    </tr>\n",
       "    <tr>\n",
       "      <th>34</th>\n",
       "      <td>133</td>\n",
       "      <td>133</td>\n",
       "    </tr>\n",
       "    <tr>\n",
       "      <th>35</th>\n",
       "      <td>32</td>\n",
       "      <td>28</td>\n",
       "    </tr>\n",
       "  </tbody>\n",
       "</table>\n",
       "</div>"
      ],
      "text/plain": [
       "TravelInsurance    0    1\n",
       "Age                      \n",
       "25                54   92\n",
       "26                74   74\n",
       "27               104   27\n",
       "28               401  105\n",
       "29               141   51\n",
       "30                37   28\n",
       "31               159   75\n",
       "32                72   19\n",
       "33                70   78\n",
       "34               133  133\n",
       "35                32   28"
      ]
     },
     "execution_count": 30,
     "metadata": {},
     "output_type": "execute_result"
    }
   ],
   "source": [
    "d5"
   ]
  },
  {
   "cell_type": "code",
   "execution_count": 31,
   "id": "eee7dcad",
   "metadata": {},
   "outputs": [
    {
     "data": {
      "image/png": "[encoded data removed]",
      "text/plain": [
       "<Figure size 432x288 with 1 Axes>"
      ]
     },
     "metadata": {
      "needs_background": "light"
     },
     "output_type": "display_data"
    }
   ],
   "source": [
    "d5.plot(kind=\"bar\",stacked=True)\n",
    "plt.show()"
   ]
  },
  {
   "cell_type": "markdown",
   "id": "288d026c",
   "metadata": {},
   "source": [
    "- Very important information, it seems like our main customers are in their late 20s and early 30s but only the second group is interested in purchasing the insurance. \n",
    "- Could be related to life experience, higher income or the offer being more suitable for people with kids that grew anough to travel."
   ]
  },
  {
   "cell_type": "code",
   "execution_count": 32,
   "id": "c6885d58",
   "metadata": {},
   "outputs": [
    {
     "data": {
      "text/html": [
       "<div>\n",
       "<style scoped>\n",
       "    .dataframe tbody tr th:only-of-type {\n",
       "        vertical-align: middle;\n",
       "    }\n",
       "\n",
       "    .dataframe tbody tr th {\n",
       "        vertical-align: top;\n",
       "    }\n",
       "\n",
       "    .dataframe thead th {\n",
       "        text-align: right;\n",
       "    }\n",
       "</style>\n",
       "<table border=\"1\" class=\"dataframe\">\n",
       "  <thead>\n",
       "    <tr style=\"text-align: right;\">\n",
       "      <th>TravelInsurance</th>\n",
       "      <th>0</th>\n",
       "      <th>1</th>\n",
       "    </tr>\n",
       "    <tr>\n",
       "      <th>GraduateOrNot</th>\n",
       "      <th></th>\n",
       "      <th></th>\n",
       "    </tr>\n",
       "  </thead>\n",
       "  <tbody>\n",
       "    <tr>\n",
       "      <th>No</th>\n",
       "      <td>196</td>\n",
       "      <td>99</td>\n",
       "    </tr>\n",
       "    <tr>\n",
       "      <th>Yes</th>\n",
       "      <td>1081</td>\n",
       "      <td>611</td>\n",
       "    </tr>\n",
       "  </tbody>\n",
       "</table>\n",
       "</div>"
      ],
      "text/plain": [
       "TravelInsurance     0    1\n",
       "GraduateOrNot             \n",
       "No                196   99\n",
       "Yes              1081  611"
      ]
     },
     "execution_count": 32,
     "metadata": {},
     "output_type": "execute_result"
    }
   ],
   "source": [
    "d6=pd.crosstab(d['GraduateOrNot'],d['TravelInsurance'])\n",
    "d6"
   ]
  },
  {
   "cell_type": "code",
   "execution_count": 36,
   "id": "95d6c488",
   "metadata": {},
   "outputs": [
    {
     "data": {
      "image/png": "[encoded data removed]",
      "text/plain": [
       "<Figure size 432x288 with 1 Axes>"
      ]
     },
     "metadata": {
      "needs_background": "light"
     },
     "output_type": "display_data"
    }
   ],
   "source": [
    "d6.plot(kind=\"bar\",stacked=True)\n",
    "plt.show()"
   ]
  },
  {
   "cell_type": "markdown",
   "id": "20909806",
   "metadata": {},
   "source": [
    "- We can see that there is significantly more graduates in our data set but they don't seem to be that more keen to say yes.\n",
    "- in both group people contain insurace purchased people and not purchased people"
   ]
  },
  {
   "cell_type": "code",
   "execution_count": 37,
   "id": "acc33e92",
   "metadata": {},
   "outputs": [
    {
     "data": {
      "text/html": [
       "<div>\n",
       "<style scoped>\n",
       "    .dataframe tbody tr th:only-of-type {\n",
       "        vertical-align: middle;\n",
       "    }\n",
       "\n",
       "    .dataframe tbody tr th {\n",
       "        vertical-align: top;\n",
       "    }\n",
       "\n",
       "    .dataframe thead th {\n",
       "        text-align: right;\n",
       "    }\n",
       "</style>\n",
       "<table border=\"1\" class=\"dataframe\">\n",
       "  <thead>\n",
       "    <tr style=\"text-align: right;\">\n",
       "      <th>TravelInsurance</th>\n",
       "      <th>0</th>\n",
       "      <th>1</th>\n",
       "    </tr>\n",
       "    <tr>\n",
       "      <th>ChronicDiseases</th>\n",
       "      <th></th>\n",
       "      <th></th>\n",
       "    </tr>\n",
       "  </thead>\n",
       "  <tbody>\n",
       "    <tr>\n",
       "      <th>0</th>\n",
       "      <td>930</td>\n",
       "      <td>505</td>\n",
       "    </tr>\n",
       "    <tr>\n",
       "      <th>1</th>\n",
       "      <td>347</td>\n",
       "      <td>205</td>\n",
       "    </tr>\n",
       "  </tbody>\n",
       "</table>\n",
       "</div>"
      ],
      "text/plain": [
       "TravelInsurance    0    1\n",
       "ChronicDiseases          \n",
       "0                930  505\n",
       "1                347  205"
      ]
     },
     "execution_count": 37,
     "metadata": {},
     "output_type": "execute_result"
    }
   ],
   "source": [
    "d7=pd.crosstab(d['ChronicDiseases'],d['TravelInsurance'])\n",
    "d7"
   ]
  },
  {
   "cell_type": "code",
   "execution_count": 38,
   "id": "a771344d",
   "metadata": {},
   "outputs": [
    {
     "data": {
      "image/png": "[encoded data removed]",
      "text/plain": [
       "<Figure size 432x288 with 1 Axes>"
      ]
     },
     "metadata": {
      "needs_background": "light"
     },
     "output_type": "display_data"
    }
   ],
   "source": [
    "d7.plot(kind=\"bar\",stacked=True)\n",
    "plt.show()"
   ]
  },
  {
   "cell_type": "markdown",
   "id": "3c89a6f3",
   "metadata": {},
   "source": [
    "- Just like the graph before, there doesn't seem to be much difference between the two groups of people. \n",
    "- I think it is safe to assume that in both cases there is something else that makes people buy the insurance or the otherwise."
   ]
  },
  {
   "cell_type": "code",
   "execution_count": 40,
   "id": "1fffc850",
   "metadata": {},
   "outputs": [
    {
     "data": {
      "text/html": [
       "<div>\n",
       "<style scoped>\n",
       "    .dataframe tbody tr th:only-of-type {\n",
       "        vertical-align: middle;\n",
       "    }\n",
       "\n",
       "    .dataframe tbody tr th {\n",
       "        vertical-align: top;\n",
       "    }\n",
       "\n",
       "    .dataframe thead th {\n",
       "        text-align: right;\n",
       "    }\n",
       "</style>\n",
       "<table border=\"1\" class=\"dataframe\">\n",
       "  <thead>\n",
       "    <tr style=\"text-align: right;\">\n",
       "      <th>GraduateOrNot</th>\n",
       "      <th>No</th>\n",
       "      <th>Yes</th>\n",
       "    </tr>\n",
       "    <tr>\n",
       "      <th>AnnualIncome</th>\n",
       "      <th></th>\n",
       "      <th></th>\n",
       "    </tr>\n",
       "  </thead>\n",
       "  <tbody>\n",
       "    <tr>\n",
       "      <th>300000</th>\n",
       "      <td>23</td>\n",
       "      <td>65</td>\n",
       "    </tr>\n",
       "    <tr>\n",
       "      <th>350000</th>\n",
       "      <td>17</td>\n",
       "      <td>38</td>\n",
       "    </tr>\n",
       "    <tr>\n",
       "      <th>400000</th>\n",
       "      <td>13</td>\n",
       "      <td>52</td>\n",
       "    </tr>\n",
       "    <tr>\n",
       "      <th>450000</th>\n",
       "      <td>10</td>\n",
       "      <td>5</td>\n",
       "    </tr>\n",
       "    <tr>\n",
       "      <th>500000</th>\n",
       "      <td>5</td>\n",
       "      <td>138</td>\n",
       "    </tr>\n",
       "    <tr>\n",
       "      <th>550000</th>\n",
       "      <td>36</td>\n",
       "      <td>45</td>\n",
       "    </tr>\n",
       "    <tr>\n",
       "      <th>600000</th>\n",
       "      <td>15</td>\n",
       "      <td>83</td>\n",
       "    </tr>\n",
       "    <tr>\n",
       "      <th>650000</th>\n",
       "      <td>9</td>\n",
       "      <td>21</td>\n",
       "    </tr>\n",
       "    <tr>\n",
       "      <th>700000</th>\n",
       "      <td>0</td>\n",
       "      <td>95</td>\n",
       "    </tr>\n",
       "    <tr>\n",
       "      <th>750000</th>\n",
       "      <td>5</td>\n",
       "      <td>60</td>\n",
       "    </tr>\n",
       "    <tr>\n",
       "      <th>800000</th>\n",
       "      <td>56</td>\n",
       "      <td>97</td>\n",
       "    </tr>\n",
       "    <tr>\n",
       "      <th>850000</th>\n",
       "      <td>0</td>\n",
       "      <td>55</td>\n",
       "    </tr>\n",
       "    <tr>\n",
       "      <th>900000</th>\n",
       "      <td>0</td>\n",
       "      <td>72</td>\n",
       "    </tr>\n",
       "    <tr>\n",
       "      <th>950000</th>\n",
       "      <td>11</td>\n",
       "      <td>10</td>\n",
       "    </tr>\n",
       "    <tr>\n",
       "      <th>1000000</th>\n",
       "      <td>3</td>\n",
       "      <td>57</td>\n",
       "    </tr>\n",
       "    <tr>\n",
       "      <th>1050000</th>\n",
       "      <td>0</td>\n",
       "      <td>82</td>\n",
       "    </tr>\n",
       "    <tr>\n",
       "      <th>1100000</th>\n",
       "      <td>0</td>\n",
       "      <td>107</td>\n",
       "    </tr>\n",
       "    <tr>\n",
       "      <th>1150000</th>\n",
       "      <td>37</td>\n",
       "      <td>42</td>\n",
       "    </tr>\n",
       "    <tr>\n",
       "      <th>1200000</th>\n",
       "      <td>0</td>\n",
       "      <td>112</td>\n",
       "    </tr>\n",
       "    <tr>\n",
       "      <th>1250000</th>\n",
       "      <td>0</td>\n",
       "      <td>71</td>\n",
       "    </tr>\n",
       "    <tr>\n",
       "      <th>1300000</th>\n",
       "      <td>10</td>\n",
       "      <td>81</td>\n",
       "    </tr>\n",
       "    <tr>\n",
       "      <th>1350000</th>\n",
       "      <td>6</td>\n",
       "      <td>37</td>\n",
       "    </tr>\n",
       "    <tr>\n",
       "      <th>1400000</th>\n",
       "      <td>6</td>\n",
       "      <td>124</td>\n",
       "    </tr>\n",
       "    <tr>\n",
       "      <th>1450000</th>\n",
       "      <td>11</td>\n",
       "      <td>20</td>\n",
       "    </tr>\n",
       "    <tr>\n",
       "      <th>1500000</th>\n",
       "      <td>0</td>\n",
       "      <td>82</td>\n",
       "    </tr>\n",
       "    <tr>\n",
       "      <th>1550000</th>\n",
       "      <td>5</td>\n",
       "      <td>0</td>\n",
       "    </tr>\n",
       "    <tr>\n",
       "      <th>1650000</th>\n",
       "      <td>0</td>\n",
       "      <td>2</td>\n",
       "    </tr>\n",
       "    <tr>\n",
       "      <th>1700000</th>\n",
       "      <td>16</td>\n",
       "      <td>21</td>\n",
       "    </tr>\n",
       "    <tr>\n",
       "      <th>1750000</th>\n",
       "      <td>1</td>\n",
       "      <td>14</td>\n",
       "    </tr>\n",
       "    <tr>\n",
       "      <th>1800000</th>\n",
       "      <td>0</td>\n",
       "      <td>4</td>\n",
       "    </tr>\n",
       "  </tbody>\n",
       "</table>\n",
       "</div>"
      ],
      "text/plain": [
       "GraduateOrNot  No  Yes\n",
       "AnnualIncome          \n",
       "300000         23   65\n",
       "350000         17   38\n",
       "400000         13   52\n",
       "450000         10    5\n",
       "500000          5  138\n",
       "550000         36   45\n",
       "600000         15   83\n",
       "650000          9   21\n",
       "700000          0   95\n",
       "750000          5   60\n",
       "800000         56   97\n",
       "850000          0   55\n",
       "900000          0   72\n",
       "950000         11   10\n",
       "1000000         3   57\n",
       "1050000         0   82\n",
       "1100000         0  107\n",
       "1150000        37   42\n",
       "1200000         0  112\n",
       "1250000         0   71\n",
       "1300000        10   81\n",
       "1350000         6   37\n",
       "1400000         6  124\n",
       "1450000        11   20\n",
       "1500000         0   82\n",
       "1550000         5    0\n",
       "1650000         0    2\n",
       "1700000        16   21\n",
       "1750000         1   14\n",
       "1800000         0    4"
      ]
     },
     "execution_count": 40,
     "metadata": {},
     "output_type": "execute_result"
    }
   ],
   "source": [
    "d8=pd.crosstab(d['AnnualIncome'],d['GraduateOrNot'])\n",
    "d8"
   ]
  },
  {
   "cell_type": "code",
   "execution_count": 143,
   "id": "82cc09e9",
   "metadata": {},
   "outputs": [
    {
     "data": {
      "image/png": "[encoded data removed]",
      "text/plain": [
       "<Figure size 432x288 with 1 Axes>"
      ]
     },
     "metadata": {
      "needs_background": "light"
     },
     "output_type": "display_data"
    }
   ],
   "source": [
    "d8.plot(kind=\"bar\",stacked=True)\n",
    "plt.show()"
   ]
  },
  {
   "cell_type": "markdown",
   "id": "5b8ee018",
   "metadata": {},
   "source": [
    "- Graduated people and not graduated people are earning same amount of income someplaces\n",
    "- graduation is not a matter to get high salary\n"
   ]
  },
  {
   "cell_type": "code",
   "execution_count": null,
   "id": "55f23931",
   "metadata": {},
   "outputs": [],
   "source": [
    "# Extracting the most wealthy age groups and ones with the most people with annual income over 3.5M"
   ]
  },
  {
   "cell_type": "code",
   "execution_count": 44,
   "id": "e8bf1b57",
   "metadata": {},
   "outputs": [
    {
     "data": {
      "text/html": [
       "<div>\n",
       "<style scoped>\n",
       "    .dataframe tbody tr th:only-of-type {\n",
       "        vertical-align: middle;\n",
       "    }\n",
       "\n",
       "    .dataframe tbody tr th {\n",
       "        vertical-align: top;\n",
       "    }\n",
       "\n",
       "    .dataframe thead th {\n",
       "        text-align: right;\n",
       "    }\n",
       "</style>\n",
       "<table border=\"1\" class=\"dataframe\">\n",
       "  <thead>\n",
       "    <tr style=\"text-align: right;\">\n",
       "      <th>AnnualIncome</th>\n",
       "      <th>300000</th>\n",
       "      <th>350000</th>\n",
       "      <th>400000</th>\n",
       "      <th>450000</th>\n",
       "      <th>500000</th>\n",
       "      <th>550000</th>\n",
       "      <th>600000</th>\n",
       "      <th>650000</th>\n",
       "      <th>700000</th>\n",
       "      <th>750000</th>\n",
       "      <th>...</th>\n",
       "      <th>1300000</th>\n",
       "      <th>1350000</th>\n",
       "      <th>1400000</th>\n",
       "      <th>1450000</th>\n",
       "      <th>1500000</th>\n",
       "      <th>1550000</th>\n",
       "      <th>1650000</th>\n",
       "      <th>1700000</th>\n",
       "      <th>1750000</th>\n",
       "      <th>1800000</th>\n",
       "    </tr>\n",
       "    <tr>\n",
       "      <th>Age</th>\n",
       "      <th></th>\n",
       "      <th></th>\n",
       "      <th></th>\n",
       "      <th></th>\n",
       "      <th></th>\n",
       "      <th></th>\n",
       "      <th></th>\n",
       "      <th></th>\n",
       "      <th></th>\n",
       "      <th></th>\n",
       "      <th></th>\n",
       "      <th></th>\n",
       "      <th></th>\n",
       "      <th></th>\n",
       "      <th></th>\n",
       "      <th></th>\n",
       "      <th></th>\n",
       "      <th></th>\n",
       "      <th></th>\n",
       "      <th></th>\n",
       "      <th></th>\n",
       "    </tr>\n",
       "  </thead>\n",
       "  <tbody>\n",
       "    <tr>\n",
       "      <th>25</th>\n",
       "      <td>0</td>\n",
       "      <td>0</td>\n",
       "      <td>0</td>\n",
       "      <td>0</td>\n",
       "      <td>4</td>\n",
       "      <td>0</td>\n",
       "      <td>9</td>\n",
       "      <td>0</td>\n",
       "      <td>0</td>\n",
       "      <td>11</td>\n",
       "      <td>...</td>\n",
       "      <td>0</td>\n",
       "      <td>6</td>\n",
       "      <td>36</td>\n",
       "      <td>0</td>\n",
       "      <td>0</td>\n",
       "      <td>0</td>\n",
       "      <td>0</td>\n",
       "      <td>37</td>\n",
       "      <td>2</td>\n",
       "      <td>4</td>\n",
       "    </tr>\n",
       "    <tr>\n",
       "      <th>26</th>\n",
       "      <td>0</td>\n",
       "      <td>0</td>\n",
       "      <td>0</td>\n",
       "      <td>5</td>\n",
       "      <td>30</td>\n",
       "      <td>3</td>\n",
       "      <td>22</td>\n",
       "      <td>0</td>\n",
       "      <td>0</td>\n",
       "      <td>7</td>\n",
       "      <td>...</td>\n",
       "      <td>8</td>\n",
       "      <td>0</td>\n",
       "      <td>37</td>\n",
       "      <td>6</td>\n",
       "      <td>19</td>\n",
       "      <td>0</td>\n",
       "      <td>0</td>\n",
       "      <td>0</td>\n",
       "      <td>2</td>\n",
       "      <td>0</td>\n",
       "    </tr>\n",
       "    <tr>\n",
       "      <th>27</th>\n",
       "      <td>0</td>\n",
       "      <td>10</td>\n",
       "      <td>0</td>\n",
       "      <td>10</td>\n",
       "      <td>31</td>\n",
       "      <td>0</td>\n",
       "      <td>5</td>\n",
       "      <td>0</td>\n",
       "      <td>0</td>\n",
       "      <td>10</td>\n",
       "      <td>...</td>\n",
       "      <td>0</td>\n",
       "      <td>0</td>\n",
       "      <td>0</td>\n",
       "      <td>0</td>\n",
       "      <td>0</td>\n",
       "      <td>5</td>\n",
       "      <td>0</td>\n",
       "      <td>0</td>\n",
       "      <td>0</td>\n",
       "      <td>0</td>\n",
       "    </tr>\n",
       "    <tr>\n",
       "      <th>28</th>\n",
       "      <td>73</td>\n",
       "      <td>0</td>\n",
       "      <td>0</td>\n",
       "      <td>0</td>\n",
       "      <td>20</td>\n",
       "      <td>40</td>\n",
       "      <td>40</td>\n",
       "      <td>7</td>\n",
       "      <td>47</td>\n",
       "      <td>25</td>\n",
       "      <td>...</td>\n",
       "      <td>7</td>\n",
       "      <td>4</td>\n",
       "      <td>5</td>\n",
       "      <td>14</td>\n",
       "      <td>0</td>\n",
       "      <td>0</td>\n",
       "      <td>0</td>\n",
       "      <td>0</td>\n",
       "      <td>1</td>\n",
       "      <td>0</td>\n",
       "    </tr>\n",
       "    <tr>\n",
       "      <th>29</th>\n",
       "      <td>0</td>\n",
       "      <td>11</td>\n",
       "      <td>0</td>\n",
       "      <td>0</td>\n",
       "      <td>20</td>\n",
       "      <td>0</td>\n",
       "      <td>15</td>\n",
       "      <td>0</td>\n",
       "      <td>0</td>\n",
       "      <td>0</td>\n",
       "      <td>...</td>\n",
       "      <td>0</td>\n",
       "      <td>11</td>\n",
       "      <td>0</td>\n",
       "      <td>0</td>\n",
       "      <td>0</td>\n",
       "      <td>0</td>\n",
       "      <td>0</td>\n",
       "      <td>0</td>\n",
       "      <td>1</td>\n",
       "      <td>0</td>\n",
       "    </tr>\n",
       "    <tr>\n",
       "      <th>30</th>\n",
       "      <td>0</td>\n",
       "      <td>0</td>\n",
       "      <td>0</td>\n",
       "      <td>0</td>\n",
       "      <td>5</td>\n",
       "      <td>22</td>\n",
       "      <td>0</td>\n",
       "      <td>9</td>\n",
       "      <td>0</td>\n",
       "      <td>3</td>\n",
       "      <td>...</td>\n",
       "      <td>0</td>\n",
       "      <td>0</td>\n",
       "      <td>0</td>\n",
       "      <td>11</td>\n",
       "      <td>0</td>\n",
       "      <td>0</td>\n",
       "      <td>0</td>\n",
       "      <td>0</td>\n",
       "      <td>0</td>\n",
       "      <td>0</td>\n",
       "    </tr>\n",
       "    <tr>\n",
       "      <th>31</th>\n",
       "      <td>15</td>\n",
       "      <td>7</td>\n",
       "      <td>40</td>\n",
       "      <td>0</td>\n",
       "      <td>10</td>\n",
       "      <td>0</td>\n",
       "      <td>0</td>\n",
       "      <td>0</td>\n",
       "      <td>0</td>\n",
       "      <td>0</td>\n",
       "      <td>...</td>\n",
       "      <td>16</td>\n",
       "      <td>22</td>\n",
       "      <td>23</td>\n",
       "      <td>0</td>\n",
       "      <td>9</td>\n",
       "      <td>0</td>\n",
       "      <td>2</td>\n",
       "      <td>0</td>\n",
       "      <td>3</td>\n",
       "      <td>0</td>\n",
       "    </tr>\n",
       "    <tr>\n",
       "      <th>32</th>\n",
       "      <td>0</td>\n",
       "      <td>27</td>\n",
       "      <td>0</td>\n",
       "      <td>0</td>\n",
       "      <td>0</td>\n",
       "      <td>0</td>\n",
       "      <td>0</td>\n",
       "      <td>5</td>\n",
       "      <td>0</td>\n",
       "      <td>0</td>\n",
       "      <td>...</td>\n",
       "      <td>0</td>\n",
       "      <td>0</td>\n",
       "      <td>0</td>\n",
       "      <td>0</td>\n",
       "      <td>0</td>\n",
       "      <td>0</td>\n",
       "      <td>0</td>\n",
       "      <td>0</td>\n",
       "      <td>1</td>\n",
       "      <td>0</td>\n",
       "    </tr>\n",
       "    <tr>\n",
       "      <th>33</th>\n",
       "      <td>0</td>\n",
       "      <td>0</td>\n",
       "      <td>25</td>\n",
       "      <td>0</td>\n",
       "      <td>0</td>\n",
       "      <td>16</td>\n",
       "      <td>6</td>\n",
       "      <td>9</td>\n",
       "      <td>11</td>\n",
       "      <td>7</td>\n",
       "      <td>...</td>\n",
       "      <td>0</td>\n",
       "      <td>0</td>\n",
       "      <td>23</td>\n",
       "      <td>0</td>\n",
       "      <td>10</td>\n",
       "      <td>0</td>\n",
       "      <td>0</td>\n",
       "      <td>0</td>\n",
       "      <td>3</td>\n",
       "      <td>0</td>\n",
       "    </tr>\n",
       "    <tr>\n",
       "      <th>34</th>\n",
       "      <td>0</td>\n",
       "      <td>0</td>\n",
       "      <td>0</td>\n",
       "      <td>0</td>\n",
       "      <td>23</td>\n",
       "      <td>0</td>\n",
       "      <td>0</td>\n",
       "      <td>0</td>\n",
       "      <td>37</td>\n",
       "      <td>2</td>\n",
       "      <td>...</td>\n",
       "      <td>60</td>\n",
       "      <td>0</td>\n",
       "      <td>6</td>\n",
       "      <td>0</td>\n",
       "      <td>44</td>\n",
       "      <td>0</td>\n",
       "      <td>0</td>\n",
       "      <td>0</td>\n",
       "      <td>2</td>\n",
       "      <td>0</td>\n",
       "    </tr>\n",
       "    <tr>\n",
       "      <th>35</th>\n",
       "      <td>0</td>\n",
       "      <td>0</td>\n",
       "      <td>0</td>\n",
       "      <td>0</td>\n",
       "      <td>0</td>\n",
       "      <td>0</td>\n",
       "      <td>1</td>\n",
       "      <td>0</td>\n",
       "      <td>0</td>\n",
       "      <td>0</td>\n",
       "      <td>...</td>\n",
       "      <td>0</td>\n",
       "      <td>0</td>\n",
       "      <td>0</td>\n",
       "      <td>0</td>\n",
       "      <td>0</td>\n",
       "      <td>0</td>\n",
       "      <td>0</td>\n",
       "      <td>0</td>\n",
       "      <td>0</td>\n",
       "      <td>0</td>\n",
       "    </tr>\n",
       "  </tbody>\n",
       "</table>\n",
       "<p>11 rows × 30 columns</p>\n",
       "</div>"
      ],
      "text/plain": [
       "AnnualIncome  300000   350000   400000   450000   500000   550000   600000   \\\n",
       "Age                                                                           \n",
       "25                  0        0        0        0        4        0        9   \n",
       "26                  0        0        0        5       30        3       22   \n",
       "27                  0       10        0       10       31        0        5   \n",
       "28                 73        0        0        0       20       40       40   \n",
       "29                  0       11        0        0       20        0       15   \n",
       "30                  0        0        0        0        5       22        0   \n",
       "31                 15        7       40        0       10        0        0   \n",
       "32                  0       27        0        0        0        0        0   \n",
       "33                  0        0       25        0        0       16        6   \n",
       "34                  0        0        0        0       23        0        0   \n",
       "35                  0        0        0        0        0        0        1   \n",
       "\n",
       "AnnualIncome  650000   700000   750000   ...  1300000  1350000  1400000  \\\n",
       "Age                                      ...                              \n",
       "25                  0        0       11  ...        0        6       36   \n",
       "26                  0        0        7  ...        8        0       37   \n",
       "27                  0        0       10  ...        0        0        0   \n",
       "28                  7       47       25  ...        7        4        5   \n",
       "29                  0        0        0  ...        0       11        0   \n",
       "30                  9        0        3  ...        0        0        0   \n",
       "31                  0        0        0  ...       16       22       23   \n",
       "32                  5        0        0  ...        0        0        0   \n",
       "33                  9       11        7  ...        0        0       23   \n",
       "34                  0       37        2  ...       60        0        6   \n",
       "35                  0        0        0  ...        0        0        0   \n",
       "\n",
       "AnnualIncome  1450000  1500000  1550000  1650000  1700000  1750000  1800000  \n",
       "Age                                                                          \n",
       "25                  0        0        0        0       37        2        4  \n",
       "26                  6       19        0        0        0        2        0  \n",
       "27                  0        0        5        0        0        0        0  \n",
       "28                 14        0        0        0        0        1        0  \n",
       "29                  0        0        0        0        0        1        0  \n",
       "30                 11        0        0        0        0        0        0  \n",
       "31                  0        9        0        2        0        3        0  \n",
       "32                  0        0        0        0        0        1        0  \n",
       "33                  0       10        0        0        0        3        0  \n",
       "34                  0       44        0        0        0        2        0  \n",
       "35                  0        0        0        0        0        0        0  \n",
       "\n",
       "[11 rows x 30 columns]"
      ]
     },
     "execution_count": 44,
     "metadata": {},
     "output_type": "execute_result"
    }
   ],
   "source": [
    "d9=pd.crosstab(d['Age'],d['AnnualIncome'])\n",
    "d9"
   ]
  },
  {
   "cell_type": "code",
   "execution_count": 52,
   "id": "c2616457",
   "metadata": {},
   "outputs": [],
   "source": [
    "def inc(income):\n",
    "    if income>1300000:\n",
    "        return \"high\"\n",
    "    elif income<=1300000:\n",
    "        return \"low\"\n",
    "  "
   ]
  },
  {
   "cell_type": "code",
   "execution_count": 53,
   "id": "e8c4972c",
   "metadata": {},
   "outputs": [],
   "source": [
    "d[\"AnnualIncome\"]=d[\"AnnualIncome\"].apply(inc)"
   ]
  },
  {
   "cell_type": "code",
   "execution_count": 54,
   "id": "dbf070db",
   "metadata": {},
   "outputs": [
    {
     "data": {
      "text/plain": [
       "0        low\n",
       "1        low\n",
       "2        low\n",
       "3        low\n",
       "4        low\n",
       "        ... \n",
       "1982    high\n",
       "1983    high\n",
       "1984     low\n",
       "1985     low\n",
       "1986     low\n",
       "Name: AnnualIncome, Length: 1987, dtype: object"
      ]
     },
     "execution_count": 54,
     "metadata": {},
     "output_type": "execute_result"
    }
   ],
   "source": [
    "d['AnnualIncome']"
   ]
  },
  {
   "cell_type": "code",
   "execution_count": 55,
   "id": "2fd5a9e0",
   "metadata": {},
   "outputs": [
    {
     "data": {
      "text/html": [
       "<div>\n",
       "<style scoped>\n",
       "    .dataframe tbody tr th:only-of-type {\n",
       "        vertical-align: middle;\n",
       "    }\n",
       "\n",
       "    .dataframe tbody tr th {\n",
       "        vertical-align: top;\n",
       "    }\n",
       "\n",
       "    .dataframe thead th {\n",
       "        text-align: right;\n",
       "    }\n",
       "</style>\n",
       "<table border=\"1\" class=\"dataframe\">\n",
       "  <thead>\n",
       "    <tr style=\"text-align: right;\">\n",
       "      <th></th>\n",
       "      <th>Age</th>\n",
       "      <th>Employment Type</th>\n",
       "      <th>GraduateOrNot</th>\n",
       "      <th>AnnualIncome</th>\n",
       "      <th>FamilyMembers</th>\n",
       "      <th>ChronicDiseases</th>\n",
       "      <th>FrequentFlyer</th>\n",
       "      <th>EverTravelledAbroad</th>\n",
       "      <th>TravelInsurance</th>\n",
       "    </tr>\n",
       "  </thead>\n",
       "  <tbody>\n",
       "    <tr>\n",
       "      <th>0</th>\n",
       "      <td>31</td>\n",
       "      <td>Government Sector</td>\n",
       "      <td>Yes</td>\n",
       "      <td>low</td>\n",
       "      <td>6</td>\n",
       "      <td>1</td>\n",
       "      <td>No</td>\n",
       "      <td>No</td>\n",
       "      <td>0</td>\n",
       "    </tr>\n",
       "    <tr>\n",
       "      <th>1</th>\n",
       "      <td>31</td>\n",
       "      <td>Private Sector/Self Employed</td>\n",
       "      <td>Yes</td>\n",
       "      <td>low</td>\n",
       "      <td>7</td>\n",
       "      <td>0</td>\n",
       "      <td>No</td>\n",
       "      <td>No</td>\n",
       "      <td>0</td>\n",
       "    </tr>\n",
       "    <tr>\n",
       "      <th>2</th>\n",
       "      <td>34</td>\n",
       "      <td>Private Sector/Self Employed</td>\n",
       "      <td>Yes</td>\n",
       "      <td>low</td>\n",
       "      <td>4</td>\n",
       "      <td>1</td>\n",
       "      <td>No</td>\n",
       "      <td>No</td>\n",
       "      <td>1</td>\n",
       "    </tr>\n",
       "    <tr>\n",
       "      <th>3</th>\n",
       "      <td>28</td>\n",
       "      <td>Private Sector/Self Employed</td>\n",
       "      <td>Yes</td>\n",
       "      <td>low</td>\n",
       "      <td>3</td>\n",
       "      <td>1</td>\n",
       "      <td>No</td>\n",
       "      <td>No</td>\n",
       "      <td>0</td>\n",
       "    </tr>\n",
       "    <tr>\n",
       "      <th>4</th>\n",
       "      <td>28</td>\n",
       "      <td>Private Sector/Self Employed</td>\n",
       "      <td>Yes</td>\n",
       "      <td>low</td>\n",
       "      <td>8</td>\n",
       "      <td>1</td>\n",
       "      <td>Yes</td>\n",
       "      <td>No</td>\n",
       "      <td>0</td>\n",
       "    </tr>\n",
       "    <tr>\n",
       "      <th>...</th>\n",
       "      <td>...</td>\n",
       "      <td>...</td>\n",
       "      <td>...</td>\n",
       "      <td>...</td>\n",
       "      <td>...</td>\n",
       "      <td>...</td>\n",
       "      <td>...</td>\n",
       "      <td>...</td>\n",
       "      <td>...</td>\n",
       "    </tr>\n",
       "    <tr>\n",
       "      <th>1982</th>\n",
       "      <td>33</td>\n",
       "      <td>Private Sector/Self Employed</td>\n",
       "      <td>Yes</td>\n",
       "      <td>high</td>\n",
       "      <td>4</td>\n",
       "      <td>0</td>\n",
       "      <td>Yes</td>\n",
       "      <td>Yes</td>\n",
       "      <td>1</td>\n",
       "    </tr>\n",
       "    <tr>\n",
       "      <th>1983</th>\n",
       "      <td>28</td>\n",
       "      <td>Private Sector/Self Employed</td>\n",
       "      <td>Yes</td>\n",
       "      <td>high</td>\n",
       "      <td>5</td>\n",
       "      <td>1</td>\n",
       "      <td>No</td>\n",
       "      <td>Yes</td>\n",
       "      <td>0</td>\n",
       "    </tr>\n",
       "    <tr>\n",
       "      <th>1984</th>\n",
       "      <td>28</td>\n",
       "      <td>Private Sector/Self Employed</td>\n",
       "      <td>Yes</td>\n",
       "      <td>low</td>\n",
       "      <td>6</td>\n",
       "      <td>1</td>\n",
       "      <td>No</td>\n",
       "      <td>No</td>\n",
       "      <td>0</td>\n",
       "    </tr>\n",
       "    <tr>\n",
       "      <th>1985</th>\n",
       "      <td>34</td>\n",
       "      <td>Private Sector/Self Employed</td>\n",
       "      <td>Yes</td>\n",
       "      <td>low</td>\n",
       "      <td>6</td>\n",
       "      <td>0</td>\n",
       "      <td>Yes</td>\n",
       "      <td>Yes</td>\n",
       "      <td>1</td>\n",
       "    </tr>\n",
       "    <tr>\n",
       "      <th>1986</th>\n",
       "      <td>34</td>\n",
       "      <td>Private Sector/Self Employed</td>\n",
       "      <td>Yes</td>\n",
       "      <td>low</td>\n",
       "      <td>4</td>\n",
       "      <td>0</td>\n",
       "      <td>No</td>\n",
       "      <td>No</td>\n",
       "      <td>0</td>\n",
       "    </tr>\n",
       "  </tbody>\n",
       "</table>\n",
       "<p>1987 rows × 9 columns</p>\n",
       "</div>"
      ],
      "text/plain": [
       "      Age               Employment Type GraduateOrNot AnnualIncome  \\\n",
       "0      31             Government Sector           Yes          low   \n",
       "1      31  Private Sector/Self Employed           Yes          low   \n",
       "2      34  Private Sector/Self Employed           Yes          low   \n",
       "3      28  Private Sector/Self Employed           Yes          low   \n",
       "4      28  Private Sector/Self Employed           Yes          low   \n",
       "...   ...                           ...           ...          ...   \n",
       "1982   33  Private Sector/Self Employed           Yes         high   \n",
       "1983   28  Private Sector/Self Employed           Yes         high   \n",
       "1984   28  Private Sector/Self Employed           Yes          low   \n",
       "1985   34  Private Sector/Self Employed           Yes          low   \n",
       "1986   34  Private Sector/Self Employed           Yes          low   \n",
       "\n",
       "      FamilyMembers  ChronicDiseases FrequentFlyer EverTravelledAbroad  \\\n",
       "0                 6                1            No                  No   \n",
       "1                 7                0            No                  No   \n",
       "2                 4                1            No                  No   \n",
       "3                 3                1            No                  No   \n",
       "4                 8                1           Yes                  No   \n",
       "...             ...              ...           ...                 ...   \n",
       "1982              4                0           Yes                 Yes   \n",
       "1983              5                1            No                 Yes   \n",
       "1984              6                1            No                  No   \n",
       "1985              6                0           Yes                 Yes   \n",
       "1986              4                0            No                  No   \n",
       "\n",
       "      TravelInsurance  \n",
       "0                   0  \n",
       "1                   0  \n",
       "2                   1  \n",
       "3                   0  \n",
       "4                   0  \n",
       "...               ...  \n",
       "1982                1  \n",
       "1983                0  \n",
       "1984                0  \n",
       "1985                1  \n",
       "1986                0  \n",
       "\n",
       "[1987 rows x 9 columns]"
      ]
     },
     "execution_count": 55,
     "metadata": {},
     "output_type": "execute_result"
    }
   ],
   "source": [
    "d"
   ]
  },
  {
   "cell_type": "code",
   "execution_count": 57,
   "id": "e8c07b2f",
   "metadata": {},
   "outputs": [],
   "source": [
    "l=pd.crosstab(d['AnnualIncome'],d['TravelInsurance'])"
   ]
  },
  {
   "cell_type": "code",
   "execution_count": 58,
   "id": "13f0e437",
   "metadata": {},
   "outputs": [
    {
     "data": {
      "text/html": [
       "<div>\n",
       "<style scoped>\n",
       "    .dataframe tbody tr th:only-of-type {\n",
       "        vertical-align: middle;\n",
       "    }\n",
       "\n",
       "    .dataframe tbody tr th {\n",
       "        vertical-align: top;\n",
       "    }\n",
       "\n",
       "    .dataframe thead th {\n",
       "        text-align: right;\n",
       "    }\n",
       "</style>\n",
       "<table border=\"1\" class=\"dataframe\">\n",
       "  <thead>\n",
       "    <tr style=\"text-align: right;\">\n",
       "      <th>TravelInsurance</th>\n",
       "      <th>0</th>\n",
       "      <th>1</th>\n",
       "    </tr>\n",
       "    <tr>\n",
       "      <th>AnnualIncome</th>\n",
       "      <th></th>\n",
       "      <th></th>\n",
       "    </tr>\n",
       "  </thead>\n",
       "  <tbody>\n",
       "    <tr>\n",
       "      <th>high</th>\n",
       "      <td>31</td>\n",
       "      <td>318</td>\n",
       "    </tr>\n",
       "    <tr>\n",
       "      <th>low</th>\n",
       "      <td>1246</td>\n",
       "      <td>392</td>\n",
       "    </tr>\n",
       "  </tbody>\n",
       "</table>\n",
       "</div>"
      ],
      "text/plain": [
       "TravelInsurance     0    1\n",
       "AnnualIncome              \n",
       "high               31  318\n",
       "low              1246  392"
      ]
     },
     "execution_count": 58,
     "metadata": {},
     "output_type": "execute_result"
    }
   ],
   "source": [
    "l"
   ]
  },
  {
   "cell_type": "code",
   "execution_count": 59,
   "id": "da82c174",
   "metadata": {},
   "outputs": [
    {
     "data": {
      "text/html": [
       "<div>\n",
       "<style scoped>\n",
       "    .dataframe tbody tr th:only-of-type {\n",
       "        vertical-align: middle;\n",
       "    }\n",
       "\n",
       "    .dataframe tbody tr th {\n",
       "        vertical-align: top;\n",
       "    }\n",
       "\n",
       "    .dataframe thead th {\n",
       "        text-align: right;\n",
       "    }\n",
       "</style>\n",
       "<table border=\"1\" class=\"dataframe\">\n",
       "  <thead>\n",
       "    <tr style=\"text-align: right;\">\n",
       "      <th>AnnualIncome</th>\n",
       "      <th>high</th>\n",
       "      <th>low</th>\n",
       "    </tr>\n",
       "    <tr>\n",
       "      <th>Age</th>\n",
       "      <th></th>\n",
       "      <th></th>\n",
       "    </tr>\n",
       "  </thead>\n",
       "  <tbody>\n",
       "    <tr>\n",
       "      <th>25</th>\n",
       "      <td>85</td>\n",
       "      <td>61</td>\n",
       "    </tr>\n",
       "    <tr>\n",
       "      <th>26</th>\n",
       "      <td>64</td>\n",
       "      <td>84</td>\n",
       "    </tr>\n",
       "    <tr>\n",
       "      <th>27</th>\n",
       "      <td>5</td>\n",
       "      <td>126</td>\n",
       "    </tr>\n",
       "    <tr>\n",
       "      <th>28</th>\n",
       "      <td>24</td>\n",
       "      <td>482</td>\n",
       "    </tr>\n",
       "    <tr>\n",
       "      <th>29</th>\n",
       "      <td>12</td>\n",
       "      <td>180</td>\n",
       "    </tr>\n",
       "    <tr>\n",
       "      <th>30</th>\n",
       "      <td>11</td>\n",
       "      <td>54</td>\n",
       "    </tr>\n",
       "    <tr>\n",
       "      <th>31</th>\n",
       "      <td>59</td>\n",
       "      <td>175</td>\n",
       "    </tr>\n",
       "    <tr>\n",
       "      <th>32</th>\n",
       "      <td>1</td>\n",
       "      <td>90</td>\n",
       "    </tr>\n",
       "    <tr>\n",
       "      <th>33</th>\n",
       "      <td>36</td>\n",
       "      <td>112</td>\n",
       "    </tr>\n",
       "    <tr>\n",
       "      <th>34</th>\n",
       "      <td>52</td>\n",
       "      <td>214</td>\n",
       "    </tr>\n",
       "    <tr>\n",
       "      <th>35</th>\n",
       "      <td>0</td>\n",
       "      <td>60</td>\n",
       "    </tr>\n",
       "  </tbody>\n",
       "</table>\n",
       "</div>"
      ],
      "text/plain": [
       "AnnualIncome  high  low\n",
       "Age                    \n",
       "25              85   61\n",
       "26              64   84\n",
       "27               5  126\n",
       "28              24  482\n",
       "29              12  180\n",
       "30              11   54\n",
       "31              59  175\n",
       "32               1   90\n",
       "33              36  112\n",
       "34              52  214\n",
       "35               0   60"
      ]
     },
     "execution_count": 59,
     "metadata": {},
     "output_type": "execute_result"
    }
   ],
   "source": [
    "d10=pd.crosstab(d['Age'],d['AnnualIncome'])\n",
    "d10"
   ]
  },
  {
   "cell_type": "code",
   "execution_count": 60,
   "id": "9adf2221",
   "metadata": {},
   "outputs": [
    {
     "data": {
      "image/png": "[encoded data removed]",
      "text/plain": [
       "<Figure size 432x288 with 1 Axes>"
      ]
     },
     "metadata": {
      "needs_background": "light"
     },
     "output_type": "display_data"
    }
   ],
   "source": [
    "d10.plot(kind=\"bar\",stacked=True)\n",
    "plt.show()"
   ]
  },
  {
   "cell_type": "markdown",
   "id": "2527146f",
   "metadata": {},
   "source": [
    "- These two graphs helped us to identify our first groups of customers. \n",
    "- We already knew that the people we are reaching at the moment belong to the more wealthy kind, now we also notice that they are either in their mid-late 20s or early 30s. \n"
   ]
  },
  {
   "cell_type": "code",
   "execution_count": 62,
   "id": "f3ccd2b0",
   "metadata": {},
   "outputs": [
    {
     "data": {
      "image/png": "[encoded data removed]",
      "text/plain": [
       "<Figure size 1440x1080 with 6 Axes>"
      ]
     },
     "metadata": {
      "needs_background": "light"
     },
     "output_type": "display_data"
    }
   ],
   "source": [
    "d.hist(bins=50,figsize=(20,15),color=\"red\")\n",
    "plt.show()"
   ]
  },
  {
   "cell_type": "markdown",
   "id": "7aa03a04",
   "metadata": {},
   "source": [
    "### Conclusion"
   ]
  },
  {
   "cell_type": "markdown",
   "id": "aefc005b",
   "metadata": {},
   "source": [
    "- Private sector people are more purchased travel insurance\n",
    "- people are earned maximum on their 20 's\n",
    "- Those who have above average income they are intrested to by travel insurance\n",
    "- The conclusion here is easy to make,from the above analysis we can find the the interest around the insurance is based on budget.\n",
    "- As from the data it clearly shows that the insurance package of this company taken by above average income people those who are working in private sector\n",
    "- may this is the main problem that company dont get the expected customers\n",
    "-  Lower income people belongs to goverment sector,and actually they need not to travel abroad if needed that may be handled  by the company itself\n",
    "- Lower income --> less travel --> if travel would happen, there is a higher chance of it being work-related and then the insurance might be covered by the government.\n",
    "\n",
    "- So we can finalize that govermnt sector also purchase the insurance the trvalinsurance company can reach up to there mark\n",
    "- For that the EDA can tell the company need to put a new offer, with a more appropriate price, \n",
    "to people who work in the government sector, are between 26-34 and don't move around a lot.if they allow holiday insurance,family travel insurance so that they will also took insurance\n",
    "- instead of large travel package a smaller insurance package for casual travel or a coupon for the first timers would make more customers to the company\n",
    "- some people not purchased beause the are not aware about travel insurance package so\n",
    "- proper information with limited actractive sentance make people to take that to get to know what is this how it actually work."
   ]
  },
  {
   "cell_type": "markdown",
   "id": "03ff6346",
   "metadata": {},
   "source": [
    "### Machine learning"
   ]
  },
  {
   "cell_type": "markdown",
   "id": "be451405",
   "metadata": {},
   "source": [
    "##### Logistic Regression"
   ]
  },
  {
   "cell_type": "code",
   "execution_count": 62,
   "id": "270017f5",
   "metadata": {},
   "outputs": [
    {
     "data": {
      "text/html": [
       "<div>\n",
       "<style scoped>\n",
       "    .dataframe tbody tr th:only-of-type {\n",
       "        vertical-align: middle;\n",
       "    }\n",
       "\n",
       "    .dataframe tbody tr th {\n",
       "        vertical-align: top;\n",
       "    }\n",
       "\n",
       "    .dataframe thead th {\n",
       "        text-align: right;\n",
       "    }\n",
       "</style>\n",
       "<table border=\"1\" class=\"dataframe\">\n",
       "  <thead>\n",
       "    <tr style=\"text-align: right;\">\n",
       "      <th></th>\n",
       "      <th>Age</th>\n",
       "      <th>Employment Type</th>\n",
       "      <th>GraduateOrNot</th>\n",
       "      <th>AnnualIncome</th>\n",
       "      <th>FamilyMembers</th>\n",
       "      <th>ChronicDiseases</th>\n",
       "      <th>FrequentFlyer</th>\n",
       "      <th>EverTravelledAbroad</th>\n",
       "      <th>TravelInsurance</th>\n",
       "    </tr>\n",
       "  </thead>\n",
       "  <tbody>\n",
       "    <tr>\n",
       "      <th>0</th>\n",
       "      <td>31</td>\n",
       "      <td>Government Sector</td>\n",
       "      <td>Yes</td>\n",
       "      <td>low</td>\n",
       "      <td>6</td>\n",
       "      <td>1</td>\n",
       "      <td>No</td>\n",
       "      <td>No</td>\n",
       "      <td>0</td>\n",
       "    </tr>\n",
       "    <tr>\n",
       "      <th>1</th>\n",
       "      <td>31</td>\n",
       "      <td>Private Sector/Self Employed</td>\n",
       "      <td>Yes</td>\n",
       "      <td>low</td>\n",
       "      <td>7</td>\n",
       "      <td>0</td>\n",
       "      <td>No</td>\n",
       "      <td>No</td>\n",
       "      <td>0</td>\n",
       "    </tr>\n",
       "    <tr>\n",
       "      <th>2</th>\n",
       "      <td>34</td>\n",
       "      <td>Private Sector/Self Employed</td>\n",
       "      <td>Yes</td>\n",
       "      <td>low</td>\n",
       "      <td>4</td>\n",
       "      <td>1</td>\n",
       "      <td>No</td>\n",
       "      <td>No</td>\n",
       "      <td>1</td>\n",
       "    </tr>\n",
       "    <tr>\n",
       "      <th>3</th>\n",
       "      <td>28</td>\n",
       "      <td>Private Sector/Self Employed</td>\n",
       "      <td>Yes</td>\n",
       "      <td>low</td>\n",
       "      <td>3</td>\n",
       "      <td>1</td>\n",
       "      <td>No</td>\n",
       "      <td>No</td>\n",
       "      <td>0</td>\n",
       "    </tr>\n",
       "    <tr>\n",
       "      <th>4</th>\n",
       "      <td>28</td>\n",
       "      <td>Private Sector/Self Employed</td>\n",
       "      <td>Yes</td>\n",
       "      <td>low</td>\n",
       "      <td>8</td>\n",
       "      <td>1</td>\n",
       "      <td>Yes</td>\n",
       "      <td>No</td>\n",
       "      <td>0</td>\n",
       "    </tr>\n",
       "    <tr>\n",
       "      <th>...</th>\n",
       "      <td>...</td>\n",
       "      <td>...</td>\n",
       "      <td>...</td>\n",
       "      <td>...</td>\n",
       "      <td>...</td>\n",
       "      <td>...</td>\n",
       "      <td>...</td>\n",
       "      <td>...</td>\n",
       "      <td>...</td>\n",
       "    </tr>\n",
       "    <tr>\n",
       "      <th>1982</th>\n",
       "      <td>33</td>\n",
       "      <td>Private Sector/Self Employed</td>\n",
       "      <td>Yes</td>\n",
       "      <td>high</td>\n",
       "      <td>4</td>\n",
       "      <td>0</td>\n",
       "      <td>Yes</td>\n",
       "      <td>Yes</td>\n",
       "      <td>1</td>\n",
       "    </tr>\n",
       "    <tr>\n",
       "      <th>1983</th>\n",
       "      <td>28</td>\n",
       "      <td>Private Sector/Self Employed</td>\n",
       "      <td>Yes</td>\n",
       "      <td>high</td>\n",
       "      <td>5</td>\n",
       "      <td>1</td>\n",
       "      <td>No</td>\n",
       "      <td>Yes</td>\n",
       "      <td>0</td>\n",
       "    </tr>\n",
       "    <tr>\n",
       "      <th>1984</th>\n",
       "      <td>28</td>\n",
       "      <td>Private Sector/Self Employed</td>\n",
       "      <td>Yes</td>\n",
       "      <td>low</td>\n",
       "      <td>6</td>\n",
       "      <td>1</td>\n",
       "      <td>No</td>\n",
       "      <td>No</td>\n",
       "      <td>0</td>\n",
       "    </tr>\n",
       "    <tr>\n",
       "      <th>1985</th>\n",
       "      <td>34</td>\n",
       "      <td>Private Sector/Self Employed</td>\n",
       "      <td>Yes</td>\n",
       "      <td>low</td>\n",
       "      <td>6</td>\n",
       "      <td>0</td>\n",
       "      <td>Yes</td>\n",
       "      <td>Yes</td>\n",
       "      <td>1</td>\n",
       "    </tr>\n",
       "    <tr>\n",
       "      <th>1986</th>\n",
       "      <td>34</td>\n",
       "      <td>Private Sector/Self Employed</td>\n",
       "      <td>Yes</td>\n",
       "      <td>low</td>\n",
       "      <td>4</td>\n",
       "      <td>0</td>\n",
       "      <td>No</td>\n",
       "      <td>No</td>\n",
       "      <td>0</td>\n",
       "    </tr>\n",
       "  </tbody>\n",
       "</table>\n",
       "<p>1987 rows × 9 columns</p>\n",
       "</div>"
      ],
      "text/plain": [
       "      Age               Employment Type GraduateOrNot AnnualIncome  \\\n",
       "0      31             Government Sector           Yes          low   \n",
       "1      31  Private Sector/Self Employed           Yes          low   \n",
       "2      34  Private Sector/Self Employed           Yes          low   \n",
       "3      28  Private Sector/Self Employed           Yes          low   \n",
       "4      28  Private Sector/Self Employed           Yes          low   \n",
       "...   ...                           ...           ...          ...   \n",
       "1982   33  Private Sector/Self Employed           Yes         high   \n",
       "1983   28  Private Sector/Self Employed           Yes         high   \n",
       "1984   28  Private Sector/Self Employed           Yes          low   \n",
       "1985   34  Private Sector/Self Employed           Yes          low   \n",
       "1986   34  Private Sector/Self Employed           Yes          low   \n",
       "\n",
       "      FamilyMembers  ChronicDiseases FrequentFlyer EverTravelledAbroad  \\\n",
       "0                 6                1            No                  No   \n",
       "1                 7                0            No                  No   \n",
       "2                 4                1            No                  No   \n",
       "3                 3                1            No                  No   \n",
       "4                 8                1           Yes                  No   \n",
       "...             ...              ...           ...                 ...   \n",
       "1982              4                0           Yes                 Yes   \n",
       "1983              5                1            No                 Yes   \n",
       "1984              6                1            No                  No   \n",
       "1985              6                0           Yes                 Yes   \n",
       "1986              4                0            No                  No   \n",
       "\n",
       "      TravelInsurance  \n",
       "0                   0  \n",
       "1                   0  \n",
       "2                   1  \n",
       "3                   0  \n",
       "4                   0  \n",
       "...               ...  \n",
       "1982                1  \n",
       "1983                0  \n",
       "1984                0  \n",
       "1985                1  \n",
       "1986                0  \n",
       "\n",
       "[1987 rows x 9 columns]"
      ]
     },
     "execution_count": 62,
     "metadata": {},
     "output_type": "execute_result"
    }
   ],
   "source": [
    "d"
   ]
  },
  {
   "cell_type": "markdown",
   "id": "433947bd",
   "metadata": {},
   "source": [
    "#### Eliminating the space in one of the column may that cause difficulty in further analysis"
   ]
  },
  {
   "cell_type": "code",
   "execution_count": 63,
   "id": "46b50614",
   "metadata": {},
   "outputs": [],
   "source": [
    "df=d.rename(columns={'Employment Type':'EmploymentType'})"
   ]
  },
  {
   "cell_type": "code",
   "execution_count": 64,
   "id": "62ede89c",
   "metadata": {},
   "outputs": [
    {
     "data": {
      "text/html": [
       "<div>\n",
       "<style scoped>\n",
       "    .dataframe tbody tr th:only-of-type {\n",
       "        vertical-align: middle;\n",
       "    }\n",
       "\n",
       "    .dataframe tbody tr th {\n",
       "        vertical-align: top;\n",
       "    }\n",
       "\n",
       "    .dataframe thead th {\n",
       "        text-align: right;\n",
       "    }\n",
       "</style>\n",
       "<table border=\"1\" class=\"dataframe\">\n",
       "  <thead>\n",
       "    <tr style=\"text-align: right;\">\n",
       "      <th></th>\n",
       "      <th>Age</th>\n",
       "      <th>EmploymentType</th>\n",
       "      <th>GraduateOrNot</th>\n",
       "      <th>AnnualIncome</th>\n",
       "      <th>FamilyMembers</th>\n",
       "      <th>ChronicDiseases</th>\n",
       "      <th>FrequentFlyer</th>\n",
       "      <th>EverTravelledAbroad</th>\n",
       "      <th>TravelInsurance</th>\n",
       "    </tr>\n",
       "  </thead>\n",
       "  <tbody>\n",
       "    <tr>\n",
       "      <th>0</th>\n",
       "      <td>31</td>\n",
       "      <td>Government Sector</td>\n",
       "      <td>Yes</td>\n",
       "      <td>low</td>\n",
       "      <td>6</td>\n",
       "      <td>1</td>\n",
       "      <td>No</td>\n",
       "      <td>No</td>\n",
       "      <td>0</td>\n",
       "    </tr>\n",
       "    <tr>\n",
       "      <th>1</th>\n",
       "      <td>31</td>\n",
       "      <td>Private Sector/Self Employed</td>\n",
       "      <td>Yes</td>\n",
       "      <td>low</td>\n",
       "      <td>7</td>\n",
       "      <td>0</td>\n",
       "      <td>No</td>\n",
       "      <td>No</td>\n",
       "      <td>0</td>\n",
       "    </tr>\n",
       "    <tr>\n",
       "      <th>2</th>\n",
       "      <td>34</td>\n",
       "      <td>Private Sector/Self Employed</td>\n",
       "      <td>Yes</td>\n",
       "      <td>low</td>\n",
       "      <td>4</td>\n",
       "      <td>1</td>\n",
       "      <td>No</td>\n",
       "      <td>No</td>\n",
       "      <td>1</td>\n",
       "    </tr>\n",
       "    <tr>\n",
       "      <th>3</th>\n",
       "      <td>28</td>\n",
       "      <td>Private Sector/Self Employed</td>\n",
       "      <td>Yes</td>\n",
       "      <td>low</td>\n",
       "      <td>3</td>\n",
       "      <td>1</td>\n",
       "      <td>No</td>\n",
       "      <td>No</td>\n",
       "      <td>0</td>\n",
       "    </tr>\n",
       "    <tr>\n",
       "      <th>4</th>\n",
       "      <td>28</td>\n",
       "      <td>Private Sector/Self Employed</td>\n",
       "      <td>Yes</td>\n",
       "      <td>low</td>\n",
       "      <td>8</td>\n",
       "      <td>1</td>\n",
       "      <td>Yes</td>\n",
       "      <td>No</td>\n",
       "      <td>0</td>\n",
       "    </tr>\n",
       "    <tr>\n",
       "      <th>...</th>\n",
       "      <td>...</td>\n",
       "      <td>...</td>\n",
       "      <td>...</td>\n",
       "      <td>...</td>\n",
       "      <td>...</td>\n",
       "      <td>...</td>\n",
       "      <td>...</td>\n",
       "      <td>...</td>\n",
       "      <td>...</td>\n",
       "    </tr>\n",
       "    <tr>\n",
       "      <th>1982</th>\n",
       "      <td>33</td>\n",
       "      <td>Private Sector/Self Employed</td>\n",
       "      <td>Yes</td>\n",
       "      <td>high</td>\n",
       "      <td>4</td>\n",
       "      <td>0</td>\n",
       "      <td>Yes</td>\n",
       "      <td>Yes</td>\n",
       "      <td>1</td>\n",
       "    </tr>\n",
       "    <tr>\n",
       "      <th>1983</th>\n",
       "      <td>28</td>\n",
       "      <td>Private Sector/Self Employed</td>\n",
       "      <td>Yes</td>\n",
       "      <td>high</td>\n",
       "      <td>5</td>\n",
       "      <td>1</td>\n",
       "      <td>No</td>\n",
       "      <td>Yes</td>\n",
       "      <td>0</td>\n",
       "    </tr>\n",
       "    <tr>\n",
       "      <th>1984</th>\n",
       "      <td>28</td>\n",
       "      <td>Private Sector/Self Employed</td>\n",
       "      <td>Yes</td>\n",
       "      <td>low</td>\n",
       "      <td>6</td>\n",
       "      <td>1</td>\n",
       "      <td>No</td>\n",
       "      <td>No</td>\n",
       "      <td>0</td>\n",
       "    </tr>\n",
       "    <tr>\n",
       "      <th>1985</th>\n",
       "      <td>34</td>\n",
       "      <td>Private Sector/Self Employed</td>\n",
       "      <td>Yes</td>\n",
       "      <td>low</td>\n",
       "      <td>6</td>\n",
       "      <td>0</td>\n",
       "      <td>Yes</td>\n",
       "      <td>Yes</td>\n",
       "      <td>1</td>\n",
       "    </tr>\n",
       "    <tr>\n",
       "      <th>1986</th>\n",
       "      <td>34</td>\n",
       "      <td>Private Sector/Self Employed</td>\n",
       "      <td>Yes</td>\n",
       "      <td>low</td>\n",
       "      <td>4</td>\n",
       "      <td>0</td>\n",
       "      <td>No</td>\n",
       "      <td>No</td>\n",
       "      <td>0</td>\n",
       "    </tr>\n",
       "  </tbody>\n",
       "</table>\n",
       "<p>1987 rows × 9 columns</p>\n",
       "</div>"
      ],
      "text/plain": [
       "      Age                EmploymentType GraduateOrNot AnnualIncome  \\\n",
       "0      31             Government Sector           Yes          low   \n",
       "1      31  Private Sector/Self Employed           Yes          low   \n",
       "2      34  Private Sector/Self Employed           Yes          low   \n",
       "3      28  Private Sector/Self Employed           Yes          low   \n",
       "4      28  Private Sector/Self Employed           Yes          low   \n",
       "...   ...                           ...           ...          ...   \n",
       "1982   33  Private Sector/Self Employed           Yes         high   \n",
       "1983   28  Private Sector/Self Employed           Yes         high   \n",
       "1984   28  Private Sector/Self Employed           Yes          low   \n",
       "1985   34  Private Sector/Self Employed           Yes          low   \n",
       "1986   34  Private Sector/Self Employed           Yes          low   \n",
       "\n",
       "      FamilyMembers  ChronicDiseases FrequentFlyer EverTravelledAbroad  \\\n",
       "0                 6                1            No                  No   \n",
       "1                 7                0            No                  No   \n",
       "2                 4                1            No                  No   \n",
       "3                 3                1            No                  No   \n",
       "4                 8                1           Yes                  No   \n",
       "...             ...              ...           ...                 ...   \n",
       "1982              4                0           Yes                 Yes   \n",
       "1983              5                1            No                 Yes   \n",
       "1984              6                1            No                  No   \n",
       "1985              6                0           Yes                 Yes   \n",
       "1986              4                0            No                  No   \n",
       "\n",
       "      TravelInsurance  \n",
       "0                   0  \n",
       "1                   0  \n",
       "2                   1  \n",
       "3                   0  \n",
       "4                   0  \n",
       "...               ...  \n",
       "1982                1  \n",
       "1983                0  \n",
       "1984                0  \n",
       "1985                1  \n",
       "1986                0  \n",
       "\n",
       "[1987 rows x 9 columns]"
      ]
     },
     "execution_count": 64,
     "metadata": {},
     "output_type": "execute_result"
    }
   ],
   "source": [
    "df"
   ]
  },
  {
   "cell_type": "markdown",
   "id": "8d5d3e9d",
   "metadata": {},
   "source": [
    "#### Changing all catogorical values to numerical one except target variable"
   ]
  },
  {
   "cell_type": "code",
   "execution_count": 66,
   "id": "5dec557f",
   "metadata": {},
   "outputs": [],
   "source": [
    "df.EmploymentType=df.EmploymentType.replace({\"Government Sector\":0,\"Private Sector/Self Employed\":1})\n",
    "df.GraduateOrNot=df.GraduateOrNot.replace({\"Yes\":1,\"No\":0})\n",
    "df.FrequentFlyer=df.FrequentFlyer.replace({\"Yes\":1,\"No\":0})\n",
    "df.EverTravelledAbroad=df.EverTravelledAbroad.replace({\"Yes\":1,\"No\":0})\n",
    "df.AnnualIncome=df.AnnualIncome.replace({'high':1,'low':0})"
   ]
  },
  {
   "cell_type": "markdown",
   "id": "886eb651",
   "metadata": {},
   "source": [
    "#### Reading the new dataset after all neccosory changes for applying model "
   ]
  },
  {
   "cell_type": "code",
   "execution_count": 67,
   "id": "1017f24b",
   "metadata": {},
   "outputs": [
    {
     "data": {
      "text/html": [
       "<div>\n",
       "<style scoped>\n",
       "    .dataframe tbody tr th:only-of-type {\n",
       "        vertical-align: middle;\n",
       "    }\n",
       "\n",
       "    .dataframe tbody tr th {\n",
       "        vertical-align: top;\n",
       "    }\n",
       "\n",
       "    .dataframe thead th {\n",
       "        text-align: right;\n",
       "    }\n",
       "</style>\n",
       "<table border=\"1\" class=\"dataframe\">\n",
       "  <thead>\n",
       "    <tr style=\"text-align: right;\">\n",
       "      <th></th>\n",
       "      <th>Age</th>\n",
       "      <th>EmploymentType</th>\n",
       "      <th>GraduateOrNot</th>\n",
       "      <th>AnnualIncome</th>\n",
       "      <th>FamilyMembers</th>\n",
       "      <th>ChronicDiseases</th>\n",
       "      <th>FrequentFlyer</th>\n",
       "      <th>EverTravelledAbroad</th>\n",
       "      <th>TravelInsurance</th>\n",
       "    </tr>\n",
       "  </thead>\n",
       "  <tbody>\n",
       "    <tr>\n",
       "      <th>0</th>\n",
       "      <td>31</td>\n",
       "      <td>0</td>\n",
       "      <td>1</td>\n",
       "      <td>0</td>\n",
       "      <td>6</td>\n",
       "      <td>1</td>\n",
       "      <td>0</td>\n",
       "      <td>0</td>\n",
       "      <td>0</td>\n",
       "    </tr>\n",
       "    <tr>\n",
       "      <th>1</th>\n",
       "      <td>31</td>\n",
       "      <td>1</td>\n",
       "      <td>1</td>\n",
       "      <td>0</td>\n",
       "      <td>7</td>\n",
       "      <td>0</td>\n",
       "      <td>0</td>\n",
       "      <td>0</td>\n",
       "      <td>0</td>\n",
       "    </tr>\n",
       "    <tr>\n",
       "      <th>2</th>\n",
       "      <td>34</td>\n",
       "      <td>1</td>\n",
       "      <td>1</td>\n",
       "      <td>0</td>\n",
       "      <td>4</td>\n",
       "      <td>1</td>\n",
       "      <td>0</td>\n",
       "      <td>0</td>\n",
       "      <td>1</td>\n",
       "    </tr>\n",
       "    <tr>\n",
       "      <th>3</th>\n",
       "      <td>28</td>\n",
       "      <td>1</td>\n",
       "      <td>1</td>\n",
       "      <td>0</td>\n",
       "      <td>3</td>\n",
       "      <td>1</td>\n",
       "      <td>0</td>\n",
       "      <td>0</td>\n",
       "      <td>0</td>\n",
       "    </tr>\n",
       "    <tr>\n",
       "      <th>4</th>\n",
       "      <td>28</td>\n",
       "      <td>1</td>\n",
       "      <td>1</td>\n",
       "      <td>0</td>\n",
       "      <td>8</td>\n",
       "      <td>1</td>\n",
       "      <td>1</td>\n",
       "      <td>0</td>\n",
       "      <td>0</td>\n",
       "    </tr>\n",
       "    <tr>\n",
       "      <th>...</th>\n",
       "      <td>...</td>\n",
       "      <td>...</td>\n",
       "      <td>...</td>\n",
       "      <td>...</td>\n",
       "      <td>...</td>\n",
       "      <td>...</td>\n",
       "      <td>...</td>\n",
       "      <td>...</td>\n",
       "      <td>...</td>\n",
       "    </tr>\n",
       "    <tr>\n",
       "      <th>1982</th>\n",
       "      <td>33</td>\n",
       "      <td>1</td>\n",
       "      <td>1</td>\n",
       "      <td>1</td>\n",
       "      <td>4</td>\n",
       "      <td>0</td>\n",
       "      <td>1</td>\n",
       "      <td>1</td>\n",
       "      <td>1</td>\n",
       "    </tr>\n",
       "    <tr>\n",
       "      <th>1983</th>\n",
       "      <td>28</td>\n",
       "      <td>1</td>\n",
       "      <td>1</td>\n",
       "      <td>1</td>\n",
       "      <td>5</td>\n",
       "      <td>1</td>\n",
       "      <td>0</td>\n",
       "      <td>1</td>\n",
       "      <td>0</td>\n",
       "    </tr>\n",
       "    <tr>\n",
       "      <th>1984</th>\n",
       "      <td>28</td>\n",
       "      <td>1</td>\n",
       "      <td>1</td>\n",
       "      <td>0</td>\n",
       "      <td>6</td>\n",
       "      <td>1</td>\n",
       "      <td>0</td>\n",
       "      <td>0</td>\n",
       "      <td>0</td>\n",
       "    </tr>\n",
       "    <tr>\n",
       "      <th>1985</th>\n",
       "      <td>34</td>\n",
       "      <td>1</td>\n",
       "      <td>1</td>\n",
       "      <td>0</td>\n",
       "      <td>6</td>\n",
       "      <td>0</td>\n",
       "      <td>1</td>\n",
       "      <td>1</td>\n",
       "      <td>1</td>\n",
       "    </tr>\n",
       "    <tr>\n",
       "      <th>1986</th>\n",
       "      <td>34</td>\n",
       "      <td>1</td>\n",
       "      <td>1</td>\n",
       "      <td>0</td>\n",
       "      <td>4</td>\n",
       "      <td>0</td>\n",
       "      <td>0</td>\n",
       "      <td>0</td>\n",
       "      <td>0</td>\n",
       "    </tr>\n",
       "  </tbody>\n",
       "</table>\n",
       "<p>1987 rows × 9 columns</p>\n",
       "</div>"
      ],
      "text/plain": [
       "      Age  EmploymentType  GraduateOrNot  AnnualIncome  FamilyMembers  \\\n",
       "0      31               0              1             0              6   \n",
       "1      31               1              1             0              7   \n",
       "2      34               1              1             0              4   \n",
       "3      28               1              1             0              3   \n",
       "4      28               1              1             0              8   \n",
       "...   ...             ...            ...           ...            ...   \n",
       "1982   33               1              1             1              4   \n",
       "1983   28               1              1             1              5   \n",
       "1984   28               1              1             0              6   \n",
       "1985   34               1              1             0              6   \n",
       "1986   34               1              1             0              4   \n",
       "\n",
       "      ChronicDiseases  FrequentFlyer  EverTravelledAbroad  TravelInsurance  \n",
       "0                   1              0                    0                0  \n",
       "1                   0              0                    0                0  \n",
       "2                   1              0                    0                1  \n",
       "3                   1              0                    0                0  \n",
       "4                   1              1                    0                0  \n",
       "...               ...            ...                  ...              ...  \n",
       "1982                0              1                    1                1  \n",
       "1983                1              0                    1                0  \n",
       "1984                1              0                    0                0  \n",
       "1985                0              1                    1                1  \n",
       "1986                0              0                    0                0  \n",
       "\n",
       "[1987 rows x 9 columns]"
      ]
     },
     "execution_count": 67,
     "metadata": {},
     "output_type": "execute_result"
    }
   ],
   "source": [
    "df"
   ]
  },
  {
   "cell_type": "markdown",
   "id": "be630161",
   "metadata": {},
   "source": [
    "#### Reading the x value "
   ]
  },
  {
   "cell_type": "code",
   "execution_count": 68,
   "id": "75e8b8e9",
   "metadata": {},
   "outputs": [],
   "source": [
    "x=df.drop(['TravelInsurance'],axis=1)"
   ]
  },
  {
   "cell_type": "code",
   "execution_count": 69,
   "id": "ed3b9283",
   "metadata": {},
   "outputs": [
    {
     "data": {
      "text/html": [
       "<div>\n",
       "<style scoped>\n",
       "    .dataframe tbody tr th:only-of-type {\n",
       "        vertical-align: middle;\n",
       "    }\n",
       "\n",
       "    .dataframe tbody tr th {\n",
       "        vertical-align: top;\n",
       "    }\n",
       "\n",
       "    .dataframe thead th {\n",
       "        text-align: right;\n",
       "    }\n",
       "</style>\n",
       "<table border=\"1\" class=\"dataframe\">\n",
       "  <thead>\n",
       "    <tr style=\"text-align: right;\">\n",
       "      <th></th>\n",
       "      <th>Age</th>\n",
       "      <th>EmploymentType</th>\n",
       "      <th>GraduateOrNot</th>\n",
       "      <th>AnnualIncome</th>\n",
       "      <th>FamilyMembers</th>\n",
       "      <th>ChronicDiseases</th>\n",
       "      <th>FrequentFlyer</th>\n",
       "      <th>EverTravelledAbroad</th>\n",
       "    </tr>\n",
       "  </thead>\n",
       "  <tbody>\n",
       "    <tr>\n",
       "      <th>0</th>\n",
       "      <td>31</td>\n",
       "      <td>0</td>\n",
       "      <td>1</td>\n",
       "      <td>0</td>\n",
       "      <td>6</td>\n",
       "      <td>1</td>\n",
       "      <td>0</td>\n",
       "      <td>0</td>\n",
       "    </tr>\n",
       "    <tr>\n",
       "      <th>1</th>\n",
       "      <td>31</td>\n",
       "      <td>1</td>\n",
       "      <td>1</td>\n",
       "      <td>0</td>\n",
       "      <td>7</td>\n",
       "      <td>0</td>\n",
       "      <td>0</td>\n",
       "      <td>0</td>\n",
       "    </tr>\n",
       "    <tr>\n",
       "      <th>2</th>\n",
       "      <td>34</td>\n",
       "      <td>1</td>\n",
       "      <td>1</td>\n",
       "      <td>0</td>\n",
       "      <td>4</td>\n",
       "      <td>1</td>\n",
       "      <td>0</td>\n",
       "      <td>0</td>\n",
       "    </tr>\n",
       "    <tr>\n",
       "      <th>3</th>\n",
       "      <td>28</td>\n",
       "      <td>1</td>\n",
       "      <td>1</td>\n",
       "      <td>0</td>\n",
       "      <td>3</td>\n",
       "      <td>1</td>\n",
       "      <td>0</td>\n",
       "      <td>0</td>\n",
       "    </tr>\n",
       "    <tr>\n",
       "      <th>4</th>\n",
       "      <td>28</td>\n",
       "      <td>1</td>\n",
       "      <td>1</td>\n",
       "      <td>0</td>\n",
       "      <td>8</td>\n",
       "      <td>1</td>\n",
       "      <td>1</td>\n",
       "      <td>0</td>\n",
       "    </tr>\n",
       "    <tr>\n",
       "      <th>...</th>\n",
       "      <td>...</td>\n",
       "      <td>...</td>\n",
       "      <td>...</td>\n",
       "      <td>...</td>\n",
       "      <td>...</td>\n",
       "      <td>...</td>\n",
       "      <td>...</td>\n",
       "      <td>...</td>\n",
       "    </tr>\n",
       "    <tr>\n",
       "      <th>1982</th>\n",
       "      <td>33</td>\n",
       "      <td>1</td>\n",
       "      <td>1</td>\n",
       "      <td>1</td>\n",
       "      <td>4</td>\n",
       "      <td>0</td>\n",
       "      <td>1</td>\n",
       "      <td>1</td>\n",
       "    </tr>\n",
       "    <tr>\n",
       "      <th>1983</th>\n",
       "      <td>28</td>\n",
       "      <td>1</td>\n",
       "      <td>1</td>\n",
       "      <td>1</td>\n",
       "      <td>5</td>\n",
       "      <td>1</td>\n",
       "      <td>0</td>\n",
       "      <td>1</td>\n",
       "    </tr>\n",
       "    <tr>\n",
       "      <th>1984</th>\n",
       "      <td>28</td>\n",
       "      <td>1</td>\n",
       "      <td>1</td>\n",
       "      <td>0</td>\n",
       "      <td>6</td>\n",
       "      <td>1</td>\n",
       "      <td>0</td>\n",
       "      <td>0</td>\n",
       "    </tr>\n",
       "    <tr>\n",
       "      <th>1985</th>\n",
       "      <td>34</td>\n",
       "      <td>1</td>\n",
       "      <td>1</td>\n",
       "      <td>0</td>\n",
       "      <td>6</td>\n",
       "      <td>0</td>\n",
       "      <td>1</td>\n",
       "      <td>1</td>\n",
       "    </tr>\n",
       "    <tr>\n",
       "      <th>1986</th>\n",
       "      <td>34</td>\n",
       "      <td>1</td>\n",
       "      <td>1</td>\n",
       "      <td>0</td>\n",
       "      <td>4</td>\n",
       "      <td>0</td>\n",
       "      <td>0</td>\n",
       "      <td>0</td>\n",
       "    </tr>\n",
       "  </tbody>\n",
       "</table>\n",
       "<p>1987 rows × 8 columns</p>\n",
       "</div>"
      ],
      "text/plain": [
       "      Age  EmploymentType  GraduateOrNot  AnnualIncome  FamilyMembers  \\\n",
       "0      31               0              1             0              6   \n",
       "1      31               1              1             0              7   \n",
       "2      34               1              1             0              4   \n",
       "3      28               1              1             0              3   \n",
       "4      28               1              1             0              8   \n",
       "...   ...             ...            ...           ...            ...   \n",
       "1982   33               1              1             1              4   \n",
       "1983   28               1              1             1              5   \n",
       "1984   28               1              1             0              6   \n",
       "1985   34               1              1             0              6   \n",
       "1986   34               1              1             0              4   \n",
       "\n",
       "      ChronicDiseases  FrequentFlyer  EverTravelledAbroad  \n",
       "0                   1              0                    0  \n",
       "1                   0              0                    0  \n",
       "2                   1              0                    0  \n",
       "3                   1              0                    0  \n",
       "4                   1              1                    0  \n",
       "...               ...            ...                  ...  \n",
       "1982                0              1                    1  \n",
       "1983                1              0                    1  \n",
       "1984                1              0                    0  \n",
       "1985                0              1                    1  \n",
       "1986                0              0                    0  \n",
       "\n",
       "[1987 rows x 8 columns]"
      ]
     },
     "execution_count": 69,
     "metadata": {},
     "output_type": "execute_result"
    }
   ],
   "source": [
    "x"
   ]
  },
  {
   "cell_type": "markdown",
   "id": "4f7f7a1f",
   "metadata": {},
   "source": [
    "- x is the independant variables\n",
    "- Here 8 features is consideed as independed variable\n",
    "- We can find the changes of target variable according to the changes in the independant variable"
   ]
  },
  {
   "cell_type": "markdown",
   "id": "86a53355",
   "metadata": {},
   "source": [
    "#### y is the target variable,Here in this dataset TraveInsurance is the target variable"
   ]
  },
  {
   "cell_type": "code",
   "execution_count": 70,
   "id": "2554f7b3",
   "metadata": {},
   "outputs": [],
   "source": [
    "y=df.TravelInsurance"
   ]
  },
  {
   "cell_type": "code",
   "execution_count": 71,
   "id": "143f7f16",
   "metadata": {},
   "outputs": [
    {
     "data": {
      "text/plain": [
       "0       0\n",
       "1       0\n",
       "2       1\n",
       "3       0\n",
       "4       0\n",
       "       ..\n",
       "1982    1\n",
       "1983    0\n",
       "1984    0\n",
       "1985    1\n",
       "1986    0\n",
       "Name: TravelInsurance, Length: 1987, dtype: int64"
      ]
     },
     "execution_count": 71,
     "metadata": {},
     "output_type": "execute_result"
    }
   ],
   "source": [
    "y"
   ]
  },
  {
   "cell_type": "markdown",
   "id": "cb4f31ef",
   "metadata": {},
   "source": [
    "- y is the depended variable\n",
    "- it is catogorical two catogory included\n",
    "- 1->represent people intereseted to purchase insurance\n",
    "- 0->represent people not inteested to purchase insurance"
   ]
  },
  {
   "cell_type": "markdown",
   "id": "0eb54b2f",
   "metadata": {},
   "source": [
    "#### Splitting dataset"
   ]
  },
  {
   "cell_type": "code",
   "execution_count": 72,
   "id": "b955ab70",
   "metadata": {},
   "outputs": [],
   "source": [
    "from sklearn.model_selection import train_test_split"
   ]
  },
  {
   "cell_type": "markdown",
   "id": "4c8f6f98",
   "metadata": {},
   "source": [
    "#### Calculating the 80 percent training and 20 percent test data "
   ]
  },
  {
   "cell_type": "code",
   "execution_count": 73,
   "id": "2cea3b48",
   "metadata": {},
   "outputs": [],
   "source": [
    "x_train,x_test,y_train,y_test=train_test_split(x,y,test_size=0.2,random_state=1)"
   ]
  },
  {
   "cell_type": "code",
   "execution_count": 74,
   "id": "7d492a77",
   "metadata": {},
   "outputs": [
    {
     "name": "stdout",
     "output_type": "stream",
     "text": [
      "(1589, 8)\n",
      "(398, 8)\n",
      "(1589,)\n",
      "(398,)\n"
     ]
    }
   ],
   "source": [
    "print(x_train.shape)\n",
    "print(x_test.shape)\n",
    "print(y_train.shape)\n",
    "print(y_test.shape)"
   ]
  },
  {
   "cell_type": "code",
   "execution_count": 75,
   "id": "3189bc63",
   "metadata": {},
   "outputs": [],
   "source": [
    "from sklearn.linear_model import LogisticRegression"
   ]
  },
  {
   "cell_type": "code",
   "execution_count": 76,
   "id": "5557dea1",
   "metadata": {},
   "outputs": [],
   "source": [
    "model=LogisticRegression()"
   ]
  },
  {
   "cell_type": "code",
   "execution_count": 77,
   "id": "fa248902",
   "metadata": {},
   "outputs": [
    {
     "data": {
      "text/plain": [
       "LogisticRegression()"
      ]
     },
     "execution_count": 77,
     "metadata": {},
     "output_type": "execute_result"
    }
   ],
   "source": [
    "model.fit(x_train,y_train)"
   ]
  },
  {
   "cell_type": "code",
   "execution_count": 78,
   "id": "52f72788",
   "metadata": {},
   "outputs": [
    {
     "data": {
      "text/plain": [
       "79.89949748743719"
      ]
     },
     "execution_count": 78,
     "metadata": {},
     "output_type": "execute_result"
    }
   ],
   "source": [
    "model.score(x_test,y_test)*100"
   ]
  },
  {
   "cell_type": "code",
   "execution_count": 79,
   "id": "37d8c79c",
   "metadata": {},
   "outputs": [
    {
     "data": {
      "text/plain": [
       "78.60289490245438"
      ]
     },
     "execution_count": 79,
     "metadata": {},
     "output_type": "execute_result"
    }
   ],
   "source": [
    "model.score(x_train,y_train)*100"
   ]
  },
  {
   "cell_type": "code",
   "execution_count": 80,
   "id": "03c11aa9",
   "metadata": {},
   "outputs": [],
   "source": [
    "y_predict=model.predict(x_test)"
   ]
  },
  {
   "cell_type": "code",
   "execution_count": 81,
   "id": "beac9d33",
   "metadata": {},
   "outputs": [
    {
     "data": {
      "text/plain": [
       "array([0, 0, 0, 0, 0, 0, 0, 0, 0, 1, 0, 0, 0, 0, 0, 0, 0, 0, 0, 0, 0, 0,\n",
       "       0, 0, 0, 0, 0, 0, 1, 0, 0, 0, 0, 0, 1, 0, 0, 0, 1, 0, 0, 0, 0, 1,\n",
       "       0, 0, 0, 0, 0, 0, 0, 0, 0, 0, 0, 0, 0, 1, 0, 0, 0, 0, 1, 1, 0, 0,\n",
       "       0, 0, 0, 0, 1, 0, 0, 0, 0, 0, 0, 1, 0, 0, 0, 0, 1, 0, 0, 1, 0, 0,\n",
       "       0, 0, 0, 0, 0, 0, 1, 1, 1, 0, 0, 0, 0, 0, 0, 0, 0, 0, 0, 0, 0, 0,\n",
       "       0, 0, 0, 0, 0, 1, 0, 0, 0, 0, 1, 0, 0, 1, 0, 0, 1, 1, 0, 0, 0, 0,\n",
       "       0, 1, 0, 0, 0, 0, 1, 0, 0, 0, 0, 0, 0, 0, 0, 0, 1, 0, 0, 0, 1, 0,\n",
       "       0, 1, 0, 1, 1, 0, 0, 0, 0, 0, 1, 0, 0, 1, 0, 1, 0, 1, 0, 0, 0, 0,\n",
       "       0, 0, 0, 0, 0, 0, 0, 0, 0, 0, 0, 0, 0, 0, 1, 0, 1, 0, 1, 0, 1, 0,\n",
       "       0, 0, 0, 0, 0, 0, 0, 1, 1, 0, 1, 1, 0, 1, 0, 0, 0, 0, 0, 1, 0, 0,\n",
       "       0, 0, 0, 0, 0, 0, 1, 1, 0, 0, 0, 0, 0, 0, 1, 0, 1, 0, 0, 0, 0, 0,\n",
       "       0, 0, 0, 0, 0, 0, 0, 1, 1, 0, 0, 0, 0, 0, 0, 1, 0, 0, 0, 0, 1, 0,\n",
       "       0, 0, 1, 1, 0, 0, 0, 0, 0, 1, 0, 1, 0, 0, 0, 0, 0, 0, 0, 0, 1, 0,\n",
       "       0, 1, 1, 0, 0, 0, 0, 0, 0, 0, 0, 1, 0, 1, 0, 0, 0, 0, 1, 1, 1, 0,\n",
       "       0, 0, 0, 0, 1, 0, 0, 0, 1, 0, 0, 0, 0, 0, 0, 0, 0, 1, 0, 0, 0, 1,\n",
       "       0, 1, 0, 0, 0, 0, 0, 0, 0, 0, 0, 0, 0, 0, 0, 0, 0, 0, 0, 1, 1, 0,\n",
       "       0, 0, 0, 0, 0, 0, 0, 0, 0, 0, 0, 0, 0, 0, 0, 0, 0, 0, 0, 1, 1, 0,\n",
       "       0, 0, 0, 0, 1, 0, 1, 1, 1, 0, 0, 0, 0, 1, 0, 1, 0, 0, 0, 0, 0, 0,\n",
       "       0, 1], dtype=int64)"
      ]
     },
     "execution_count": 81,
     "metadata": {},
     "output_type": "execute_result"
    }
   ],
   "source": [
    "y_predict"
   ]
  },
  {
   "cell_type": "code",
   "execution_count": 82,
   "id": "4e1b4c82",
   "metadata": {},
   "outputs": [],
   "source": [
    "df=pd.DataFrame({\"Actual\":y_test,\"predicted\":y_predict})"
   ]
  },
  {
   "cell_type": "code",
   "execution_count": 83,
   "id": "fd8d5ff6",
   "metadata": {},
   "outputs": [
    {
     "data": {
      "text/html": [
       "<div>\n",
       "<style scoped>\n",
       "    .dataframe tbody tr th:only-of-type {\n",
       "        vertical-align: middle;\n",
       "    }\n",
       "\n",
       "    .dataframe tbody tr th {\n",
       "        vertical-align: top;\n",
       "    }\n",
       "\n",
       "    .dataframe thead th {\n",
       "        text-align: right;\n",
       "    }\n",
       "</style>\n",
       "<table border=\"1\" class=\"dataframe\">\n",
       "  <thead>\n",
       "    <tr style=\"text-align: right;\">\n",
       "      <th></th>\n",
       "      <th>Actual</th>\n",
       "      <th>predicted</th>\n",
       "    </tr>\n",
       "  </thead>\n",
       "  <tbody>\n",
       "    <tr>\n",
       "      <th>1549</th>\n",
       "      <td>0</td>\n",
       "      <td>0</td>\n",
       "    </tr>\n",
       "    <tr>\n",
       "      <th>1546</th>\n",
       "      <td>0</td>\n",
       "      <td>0</td>\n",
       "    </tr>\n",
       "    <tr>\n",
       "      <th>1179</th>\n",
       "      <td>0</td>\n",
       "      <td>0</td>\n",
       "    </tr>\n",
       "    <tr>\n",
       "      <th>111</th>\n",
       "      <td>0</td>\n",
       "      <td>0</td>\n",
       "    </tr>\n",
       "    <tr>\n",
       "      <th>561</th>\n",
       "      <td>0</td>\n",
       "      <td>0</td>\n",
       "    </tr>\n",
       "    <tr>\n",
       "      <th>...</th>\n",
       "      <td>...</td>\n",
       "      <td>...</td>\n",
       "    </tr>\n",
       "    <tr>\n",
       "      <th>1470</th>\n",
       "      <td>0</td>\n",
       "      <td>0</td>\n",
       "    </tr>\n",
       "    <tr>\n",
       "      <th>336</th>\n",
       "      <td>0</td>\n",
       "      <td>0</td>\n",
       "    </tr>\n",
       "    <tr>\n",
       "      <th>993</th>\n",
       "      <td>0</td>\n",
       "      <td>0</td>\n",
       "    </tr>\n",
       "    <tr>\n",
       "      <th>1714</th>\n",
       "      <td>0</td>\n",
       "      <td>0</td>\n",
       "    </tr>\n",
       "    <tr>\n",
       "      <th>201</th>\n",
       "      <td>1</td>\n",
       "      <td>1</td>\n",
       "    </tr>\n",
       "  </tbody>\n",
       "</table>\n",
       "<p>398 rows × 2 columns</p>\n",
       "</div>"
      ],
      "text/plain": [
       "      Actual  predicted\n",
       "1549       0          0\n",
       "1546       0          0\n",
       "1179       0          0\n",
       "111        0          0\n",
       "561        0          0\n",
       "...      ...        ...\n",
       "1470       0          0\n",
       "336        0          0\n",
       "993        0          0\n",
       "1714       0          0\n",
       "201        1          1\n",
       "\n",
       "[398 rows x 2 columns]"
      ]
     },
     "execution_count": 83,
     "metadata": {},
     "output_type": "execute_result"
    }
   ],
   "source": [
    "df"
   ]
  },
  {
   "cell_type": "code",
   "execution_count": 84,
   "id": "ca354a2d",
   "metadata": {},
   "outputs": [],
   "source": [
    "from sklearn.metrics import accuracy_score"
   ]
  },
  {
   "cell_type": "code",
   "execution_count": 85,
   "id": "9ca491e8",
   "metadata": {},
   "outputs": [
    {
     "name": "stdout",
     "output_type": "stream",
     "text": [
      "the accuracy for test set is 79.89949748743719\n"
     ]
    }
   ],
   "source": [
    "test_acc=accuracy_score(y_test,y_predict)\n",
    "print(\"the accuracy for test set is {}\".format(test_acc*100))"
   ]
  },
  {
   "cell_type": "code",
   "execution_count": 86,
   "id": "0e093da5",
   "metadata": {},
   "outputs": [],
   "source": [
    "from sklearn.metrics import confusion_matrix"
   ]
  },
  {
   "cell_type": "code",
   "execution_count": null,
   "id": "062755e3",
   "metadata": {},
   "outputs": [],
   "source": [
    "from sklearn.metrics import plot_confusion_matrix"
   ]
  },
  {
   "cell_type": "code",
   "execution_count": 87,
   "id": "6aed7bd9",
   "metadata": {},
   "outputs": [],
   "source": [
    "performance=confusion_matrix(y_test,y_predict)"
   ]
  },
  {
   "cell_type": "code",
   "execution_count": 88,
   "id": "fc5ca223",
   "metadata": {},
   "outputs": [
    {
     "data": {
      "text/plain": [
       "array([[247,   6],\n",
       "       [ 74,  71]], dtype=int64)"
      ]
     },
     "execution_count": 88,
     "metadata": {},
     "output_type": "execute_result"
    }
   ],
   "source": [
    "performance"
   ]
  },
  {
   "cell_type": "code",
   "execution_count": 89,
   "id": "11e31973",
   "metadata": {},
   "outputs": [],
   "source": [
    "from sklearn.metrics import classification_report"
   ]
  },
  {
   "cell_type": "code",
   "execution_count": 90,
   "id": "a68fe83c",
   "metadata": {},
   "outputs": [],
   "source": [
    "performance=classification_report(y_test,y_predict)"
   ]
  },
  {
   "cell_type": "code",
   "execution_count": 91,
   "id": "e1c653ab",
   "metadata": {},
   "outputs": [
    {
     "name": "stdout",
     "output_type": "stream",
     "text": [
      "              precision    recall  f1-score   support\n",
      "\n",
      "           0       0.77      0.98      0.86       253\n",
      "           1       0.92      0.49      0.64       145\n",
      "\n",
      "    accuracy                           0.80       398\n",
      "   macro avg       0.85      0.73      0.75       398\n",
      "weighted avg       0.83      0.80      0.78       398\n",
      "\n"
     ]
    }
   ],
   "source": [
    "print(performance)"
   ]
  },
  {
   "cell_type": "code",
   "execution_count": 107,
   "id": "0bc48632",
   "metadata": {},
   "outputs": [
    {
     "data": {
      "image/png": "[encoded data removed]",
      "text/plain": [
       "<Figure size 432x288 with 2 Axes>"
      ]
     },
     "metadata": {
      "needs_background": "light"
     },
     "output_type": "display_data"
    }
   ],
   "source": [
    "plot_confusion_matrix(model,x_test,y_test)\n",
    "plt.show()"
   ]
  },
  {
   "cell_type": "markdown",
   "id": "3ad12c09",
   "metadata": {},
   "source": [
    "#### Random Forest Classifier"
   ]
  },
  {
   "cell_type": "code",
   "execution_count": 94,
   "id": "91930f4f",
   "metadata": {},
   "outputs": [],
   "source": [
    "from sklearn.ensemble import RandomForestClassifier"
   ]
  },
  {
   "cell_type": "code",
   "execution_count": 95,
   "id": "1e070291",
   "metadata": {},
   "outputs": [],
   "source": [
    "model_random=RandomForestClassifier()"
   ]
  },
  {
   "cell_type": "code",
   "execution_count": 96,
   "id": "576d5cf1",
   "metadata": {},
   "outputs": [
    {
     "data": {
      "text/plain": [
       "RandomForestClassifier()"
      ]
     },
     "execution_count": 96,
     "metadata": {},
     "output_type": "execute_result"
    }
   ],
   "source": [
    "model_random.fit(x_train,y_train)"
   ]
  },
  {
   "cell_type": "code",
   "execution_count": 97,
   "id": "f3a94040",
   "metadata": {},
   "outputs": [
    {
     "data": {
      "text/plain": [
       "83.16582914572864"
      ]
     },
     "execution_count": 97,
     "metadata": {},
     "output_type": "execute_result"
    }
   ],
   "source": [
    "model_random.score(x_test,y_test)*100"
   ]
  },
  {
   "cell_type": "markdown",
   "id": "0c548daf",
   "metadata": {},
   "source": [
    "- Random Forest classifier giving 83.16 percent accuracy "
   ]
  },
  {
   "cell_type": "code",
   "execution_count": 98,
   "id": "5dc90c97",
   "metadata": {},
   "outputs": [],
   "source": [
    "y_predict=model_random.predict(x_test)"
   ]
  },
  {
   "cell_type": "code",
   "execution_count": 99,
   "id": "536d97a0",
   "metadata": {},
   "outputs": [
    {
     "data": {
      "text/plain": [
       "array([0, 0, 0, 0, 0, 0, 1, 0, 0, 1, 0, 0, 0, 0, 0, 0, 0, 0, 0, 0, 0, 0,\n",
       "       0, 0, 0, 0, 0, 0, 0, 1, 0, 1, 0, 1, 0, 0, 0, 1, 1, 0, 0, 0, 0, 1,\n",
       "       0, 0, 0, 0, 0, 0, 0, 0, 0, 0, 0, 0, 0, 1, 0, 0, 0, 0, 1, 1, 0, 0,\n",
       "       0, 0, 1, 0, 1, 0, 0, 0, 0, 0, 0, 1, 0, 0, 0, 0, 1, 0, 0, 1, 0, 0,\n",
       "       0, 0, 1, 0, 0, 0, 1, 1, 1, 0, 0, 1, 0, 0, 0, 0, 0, 0, 0, 0, 0, 0,\n",
       "       0, 0, 0, 0, 0, 1, 0, 0, 0, 0, 1, 0, 0, 1, 0, 0, 1, 1, 0, 0, 0, 0,\n",
       "       0, 1, 1, 0, 0, 0, 1, 0, 0, 0, 0, 0, 0, 0, 0, 0, 1, 0, 0, 0, 1, 1,\n",
       "       0, 1, 0, 1, 1, 0, 0, 0, 0, 0, 1, 0, 0, 0, 0, 1, 0, 1, 0, 0, 1, 0,\n",
       "       0, 0, 0, 0, 1, 0, 0, 0, 0, 0, 0, 0, 0, 0, 1, 0, 1, 1, 1, 0, 1, 0,\n",
       "       0, 0, 1, 1, 1, 0, 0, 1, 1, 1, 1, 1, 0, 1, 0, 0, 0, 0, 0, 1, 0, 0,\n",
       "       0, 0, 1, 0, 1, 0, 1, 1, 0, 0, 0, 0, 0, 0, 1, 0, 1, 0, 0, 0, 0, 0,\n",
       "       0, 1, 0, 0, 0, 0, 0, 0, 1, 1, 0, 0, 0, 0, 0, 1, 1, 0, 0, 0, 1, 1,\n",
       "       0, 0, 1, 1, 0, 0, 0, 0, 0, 1, 0, 1, 0, 0, 0, 0, 1, 0, 0, 0, 1, 0,\n",
       "       0, 1, 1, 0, 0, 0, 0, 0, 0, 1, 0, 1, 0, 1, 1, 1, 0, 0, 1, 1, 1, 0,\n",
       "       0, 0, 0, 0, 1, 0, 0, 0, 1, 1, 0, 0, 0, 0, 0, 0, 0, 1, 0, 0, 0, 0,\n",
       "       0, 1, 1, 0, 0, 0, 0, 0, 0, 0, 0, 0, 1, 0, 0, 0, 0, 0, 0, 1, 1, 0,\n",
       "       0, 0, 0, 0, 1, 1, 0, 0, 0, 0, 1, 0, 0, 0, 0, 0, 0, 0, 0, 1, 1, 0,\n",
       "       0, 0, 0, 1, 1, 0, 1, 1, 1, 0, 0, 0, 0, 1, 0, 1, 0, 0, 0, 0, 0, 0,\n",
       "       0, 1], dtype=int64)"
      ]
     },
     "execution_count": 99,
     "metadata": {},
     "output_type": "execute_result"
    }
   ],
   "source": [
    "y_predict"
   ]
  },
  {
   "cell_type": "code",
   "execution_count": 100,
   "id": "248e8404",
   "metadata": {},
   "outputs": [],
   "source": [
    "df1=pd.DataFrame({\"actual\":y_test,\"predicted\":y_predict})"
   ]
  },
  {
   "cell_type": "code",
   "execution_count": 101,
   "id": "3fa214f5",
   "metadata": {},
   "outputs": [
    {
     "data": {
      "text/html": [
       "<div>\n",
       "<style scoped>\n",
       "    .dataframe tbody tr th:only-of-type {\n",
       "        vertical-align: middle;\n",
       "    }\n",
       "\n",
       "    .dataframe tbody tr th {\n",
       "        vertical-align: top;\n",
       "    }\n",
       "\n",
       "    .dataframe thead th {\n",
       "        text-align: right;\n",
       "    }\n",
       "</style>\n",
       "<table border=\"1\" class=\"dataframe\">\n",
       "  <thead>\n",
       "    <tr style=\"text-align: right;\">\n",
       "      <th></th>\n",
       "      <th>actual</th>\n",
       "      <th>predicted</th>\n",
       "    </tr>\n",
       "  </thead>\n",
       "  <tbody>\n",
       "    <tr>\n",
       "      <th>1549</th>\n",
       "      <td>0</td>\n",
       "      <td>0</td>\n",
       "    </tr>\n",
       "    <tr>\n",
       "      <th>1546</th>\n",
       "      <td>0</td>\n",
       "      <td>0</td>\n",
       "    </tr>\n",
       "    <tr>\n",
       "      <th>1179</th>\n",
       "      <td>0</td>\n",
       "      <td>0</td>\n",
       "    </tr>\n",
       "    <tr>\n",
       "      <th>111</th>\n",
       "      <td>0</td>\n",
       "      <td>0</td>\n",
       "    </tr>\n",
       "    <tr>\n",
       "      <th>561</th>\n",
       "      <td>0</td>\n",
       "      <td>0</td>\n",
       "    </tr>\n",
       "    <tr>\n",
       "      <th>...</th>\n",
       "      <td>...</td>\n",
       "      <td>...</td>\n",
       "    </tr>\n",
       "    <tr>\n",
       "      <th>1470</th>\n",
       "      <td>0</td>\n",
       "      <td>0</td>\n",
       "    </tr>\n",
       "    <tr>\n",
       "      <th>336</th>\n",
       "      <td>0</td>\n",
       "      <td>0</td>\n",
       "    </tr>\n",
       "    <tr>\n",
       "      <th>993</th>\n",
       "      <td>0</td>\n",
       "      <td>0</td>\n",
       "    </tr>\n",
       "    <tr>\n",
       "      <th>1714</th>\n",
       "      <td>0</td>\n",
       "      <td>0</td>\n",
       "    </tr>\n",
       "    <tr>\n",
       "      <th>201</th>\n",
       "      <td>1</td>\n",
       "      <td>1</td>\n",
       "    </tr>\n",
       "  </tbody>\n",
       "</table>\n",
       "<p>398 rows × 2 columns</p>\n",
       "</div>"
      ],
      "text/plain": [
       "      actual  predicted\n",
       "1549       0          0\n",
       "1546       0          0\n",
       "1179       0          0\n",
       "111        0          0\n",
       "561        0          0\n",
       "...      ...        ...\n",
       "1470       0          0\n",
       "336        0          0\n",
       "993        0          0\n",
       "1714       0          0\n",
       "201        1          1\n",
       "\n",
       "[398 rows x 2 columns]"
      ]
     },
     "execution_count": 101,
     "metadata": {},
     "output_type": "execute_result"
    }
   ],
   "source": [
    "df1"
   ]
  },
  {
   "cell_type": "code",
   "execution_count": 102,
   "id": "5cd3798a",
   "metadata": {},
   "outputs": [],
   "source": [
    "from sklearn.metrics import confusion_matrix"
   ]
  },
  {
   "cell_type": "code",
   "execution_count": 103,
   "id": "a1fd14bc",
   "metadata": {},
   "outputs": [],
   "source": [
    "from sklearn.metrics import plot_confusion_matrix"
   ]
  },
  {
   "cell_type": "code",
   "execution_count": 104,
   "id": "9db34f2d",
   "metadata": {},
   "outputs": [],
   "source": [
    "perform=confusion_matrix(y_test,y_predict)"
   ]
  },
  {
   "cell_type": "code",
   "execution_count": 105,
   "id": "0132641f",
   "metadata": {},
   "outputs": [
    {
     "data": {
      "text/plain": [
       "array([[239,  14],\n",
       "       [ 53,  92]], dtype=int64)"
      ]
     },
     "execution_count": 105,
     "metadata": {},
     "output_type": "execute_result"
    }
   ],
   "source": [
    "perform"
   ]
  },
  {
   "cell_type": "code",
   "execution_count": 106,
   "id": "919960b0",
   "metadata": {},
   "outputs": [
    {
     "data": {
      "image/png": "[encoded data removed]",
      "text/plain": [
       "<Figure size 432x288 with 2 Axes>"
      ]
     },
     "metadata": {
      "needs_background": "light"
     },
     "output_type": "display_data"
    }
   ],
   "source": [
    "plot_confusion_matrix(model_random,x_test,y_test)\n",
    "plt.show()"
   ]
  },
  {
   "cell_type": "markdown",
   "id": "560f0a62",
   "metadata": {},
   "source": [
    "#### Support Vector Mechine"
   ]
  },
  {
   "cell_type": "code",
   "execution_count": 108,
   "id": "67276616",
   "metadata": {},
   "outputs": [],
   "source": [
    "from sklearn.svm import SVC"
   ]
  },
  {
   "cell_type": "code",
   "execution_count": 109,
   "id": "e08d1dbb",
   "metadata": {},
   "outputs": [],
   "source": [
    "model_sv=SVC()"
   ]
  },
  {
   "cell_type": "code",
   "execution_count": 110,
   "id": "e28f425d",
   "metadata": {},
   "outputs": [
    {
     "data": {
      "text/plain": [
       "SVC()"
      ]
     },
     "execution_count": 110,
     "metadata": {},
     "output_type": "execute_result"
    }
   ],
   "source": [
    "model_sv.fit(x_train,y_train)"
   ]
  },
  {
   "cell_type": "code",
   "execution_count": 111,
   "id": "3baf759a",
   "metadata": {},
   "outputs": [
    {
     "data": {
      "text/plain": [
       "75.87939698492463"
      ]
     },
     "execution_count": 111,
     "metadata": {},
     "output_type": "execute_result"
    }
   ],
   "source": [
    "model_sv.score(x_test,y_test)*100"
   ]
  },
  {
   "cell_type": "markdown",
   "id": "d079b9de",
   "metadata": {},
   "source": [
    "- svm model giving 75.87 percentage accuracy"
   ]
  },
  {
   "cell_type": "code",
   "execution_count": 112,
   "id": "4f51a97a",
   "metadata": {},
   "outputs": [],
   "source": [
    "y_predict=model_sv.predict(x_test)"
   ]
  },
  {
   "cell_type": "code",
   "execution_count": 113,
   "id": "28e02f2f",
   "metadata": {},
   "outputs": [
    {
     "data": {
      "text/plain": [
       "array([0, 0, 0, 0, 0, 0, 0, 0, 0, 0, 0, 0, 0, 0, 0, 0, 0, 0, 0, 0, 0, 0,\n",
       "       0, 0, 0, 0, 0, 0, 1, 0, 0, 0, 0, 0, 0, 0, 0, 0, 0, 0, 0, 0, 0, 1,\n",
       "       0, 0, 0, 0, 0, 0, 0, 0, 0, 0, 0, 0, 0, 0, 0, 0, 0, 0, 1, 1, 0, 0,\n",
       "       0, 0, 0, 0, 0, 0, 0, 0, 0, 0, 0, 1, 0, 0, 0, 0, 0, 0, 0, 1, 0, 0,\n",
       "       0, 0, 0, 0, 0, 0, 1, 1, 1, 0, 0, 0, 0, 0, 0, 0, 0, 0, 0, 0, 0, 0,\n",
       "       0, 0, 0, 0, 0, 1, 0, 0, 0, 0, 1, 0, 0, 1, 0, 0, 0, 0, 0, 0, 0, 0,\n",
       "       0, 0, 0, 0, 0, 0, 0, 0, 0, 0, 0, 0, 0, 0, 0, 0, 1, 0, 0, 0, 1, 0,\n",
       "       0, 1, 0, 1, 1, 0, 0, 0, 0, 0, 1, 0, 0, 0, 0, 1, 0, 1, 0, 0, 0, 0,\n",
       "       0, 0, 0, 0, 0, 0, 0, 0, 0, 0, 0, 0, 0, 0, 1, 0, 1, 0, 0, 0, 0, 0,\n",
       "       0, 0, 0, 0, 0, 0, 0, 1, 1, 0, 1, 1, 0, 0, 0, 0, 0, 0, 0, 1, 0, 0,\n",
       "       0, 0, 0, 0, 0, 0, 1, 1, 0, 0, 0, 0, 0, 0, 0, 0, 1, 0, 0, 0, 0, 0,\n",
       "       0, 0, 0, 0, 0, 0, 0, 1, 1, 0, 0, 0, 0, 0, 0, 1, 0, 0, 0, 0, 1, 0,\n",
       "       0, 0, 1, 1, 0, 0, 0, 0, 0, 1, 0, 1, 0, 0, 0, 0, 0, 0, 0, 0, 1, 0,\n",
       "       0, 1, 1, 0, 0, 0, 0, 0, 0, 0, 0, 1, 0, 1, 0, 0, 0, 0, 1, 1, 1, 0,\n",
       "       0, 0, 0, 0, 1, 0, 0, 0, 0, 0, 0, 0, 0, 0, 0, 0, 0, 1, 0, 0, 0, 0,\n",
       "       0, 0, 0, 0, 0, 0, 0, 0, 0, 0, 0, 0, 0, 0, 0, 0, 0, 0, 0, 1, 1, 0,\n",
       "       0, 0, 0, 0, 0, 0, 0, 0, 0, 0, 0, 0, 0, 0, 0, 0, 0, 0, 0, 0, 1, 0,\n",
       "       0, 0, 0, 0, 1, 0, 1, 1, 1, 0, 0, 0, 0, 0, 0, 0, 0, 0, 0, 0, 0, 0,\n",
       "       0, 0], dtype=int64)"
      ]
     },
     "execution_count": 113,
     "metadata": {},
     "output_type": "execute_result"
    }
   ],
   "source": [
    "y_predict"
   ]
  },
  {
   "cell_type": "code",
   "execution_count": 114,
   "id": "30dad1ee",
   "metadata": {},
   "outputs": [],
   "source": [
    "df2=pd.DataFrame({\"actual\":y_test,\"predicted\":y_predict})"
   ]
  },
  {
   "cell_type": "code",
   "execution_count": 115,
   "id": "a528a515",
   "metadata": {},
   "outputs": [
    {
     "data": {
      "text/html": [
       "<div>\n",
       "<style scoped>\n",
       "    .dataframe tbody tr th:only-of-type {\n",
       "        vertical-align: middle;\n",
       "    }\n",
       "\n",
       "    .dataframe tbody tr th {\n",
       "        vertical-align: top;\n",
       "    }\n",
       "\n",
       "    .dataframe thead th {\n",
       "        text-align: right;\n",
       "    }\n",
       "</style>\n",
       "<table border=\"1\" class=\"dataframe\">\n",
       "  <thead>\n",
       "    <tr style=\"text-align: right;\">\n",
       "      <th></th>\n",
       "      <th>actual</th>\n",
       "      <th>predicted</th>\n",
       "    </tr>\n",
       "  </thead>\n",
       "  <tbody>\n",
       "    <tr>\n",
       "      <th>1549</th>\n",
       "      <td>0</td>\n",
       "      <td>0</td>\n",
       "    </tr>\n",
       "    <tr>\n",
       "      <th>1546</th>\n",
       "      <td>0</td>\n",
       "      <td>0</td>\n",
       "    </tr>\n",
       "    <tr>\n",
       "      <th>1179</th>\n",
       "      <td>0</td>\n",
       "      <td>0</td>\n",
       "    </tr>\n",
       "    <tr>\n",
       "      <th>111</th>\n",
       "      <td>0</td>\n",
       "      <td>0</td>\n",
       "    </tr>\n",
       "    <tr>\n",
       "      <th>561</th>\n",
       "      <td>0</td>\n",
       "      <td>0</td>\n",
       "    </tr>\n",
       "    <tr>\n",
       "      <th>...</th>\n",
       "      <td>...</td>\n",
       "      <td>...</td>\n",
       "    </tr>\n",
       "    <tr>\n",
       "      <th>1470</th>\n",
       "      <td>0</td>\n",
       "      <td>0</td>\n",
       "    </tr>\n",
       "    <tr>\n",
       "      <th>336</th>\n",
       "      <td>0</td>\n",
       "      <td>0</td>\n",
       "    </tr>\n",
       "    <tr>\n",
       "      <th>993</th>\n",
       "      <td>0</td>\n",
       "      <td>0</td>\n",
       "    </tr>\n",
       "    <tr>\n",
       "      <th>1714</th>\n",
       "      <td>0</td>\n",
       "      <td>0</td>\n",
       "    </tr>\n",
       "    <tr>\n",
       "      <th>201</th>\n",
       "      <td>1</td>\n",
       "      <td>0</td>\n",
       "    </tr>\n",
       "  </tbody>\n",
       "</table>\n",
       "<p>398 rows × 2 columns</p>\n",
       "</div>"
      ],
      "text/plain": [
       "      actual  predicted\n",
       "1549       0          0\n",
       "1546       0          0\n",
       "1179       0          0\n",
       "111        0          0\n",
       "561        0          0\n",
       "...      ...        ...\n",
       "1470       0          0\n",
       "336        0          0\n",
       "993        0          0\n",
       "1714       0          0\n",
       "201        1          0\n",
       "\n",
       "[398 rows x 2 columns]"
      ]
     },
     "execution_count": 115,
     "metadata": {},
     "output_type": "execute_result"
    }
   ],
   "source": [
    "df2"
   ]
  },
  {
   "cell_type": "code",
   "execution_count": 116,
   "id": "71d74af4",
   "metadata": {},
   "outputs": [],
   "source": [
    "perform=confusion_matrix(y_test,y_predict)"
   ]
  },
  {
   "cell_type": "code",
   "execution_count": 117,
   "id": "dfa5a1f5",
   "metadata": {},
   "outputs": [
    {
     "data": {
      "text/plain": [
       "array([[250,   3],\n",
       "       [ 93,  52]], dtype=int64)"
      ]
     },
     "execution_count": 117,
     "metadata": {},
     "output_type": "execute_result"
    }
   ],
   "source": [
    "perform"
   ]
  },
  {
   "cell_type": "code",
   "execution_count": 118,
   "id": "c8dc7ed4",
   "metadata": {},
   "outputs": [
    {
     "data": {
      "image/png": "[encoded data removed]",
      "text/plain": [
       "<Figure size 432x288 with 2 Axes>"
      ]
     },
     "metadata": {
      "needs_background": "light"
     },
     "output_type": "display_data"
    }
   ],
   "source": [
    "plot_confusion_matrix(model_sv,x_test,y_test)\n",
    "plt.show()"
   ]
  },
  {
   "cell_type": "markdown",
   "id": "9bd76b47",
   "metadata": {},
   "source": [
    "#### Decision Tree Classifier"
   ]
  },
  {
   "cell_type": "code",
   "execution_count": 119,
   "id": "0fb02392",
   "metadata": {},
   "outputs": [],
   "source": [
    "from sklearn.tree import DecisionTreeClassifier"
   ]
  },
  {
   "cell_type": "code",
   "execution_count": 120,
   "id": "865734c3",
   "metadata": {},
   "outputs": [],
   "source": [
    "model_tree=DecisionTreeClassifier()"
   ]
  },
  {
   "cell_type": "code",
   "execution_count": 121,
   "id": "0f5748fe",
   "metadata": {},
   "outputs": [
    {
     "data": {
      "text/plain": [
       "DecisionTreeClassifier()"
      ]
     },
     "execution_count": 121,
     "metadata": {},
     "output_type": "execute_result"
    }
   ],
   "source": [
    "model_tree.fit(x_test,y_test)"
   ]
  },
  {
   "cell_type": "code",
   "execution_count": 122,
   "id": "d3f203e0",
   "metadata": {},
   "outputs": [
    {
     "data": {
      "text/plain": [
       "92.21105527638191"
      ]
     },
     "execution_count": 122,
     "metadata": {},
     "output_type": "execute_result"
    }
   ],
   "source": [
    "model_tree.score(x_test,y_test)*100"
   ]
  },
  {
   "cell_type": "markdown",
   "id": "1cd1248d",
   "metadata": {},
   "source": [
    "- Decision Tree giving 92.21 percent accuracy"
   ]
  },
  {
   "cell_type": "code",
   "execution_count": 123,
   "id": "ab0c5c88",
   "metadata": {},
   "outputs": [],
   "source": [
    "y_predict=model_tree.predict(x_test)"
   ]
  },
  {
   "cell_type": "code",
   "execution_count": 124,
   "id": "36c2e6b1",
   "metadata": {},
   "outputs": [
    {
     "data": {
      "text/plain": [
       "array([0, 0, 0, 0, 0, 0, 1, 0, 0, 1, 0, 0, 0, 0, 0, 0, 0, 1, 0, 0, 0, 0,\n",
       "       0, 0, 0, 0, 0, 0, 0, 0, 0, 0, 0, 1, 1, 0, 0, 0, 1, 0, 0, 0, 0, 1,\n",
       "       0, 0, 0, 0, 0, 1, 1, 0, 0, 0, 0, 0, 0, 1, 1, 0, 0, 0, 1, 1, 0, 0,\n",
       "       0, 0, 1, 0, 1, 1, 1, 0, 0, 0, 0, 1, 0, 0, 0, 0, 1, 0, 0, 1, 0, 0,\n",
       "       0, 0, 0, 0, 0, 0, 1, 1, 1, 0, 0, 1, 1, 0, 0, 0, 0, 0, 1, 0, 0, 0,\n",
       "       1, 0, 0, 0, 0, 1, 0, 0, 0, 0, 1, 0, 0, 1, 0, 0, 1, 1, 0, 0, 0, 0,\n",
       "       0, 1, 0, 0, 0, 0, 1, 1, 0, 0, 0, 0, 0, 0, 0, 0, 1, 0, 0, 0, 1, 1,\n",
       "       0, 1, 1, 1, 1, 0, 0, 0, 0, 0, 0, 0, 0, 0, 0, 1, 0, 1, 0, 0, 0, 0,\n",
       "       0, 0, 0, 0, 1, 0, 1, 0, 0, 0, 0, 0, 0, 0, 1, 0, 1, 1, 1, 0, 1, 1,\n",
       "       0, 0, 0, 1, 1, 1, 0, 1, 1, 0, 1, 1, 0, 1, 0, 0, 0, 0, 0, 1, 0, 0,\n",
       "       0, 0, 1, 0, 1, 0, 1, 1, 0, 0, 0, 0, 0, 0, 1, 0, 1, 0, 0, 0, 0, 0,\n",
       "       0, 1, 0, 0, 0, 0, 0, 1, 1, 1, 1, 0, 0, 0, 0, 1, 1, 0, 0, 0, 1, 0,\n",
       "       0, 0, 1, 1, 1, 0, 1, 0, 0, 1, 0, 1, 0, 0, 0, 0, 1, 0, 1, 0, 1, 0,\n",
       "       0, 1, 0, 0, 1, 0, 0, 0, 0, 1, 0, 1, 0, 1, 0, 1, 1, 0, 1, 1, 1, 0,\n",
       "       0, 0, 0, 0, 1, 0, 0, 0, 0, 0, 1, 0, 0, 0, 0, 0, 0, 1, 0, 0, 0, 0,\n",
       "       0, 1, 1, 0, 0, 0, 0, 0, 0, 0, 0, 0, 1, 0, 0, 0, 0, 0, 0, 1, 1, 0,\n",
       "       0, 1, 0, 0, 1, 0, 0, 0, 0, 0, 1, 0, 0, 0, 0, 0, 0, 0, 0, 1, 1, 0,\n",
       "       0, 0, 0, 1, 1, 0, 1, 1, 1, 0, 1, 0, 0, 1, 0, 1, 0, 0, 0, 0, 0, 0,\n",
       "       0, 1], dtype=int64)"
      ]
     },
     "execution_count": 124,
     "metadata": {},
     "output_type": "execute_result"
    }
   ],
   "source": [
    "y_predict"
   ]
  },
  {
   "cell_type": "code",
   "execution_count": 125,
   "id": "e83a769d",
   "metadata": {},
   "outputs": [],
   "source": [
    "df3=pd.DataFrame({\"actual\":y_test,\"predicted\":y_predict})"
   ]
  },
  {
   "cell_type": "code",
   "execution_count": 126,
   "id": "38a92213",
   "metadata": {},
   "outputs": [
    {
     "data": {
      "text/html": [
       "<div>\n",
       "<style scoped>\n",
       "    .dataframe tbody tr th:only-of-type {\n",
       "        vertical-align: middle;\n",
       "    }\n",
       "\n",
       "    .dataframe tbody tr th {\n",
       "        vertical-align: top;\n",
       "    }\n",
       "\n",
       "    .dataframe thead th {\n",
       "        text-align: right;\n",
       "    }\n",
       "</style>\n",
       "<table border=\"1\" class=\"dataframe\">\n",
       "  <thead>\n",
       "    <tr style=\"text-align: right;\">\n",
       "      <th></th>\n",
       "      <th>actual</th>\n",
       "      <th>predicted</th>\n",
       "    </tr>\n",
       "  </thead>\n",
       "  <tbody>\n",
       "    <tr>\n",
       "      <th>1549</th>\n",
       "      <td>0</td>\n",
       "      <td>0</td>\n",
       "    </tr>\n",
       "    <tr>\n",
       "      <th>1546</th>\n",
       "      <td>0</td>\n",
       "      <td>0</td>\n",
       "    </tr>\n",
       "    <tr>\n",
       "      <th>1179</th>\n",
       "      <td>0</td>\n",
       "      <td>0</td>\n",
       "    </tr>\n",
       "    <tr>\n",
       "      <th>111</th>\n",
       "      <td>0</td>\n",
       "      <td>0</td>\n",
       "    </tr>\n",
       "    <tr>\n",
       "      <th>561</th>\n",
       "      <td>0</td>\n",
       "      <td>0</td>\n",
       "    </tr>\n",
       "    <tr>\n",
       "      <th>...</th>\n",
       "      <td>...</td>\n",
       "      <td>...</td>\n",
       "    </tr>\n",
       "    <tr>\n",
       "      <th>1470</th>\n",
       "      <td>0</td>\n",
       "      <td>0</td>\n",
       "    </tr>\n",
       "    <tr>\n",
       "      <th>336</th>\n",
       "      <td>0</td>\n",
       "      <td>0</td>\n",
       "    </tr>\n",
       "    <tr>\n",
       "      <th>993</th>\n",
       "      <td>0</td>\n",
       "      <td>0</td>\n",
       "    </tr>\n",
       "    <tr>\n",
       "      <th>1714</th>\n",
       "      <td>0</td>\n",
       "      <td>0</td>\n",
       "    </tr>\n",
       "    <tr>\n",
       "      <th>201</th>\n",
       "      <td>1</td>\n",
       "      <td>1</td>\n",
       "    </tr>\n",
       "  </tbody>\n",
       "</table>\n",
       "<p>398 rows × 2 columns</p>\n",
       "</div>"
      ],
      "text/plain": [
       "      actual  predicted\n",
       "1549       0          0\n",
       "1546       0          0\n",
       "1179       0          0\n",
       "111        0          0\n",
       "561        0          0\n",
       "...      ...        ...\n",
       "1470       0          0\n",
       "336        0          0\n",
       "993        0          0\n",
       "1714       0          0\n",
       "201        1          1\n",
       "\n",
       "[398 rows x 2 columns]"
      ]
     },
     "execution_count": 126,
     "metadata": {},
     "output_type": "execute_result"
    }
   ],
   "source": [
    "df3"
   ]
  },
  {
   "cell_type": "code",
   "execution_count": 127,
   "id": "ab17ea28",
   "metadata": {},
   "outputs": [],
   "source": [
    "perform=confusion_matrix(y_test,y_predict)"
   ]
  },
  {
   "cell_type": "code",
   "execution_count": 128,
   "id": "4df9fa6d",
   "metadata": {},
   "outputs": [
    {
     "data": {
      "text/plain": [
       "array([[252,   1],\n",
       "       [ 30, 115]], dtype=int64)"
      ]
     },
     "execution_count": 128,
     "metadata": {},
     "output_type": "execute_result"
    }
   ],
   "source": [
    "perform"
   ]
  },
  {
   "cell_type": "code",
   "execution_count": 129,
   "id": "f4a7195b",
   "metadata": {},
   "outputs": [
    {
     "data": {
      "image/png": "[encoded data removed]",
      "text/plain": [
       "<Figure size 432x288 with 2 Axes>"
      ]
     },
     "metadata": {
      "needs_background": "light"
     },
     "output_type": "display_data"
    }
   ],
   "source": [
    "plot_confusion_matrix(model_tree,x_test,y_test)\n",
    "plt.show()"
   ]
  },
  {
   "cell_type": "markdown",
   "id": "5b5a5d64",
   "metadata": {},
   "source": [
    "#### Knearest Neighbour"
   ]
  },
  {
   "cell_type": "code",
   "execution_count": 130,
   "id": "4a2bfc51",
   "metadata": {},
   "outputs": [],
   "source": [
    "from sklearn.neighbors import KNeighborsClassifier"
   ]
  },
  {
   "cell_type": "code",
   "execution_count": 131,
   "id": "49feb56a",
   "metadata": {},
   "outputs": [],
   "source": [
    "model_knn=KNeighborsClassifier()"
   ]
  },
  {
   "cell_type": "code",
   "execution_count": 132,
   "id": "d9e4d1c2",
   "metadata": {},
   "outputs": [
    {
     "data": {
      "text/plain": [
       "KNeighborsClassifier()"
      ]
     },
     "execution_count": 132,
     "metadata": {},
     "output_type": "execute_result"
    }
   ],
   "source": [
    "model_knn.fit(x_test,y_test)"
   ]
  },
  {
   "cell_type": "code",
   "execution_count": 133,
   "id": "4b639482",
   "metadata": {},
   "outputs": [
    {
     "data": {
      "text/plain": [
       "84.17085427135679"
      ]
     },
     "execution_count": 133,
     "metadata": {},
     "output_type": "execute_result"
    }
   ],
   "source": [
    "model_knn.score(x_test,y_test)*100"
   ]
  },
  {
   "cell_type": "markdown",
   "id": "2daa2643",
   "metadata": {},
   "source": [
    "- Knearest neighbour providing 84.17 percent accuracy"
   ]
  },
  {
   "cell_type": "code",
   "execution_count": 134,
   "id": "b41bf921",
   "metadata": {},
   "outputs": [],
   "source": [
    "y_predict=model_knn.predict(x_test)"
   ]
  },
  {
   "cell_type": "code",
   "execution_count": 135,
   "id": "30fa88ad",
   "metadata": {},
   "outputs": [
    {
     "data": {
      "text/plain": [
       "array([0, 0, 0, 0, 0, 0, 1, 0, 0, 1, 0, 0, 0, 0, 0, 0, 0, 0, 0, 0, 0, 0,\n",
       "       0, 0, 0, 0, 0, 0, 1, 0, 0, 0, 0, 1, 1, 0, 0, 0, 1, 0, 0, 0, 0, 1,\n",
       "       0, 0, 0, 0, 0, 0, 0, 0, 0, 0, 0, 0, 0, 1, 0, 0, 0, 0, 1, 1, 0, 0,\n",
       "       0, 0, 0, 0, 1, 0, 1, 0, 0, 0, 0, 1, 0, 0, 0, 0, 1, 0, 0, 1, 0, 0,\n",
       "       0, 1, 0, 0, 0, 0, 1, 1, 1, 0, 0, 1, 0, 0, 0, 0, 0, 0, 0, 0, 0, 0,\n",
       "       0, 0, 0, 0, 0, 1, 0, 0, 0, 0, 1, 0, 0, 1, 0, 0, 1, 1, 0, 0, 0, 0,\n",
       "       0, 1, 0, 0, 0, 0, 1, 0, 0, 0, 0, 0, 0, 0, 0, 0, 1, 0, 0, 0, 1, 1,\n",
       "       0, 1, 0, 1, 1, 0, 0, 0, 0, 0, 1, 0, 0, 0, 0, 1, 0, 1, 0, 0, 0, 0,\n",
       "       0, 0, 0, 0, 1, 0, 0, 0, 0, 0, 0, 0, 0, 0, 1, 0, 1, 1, 1, 0, 1, 0,\n",
       "       0, 0, 1, 1, 1, 0, 0, 1, 1, 0, 1, 1, 0, 0, 0, 0, 0, 0, 0, 1, 0, 0,\n",
       "       0, 0, 1, 0, 1, 0, 1, 1, 0, 0, 0, 0, 0, 0, 1, 0, 1, 0, 0, 0, 0, 0,\n",
       "       0, 1, 0, 0, 0, 0, 1, 1, 1, 1, 0, 0, 0, 0, 0, 1, 1, 0, 0, 0, 1, 0,\n",
       "       0, 0, 1, 1, 0, 0, 0, 0, 0, 1, 0, 1, 0, 0, 0, 0, 1, 0, 0, 0, 1, 0,\n",
       "       0, 1, 1, 0, 0, 0, 0, 0, 0, 1, 0, 1, 0, 1, 1, 1, 0, 0, 1, 1, 1, 0,\n",
       "       0, 0, 0, 0, 0, 0, 0, 0, 0, 0, 0, 0, 0, 0, 0, 0, 0, 1, 0, 0, 0, 1,\n",
       "       0, 1, 1, 0, 0, 0, 0, 0, 0, 0, 0, 0, 1, 0, 0, 0, 0, 0, 0, 1, 1, 0,\n",
       "       0, 0, 0, 0, 1, 0, 0, 0, 0, 0, 1, 0, 0, 0, 0, 0, 0, 0, 0, 1, 0, 0,\n",
       "       0, 0, 0, 1, 1, 0, 1, 1, 1, 0, 1, 0, 0, 1, 0, 1, 0, 0, 0, 0, 1, 0,\n",
       "       0, 1], dtype=int64)"
      ]
     },
     "execution_count": 135,
     "metadata": {},
     "output_type": "execute_result"
    }
   ],
   "source": [
    "y_predict"
   ]
  },
  {
   "cell_type": "code",
   "execution_count": 136,
   "id": "a93ea8ad",
   "metadata": {},
   "outputs": [],
   "source": [
    "df0=df3=pd.DataFrame({\"actual\":y_test,\"predicted\":y_predict})"
   ]
  },
  {
   "cell_type": "code",
   "execution_count": 137,
   "id": "253d669f",
   "metadata": {},
   "outputs": [
    {
     "data": {
      "text/html": [
       "<div>\n",
       "<style scoped>\n",
       "    .dataframe tbody tr th:only-of-type {\n",
       "        vertical-align: middle;\n",
       "    }\n",
       "\n",
       "    .dataframe tbody tr th {\n",
       "        vertical-align: top;\n",
       "    }\n",
       "\n",
       "    .dataframe thead th {\n",
       "        text-align: right;\n",
       "    }\n",
       "</style>\n",
       "<table border=\"1\" class=\"dataframe\">\n",
       "  <thead>\n",
       "    <tr style=\"text-align: right;\">\n",
       "      <th></th>\n",
       "      <th>actual</th>\n",
       "      <th>predicted</th>\n",
       "    </tr>\n",
       "  </thead>\n",
       "  <tbody>\n",
       "    <tr>\n",
       "      <th>1549</th>\n",
       "      <td>0</td>\n",
       "      <td>0</td>\n",
       "    </tr>\n",
       "    <tr>\n",
       "      <th>1546</th>\n",
       "      <td>0</td>\n",
       "      <td>0</td>\n",
       "    </tr>\n",
       "    <tr>\n",
       "      <th>1179</th>\n",
       "      <td>0</td>\n",
       "      <td>0</td>\n",
       "    </tr>\n",
       "    <tr>\n",
       "      <th>111</th>\n",
       "      <td>0</td>\n",
       "      <td>0</td>\n",
       "    </tr>\n",
       "    <tr>\n",
       "      <th>561</th>\n",
       "      <td>0</td>\n",
       "      <td>0</td>\n",
       "    </tr>\n",
       "    <tr>\n",
       "      <th>...</th>\n",
       "      <td>...</td>\n",
       "      <td>...</td>\n",
       "    </tr>\n",
       "    <tr>\n",
       "      <th>1470</th>\n",
       "      <td>0</td>\n",
       "      <td>0</td>\n",
       "    </tr>\n",
       "    <tr>\n",
       "      <th>336</th>\n",
       "      <td>0</td>\n",
       "      <td>1</td>\n",
       "    </tr>\n",
       "    <tr>\n",
       "      <th>993</th>\n",
       "      <td>0</td>\n",
       "      <td>0</td>\n",
       "    </tr>\n",
       "    <tr>\n",
       "      <th>1714</th>\n",
       "      <td>0</td>\n",
       "      <td>0</td>\n",
       "    </tr>\n",
       "    <tr>\n",
       "      <th>201</th>\n",
       "      <td>1</td>\n",
       "      <td>1</td>\n",
       "    </tr>\n",
       "  </tbody>\n",
       "</table>\n",
       "<p>398 rows × 2 columns</p>\n",
       "</div>"
      ],
      "text/plain": [
       "      actual  predicted\n",
       "1549       0          0\n",
       "1546       0          0\n",
       "1179       0          0\n",
       "111        0          0\n",
       "561        0          0\n",
       "...      ...        ...\n",
       "1470       0          0\n",
       "336        0          1\n",
       "993        0          0\n",
       "1714       0          0\n",
       "201        1          1\n",
       "\n",
       "[398 rows x 2 columns]"
      ]
     },
     "execution_count": 137,
     "metadata": {},
     "output_type": "execute_result"
    }
   ],
   "source": [
    "df0"
   ]
  },
  {
   "cell_type": "code",
   "execution_count": 138,
   "id": "2a58dfb1",
   "metadata": {},
   "outputs": [],
   "source": [
    "perform=confusion_matrix(y_test,y_predict)"
   ]
  },
  {
   "cell_type": "code",
   "execution_count": 139,
   "id": "ed0b4ea5",
   "metadata": {},
   "outputs": [
    {
     "data": {
      "text/plain": [
       "array([[244,   9],\n",
       "       [ 54,  91]], dtype=int64)"
      ]
     },
     "execution_count": 139,
     "metadata": {},
     "output_type": "execute_result"
    }
   ],
   "source": [
    "perform"
   ]
  },
  {
   "cell_type": "code",
   "execution_count": 140,
   "id": "17f31451",
   "metadata": {},
   "outputs": [
    {
     "data": {
      "image/png": "[encoded data removed]",
      "text/plain": [
       "<Figure size 432x288 with 2 Axes>"
      ]
     },
     "metadata": {
      "needs_background": "light"
     },
     "output_type": "display_data"
    }
   ],
   "source": [
    "plot_confusion_matrix(model_knn,x_test,y_test)\n",
    "plt.show()"
   ]
  },
  {
   "cell_type": "markdown",
   "id": "a2c9e3b3",
   "metadata": {},
   "source": [
    "### Conclusion\n",
    "\n",
    "- In this Travel insurance prediction dataset the target variable is in the form of catogory\n",
    "- 5 classification model is checked with this dataset like logistic regresion,randomforest,svm,knn,Decisiontree\n",
    "- from the above model the Decision got high accuracy compared with other 4,it around 92.21 %.\n",
    "- So the best model fit to this dataset is considered as Decision tree"
   ]
  },
  {
   "cell_type": "code",
   "execution_count": null,
   "id": "7fc54bac",
   "metadata": {},
   "outputs": [],
   "source": []
  }
 ],
 "metadata": {
  "kernelspec": {
   "display_name": "Python 3 (ipykernel)",
   "language": "python",
   "name": "python3"
  },
  "language_info": {
   "codemirror_mode": {
    "name": "ipython",
    "version": 3
   },
   "file_extension": ".py",
   "mimetype": "text/x-python",
   "name": "python",
   "nbconvert_exporter": "python",
   "pygments_lexer": "ipython3",
   "version": "3.9.12"
  }
 },
 "nbformat": 4,
 "nbformat_minor": 5
}
